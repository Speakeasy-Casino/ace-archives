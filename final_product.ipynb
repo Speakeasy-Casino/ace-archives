{
 "cells": [
  {
   "cell_type": "code",
   "execution_count": 1,
   "id": "a130408d-2b07-472f-b790-5e215fb1defb",
   "metadata": {
    "tags": []
   },
   "outputs": [],
   "source": [
    "import pandas as pd\n",
    "import numpy as np\n",
    "import seaborn as sns\n",
    "import matplotlib.pyplot as plt\n",
    "\n",
    "from acquire import *\n",
    "from prepare_nlp_josh import *\n",
    "from modeling import *\n",
    "import env"
   ]
  },
  {
   "cell_type": "code",
   "execution_count": 2,
   "id": "a2d63046-04ff-4e36-a64c-1a244f42fe17",
   "metadata": {
    "tags": []
   },
   "outputs": [],
   "source": [
    "#These download may need to be run for the NLTK library:\n",
    "\n",
    "#nltk.download('omw-1.4')\n",
    "#nltk.download(\"punkt\")\n",
    "#nltk.download(\"stopwords\")\n",
    "#nltk.download('averaged_perceptron_tagger')\n",
    "#nltk.download('tagsets')\n",
    "#nltk.download(\"maxent_ne_chunker\")\n",
    "#nltk.download(\"words\")\n",
    "#nltk.download(\"book\") #big download"
   ]
  },
  {
   "cell_type": "code",
   "execution_count": 3,
   "id": "390e8460-3b70-4bd6-ba72-0808488095bf",
   "metadata": {},
   "outputs": [],
   "source": [
    "#Get a list of github repo names\n",
    "links = get_links()"
   ]
  },
  {
   "cell_type": "code",
   "execution_count": 4,
   "id": "c9ad7f0f-baba-447e-887f-ee4c788c7440",
   "metadata": {},
   "outputs": [],
   "source": [
    "#Run this to get new data\n",
    "df = get_repos(links.href)"
   ]
  },
  {
   "cell_type": "code",
   "execution_count": 5,
   "id": "46d96cc4-28f9-482c-b8c6-260b6666a262",
   "metadata": {},
   "outputs": [],
   "source": [
    "#Performs cleaning, tokenization and stemming\n",
    "df = big_func_to_pre_data(df)"
   ]
  },
  {
   "cell_type": "code",
   "execution_count": 6,
   "id": "510ef4ca-b5cf-49f3-ad40-7674a97c217d",
   "metadata": {},
   "outputs": [],
   "source": [
    "#Additional stopwords\n",
    "more_stopwords = ['stopswords', 'blackjack', 'java', 'cards', 'split', 'ace', 'variables', 'conditional', 'statements', 'loops', 'functions', 'object-oriented programming', 'syntax', 'comments', 'libraries', 'frameworks']"
   ]
  },
  {
   "cell_type": "code",
   "execution_count": 7,
   "id": "36d50dae-1634-4ca4-a878-6f2b80efc2bc",
   "metadata": {},
   "outputs": [],
   "source": [
    "#Removes stopwords\n",
    "df['readme_stem_no_swords'] = df['readme_stem'].apply(remove_stopwords, extra_words=more_stopwords)"
   ]
  },
  {
   "cell_type": "markdown",
   "id": "92da7e15-1c55-475a-a91c-2236594167a0",
   "metadata": {},
   "source": [
    "### Split data"
   ]
  },
  {
   "cell_type": "code",
   "execution_count": 8,
   "id": "1285bbb0-1d5d-4cc5-88b8-2e9842e2b26c",
   "metadata": {},
   "outputs": [],
   "source": [
    "#Seperates data for exploration and testing\n",
    "train, val, test = train_validate(df)"
   ]
  },
  {
   "cell_type": "code",
   "execution_count": 9,
   "id": "e26cbe14-6c4a-471c-9b6c-d397c1d9c6e7",
   "metadata": {},
   "outputs": [],
   "source": [
    "#Sets global variable to pass into funcitons\n",
    "target_col = \"language\""
   ]
  },
  {
   "cell_type": "code",
   "execution_count": 10,
   "id": "88cd5654-e680-4b95-b050-67b827a14402",
   "metadata": {},
   "outputs": [],
   "source": [
    "#Seperates target column for modeling\n",
    "X_train, y_train, X_val, y_val, X_test, y_test = train_val_test(train, val, test, target_col)"
   ]
  },
  {
   "cell_type": "markdown",
   "id": "f41ea304-dc9b-4d3c-a1d4-c6dae4b73c57",
   "metadata": {},
   "source": [
    "### Explore the data"
   ]
  },
  {
   "cell_type": "code",
   "execution_count": null,
   "id": "afbd4924-8e19-4088-a2f5-c501dd793b67",
   "metadata": {},
   "outputs": [],
   "source": []
  },
  {
   "cell_type": "code",
   "execution_count": null,
   "id": "9bcfc0f5-1fa1-484c-b63a-85cfce667757",
   "metadata": {},
   "outputs": [],
   "source": []
  },
  {
   "cell_type": "markdown",
   "id": "9a9387e7-5af3-4d56-af46-7b0ead5e3057",
   "metadata": {},
   "source": [
    "###  Logistic Regression Modeling"
   ]
  },
  {
   "cell_type": "code",
   "execution_count": 11,
   "id": "651529a3-3262-4b30-a0c0-da2e8ec5f3ac",
   "metadata": {},
   "outputs": [],
   "source": [
    "X_train, X_val, X_test = vectorize_data(X_train, X_val, X_test)"
   ]
  },
  {
   "cell_type": "code",
   "execution_count": 12,
   "id": "b61b27a3-710b-4522-a66d-f82ddbbf9258",
   "metadata": {},
   "outputs": [
    {
     "name": "stdout",
     "output_type": "stream",
     "text": [
      "Accuracy for Logistic Regression classifier on training set:   0.9222\n",
      "Accuracy for Logistic Regression classifier on validation set: 0.7417\n"
     ]
    }
   ],
   "source": [
    "train_score, val_score = lr_mod(X_train, y_train, X_val, y_val, print_scores = True)"
   ]
  },
  {
   "cell_type": "markdown",
   "id": "aa9c225f-45bb-482e-b88f-eae9b1b6c117",
   "metadata": {},
   "source": [
    "### Decission Tree Modeling"
   ]
  },
  {
   "cell_type": "code",
   "execution_count": 13,
   "id": "377203b1-6582-48d5-b201-dcc953d514ba",
   "metadata": {},
   "outputs": [
    {
     "name": "stdout",
     "output_type": "stream",
     "text": [
      "Accuracy for Decision Tree classifier on training set:   0.8389\n",
      "Accuracy for Decision Tree classifier on validation set: 0.7750\n"
     ]
    }
   ],
   "source": [
    "train_score, val_score = dec_tree(X_train, y_train, X_val, y_val, print_scores =True)"
   ]
  },
  {
   "cell_type": "markdown",
   "id": "0beb0cb0-1dac-411d-8d33-378ed3d3fdb7",
   "metadata": {},
   "source": [
    "### Random Forest Modeling"
   ]
  },
  {
   "cell_type": "code",
   "execution_count": 14,
   "id": "0f5acf2d-389a-49bf-83bb-c889cde199e4",
   "metadata": {},
   "outputs": [
    {
     "name": "stdout",
     "output_type": "stream",
     "text": [
      "Accuracy for Random Forest classifier on training set:   0.8722\n",
      "Accuracy for Random Forest classifier on validation set: 0.7583\n"
     ]
    }
   ],
   "source": [
    "train_score, val_score = rand_forest(X_train, y_train, X_val, y_val, print_scores =True)"
   ]
  },
  {
   "cell_type": "code",
   "execution_count": 15,
   "id": "0d939411-f1e2-4a1e-b88f-dcfd643e32db",
   "metadata": {},
   "outputs": [
    {
     "data": {
      "text/plain": [
       "0.5444"
      ]
     },
     "execution_count": 15,
     "metadata": {},
     "output_type": "execute_result"
    }
   ],
   "source": [
    "round(len(train[train['language'] == 'Ruby'])/len(train),4)"
   ]
  },
  {
   "cell_type": "code",
   "execution_count": null,
   "id": "95743502-532c-45dc-a8d6-d7641ea26660",
   "metadata": {},
   "outputs": [],
   "source": []
  },
  {
   "cell_type": "code",
   "execution_count": null,
   "id": "0c756a89-c6fb-4dff-9674-40afdbd602ca",
   "metadata": {},
   "outputs": [],
   "source": []
  },
  {
   "cell_type": "code",
   "execution_count": null,
   "id": "50115ecc-1614-4613-844f-deba5841af84",
   "metadata": {},
   "outputs": [],
   "source": []
  }
 ],
 "metadata": {
  "kernelspec": {
   "display_name": "Python 3 (ipykernel)",
   "language": "python",
   "name": "python3"
  },
  "language_info": {
   "codemirror_mode": {
    "name": "ipython",
    "version": 3
   },
   "file_extension": ".py",
   "mimetype": "text/x-python",
   "name": "python",
   "nbconvert_exporter": "python",
   "pygments_lexer": "ipython3",
   "version": "3.9.15"
  }
 },
 "nbformat": 4,
 "nbformat_minor": 5
}
