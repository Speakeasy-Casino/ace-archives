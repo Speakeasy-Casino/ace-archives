{
 "cells": [
  {
   "cell_type": "code",
   "execution_count": 1,
   "id": "2723bcf4-0473-4f6b-9121-5288f362166b",
   "metadata": {
    "tags": []
   },
   "outputs": [
    {
     "name": "stdout",
     "output_type": "stream",
     "text": [
      "*** Introductory Examples for the NLTK Book ***\n",
      "Loading text1, ..., text9 and sent1, ..., sent9\n",
      "Type the name of the text or sentence to view it.\n",
      "Type: 'texts()' or 'sents()' to list the materials.\n",
      "text1: Moby Dick by Herman Melville 1851\n",
      "text2: Sense and Sensibility by Jane Austen 1811\n",
      "text3: The Book of Genesis\n",
      "text4: Inaugural Address Corpus\n",
      "text5: Chat Corpus\n",
      "text6: Monty Python and the Holy Grail\n",
      "text7: Wall Street Journal\n",
      "text8: Personals Corpus\n",
      "text9: The Man Who Was Thursday by G . K . Chesterton 1908\n"
     ]
    }
   ],
   "source": [
    "import pandas as pd\n",
    "import numpy as np\n",
    "import seaborn as sns\n",
    "import matplotlib.pyplot as plt\n",
    "from acquire import *\n",
    "from prepare_nlp_josh import *\n",
    "import env\n",
    "import json\n",
    "from requests import get\n",
    "from json.decoder import JSONDecodeError\n",
    "from bs4 import BeautifulSoup\n",
    "import time\n",
    "from tqdm import tqdm\n",
    "\n",
    "import nltk\n",
    "from nltk.corpus import stopwords\n",
    "from nltk.tokenize.toktok import ToktokTokenizer\n",
    "from nltk.tokenize import sent_tokenize, word_tokenize\n",
    "from nltk.stem import PorterStemmer, SnowballStemmer\n",
    "#You can also call the Porter by nltk.porter.PorterStemmer\n",
    "from nltk.stem.snowball import EnglishStemmer\n",
    "\n",
    "\n",
    "from nltk.stem import WordNetLemmatizer\n",
    "from nltk.book import *\n",
    "from nltk.text import Text\n",
    "\n",
    "\n",
    "import env\n",
    "\n",
    "#These download may need to be run for the NLTK library:\n",
    "\n",
    "#nltk.download('omw-1.4')\n",
    "#nltk.download(\"punkt\")\n",
    "#nltk.download(\"stopwords\")\n",
    "#nltk.download('averaged_perceptron_tagger')\n",
    "#nltk.download('tagsets')\n",
    "#nltk.download(\"maxent_ne_chunker\")\n",
    "#nltk.download(\"words\")\n",
    "#nltk.download(\"book\") #big download"
   ]
  },
  {
   "cell_type": "code",
   "execution_count": 2,
   "id": "e59d47eb-ee24-4008-8be0-6b0f13534548",
   "metadata": {
    "tags": []
   },
   "outputs": [],
   "source": [
    "links = get_links()\n",
    "\n",
    "#When you get new links, delete this line.\n",
    "#links.href = links.href.str[1:]\n",
    "\n",
    "\n",
    "\n",
    "#Run this to get new data\n",
    "df = get_repos(links.href)\n",
    "\n",
    "#Run to save the data\n",
    "#df.to_csv(\"origional_data.csv\", index=False)\n",
    "\n",
    "df.dropna(inplace=True)\n",
    "\n",
    "df = clean_languages(df)"
   ]
  },
  {
   "cell_type": "code",
   "execution_count": 10,
   "id": "0ad66d4a-a48a-4936-bcf2-8a2a2a60915f",
   "metadata": {},
   "outputs": [],
   "source": [
    "df['readme_clean'] = df['readme_contents'].apply(basic_clean)"
   ]
  },
  {
   "cell_type": "code",
   "execution_count": 11,
   "id": "00fe5b88-1c93-4d81-b45b-6c8db208fffe",
   "metadata": {},
   "outputs": [
    {
     "data": {
      "text/plain": [
       "repo\n",
       "learn-co-students/simple-blackjack-cli-prework                simplified blackjack  procedural\\n\\n learning...\n",
       "datamllab/rlcard                                              rlcard a toolkit for reinforcement learning i...\n",
       "learn-co-students/simple-blackjack-cli-001-prework-web        simplified blackjack  procedural\\n\\n learning...\n",
       "cocos-creator/tutorial-blackjack-deprecated                   21  cocos creator \\n\\n21 cocos creator  demo ...\n",
       "learn-co-students/simple-blackjack-cli-online-web-prework     simplified blackjack  procedural\\n\\n learning...\n",
       "Name: readme_clean, dtype: object"
      ]
     },
     "execution_count": 11,
     "metadata": {},
     "output_type": "execute_result"
    }
   ],
   "source": [
    "df['readme_clean'].head()"
   ]
  },
  {
   "cell_type": "markdown",
   "id": "5ce9a817-a5e9-4034-8fbf-4c6bead560f6",
   "metadata": {},
   "source": [
    "### Tokenize words"
   ]
  },
  {
   "cell_type": "code",
   "execution_count": 12,
   "id": "677ac010-3ab6-44e2-8280-03ac5fffdd9d",
   "metadata": {},
   "outputs": [],
   "source": [
    "df['readme_clean'] = df['readme_clean'].apply(tokenized, tokenize_tool=2)"
   ]
  },
  {
   "cell_type": "code",
   "execution_count": 13,
   "id": "3e584e1b-eb3e-4ff3-b919-618f302ea066",
   "metadata": {},
   "outputs": [
    {
     "data": {
      "text/plain": [
       "repo\n",
       "learn-co-students/simple-blackjack-cli-prework               simplified blackjack procedural learning goals...\n",
       "datamllab/rlcard                                             rlcard a toolkit for reinforcement learning in...\n",
       "learn-co-students/simple-blackjack-cli-001-prework-web       simplified blackjack procedural learning goals...\n",
       "cocos-creator/tutorial-blackjack-deprecated                  21 cocos creator 21 cocos creator demo cocos c...\n",
       "learn-co-students/simple-blackjack-cli-online-web-prework    simplified blackjack procedural learning goals...\n",
       "Name: readme_clean, dtype: object"
      ]
     },
     "execution_count": 13,
     "metadata": {},
     "output_type": "execute_result"
    }
   ],
   "source": [
    "df['readme_clean'].head()"
   ]
  },
  {
   "cell_type": "markdown",
   "id": "f7028092-fa10-472f-aa63-b8313fa54319",
   "metadata": {},
   "source": [
    "### Lemm words"
   ]
  },
  {
   "cell_type": "code",
   "execution_count": 14,
   "id": "c3351d13-62f2-4192-82ca-ba9d4d0e060f",
   "metadata": {},
   "outputs": [],
   "source": [
    "df['readme_lemm'] = df['readme_clean'].apply(lemmatized)"
   ]
  },
  {
   "cell_type": "markdown",
   "id": "8db9bde9-8cc3-482d-ae5b-2232d93dcf0a",
   "metadata": {},
   "source": [
    "### Stem words"
   ]
  },
  {
   "cell_type": "markdown",
   "id": "5476f373-2dbb-4c8d-ae13-55835eec8ac9",
   "metadata": {},
   "source": [
    "- Understemming: Two related words should be reduced to the same stem but aren't. (False negative)\n",
    "\n",
    "\n",
    "- Overstemming: Two unrelated words are reduced to the same stem even though they shouldn't be. (False positive)\n",
    "\n",
    "- Consider Snowball stemmer aka Porter2"
   ]
  },
  {
   "cell_type": "code",
   "execution_count": 15,
   "id": "330db219-bbf8-4d6e-9568-e0052e98db3b",
   "metadata": {},
   "outputs": [],
   "source": [
    "df['readme_stem'] = df['readme_clean'].apply(stemmerize_tool, stemmer_type=3)"
   ]
  },
  {
   "cell_type": "code",
   "execution_count": 16,
   "id": "9947eacc-1e91-4df7-961e-173479c6f656",
   "metadata": {},
   "outputs": [
    {
     "data": {
      "text/plain": [
       "repo\n",
       "learn-co-students/simple-blackjack-cli-prework               simplifi blackjack procedur learn goal util co...\n",
       "datamllab/rlcard                                             rlcard a toolkit for reinforc learn in card ga...\n",
       "learn-co-students/simple-blackjack-cli-001-prework-web       simplifi blackjack procedur learn goal util co...\n",
       "cocos-creator/tutorial-blackjack-deprecated                  21 coco creator 21 coco creator demo coco crea...\n",
       "learn-co-students/simple-blackjack-cli-online-web-prework    simplifi blackjack procedur learn goal util co...\n",
       "Name: readme_stem, dtype: object"
      ]
     },
     "execution_count": 16,
     "metadata": {},
     "output_type": "execute_result"
    }
   ],
   "source": [
    "df['readme_stem'].head()"
   ]
  },
  {
   "cell_type": "markdown",
   "id": "8d884ea8-e7ab-4b89-a316-b834ff032b75",
   "metadata": {},
   "source": [
    "### Remove stopwords"
   ]
  },
  {
   "cell_type": "code",
   "execution_count": 17,
   "id": "12c7ffca-cca0-47c8-8e97-1c2c02b6ce00",
   "metadata": {},
   "outputs": [],
   "source": [
    "df['readme_stem_no_swords'] = df['readme_stem'].apply(remove_stopwords)"
   ]
  },
  {
   "cell_type": "code",
   "execution_count": 18,
   "id": "a5de0138-83dc-4e2c-a80b-ef0559157fed",
   "metadata": {},
   "outputs": [],
   "source": [
    "df['readme_lemm_no_swords'] = df['readme_lemm'].apply(remove_stopwords)"
   ]
  },
  {
   "cell_type": "markdown",
   "id": "782ce888-8be2-4108-9142-455a872edb8e",
   "metadata": {},
   "source": [
    "### Split data"
   ]
  },
  {
   "cell_type": "code",
   "execution_count": 19,
   "id": "72862795-cb82-4c9c-97f1-46653ec5ca88",
   "metadata": {},
   "outputs": [],
   "source": [
    "train, val, test = train_validate(df)"
   ]
  },
  {
   "cell_type": "code",
   "execution_count": 20,
   "id": "cd21cbf5-f9f8-408d-97d2-b0456c01696f",
   "metadata": {},
   "outputs": [
    {
     "data": {
      "text/plain": [
       "Ruby          94\n",
       "JavaScript    19\n",
       "Java          19\n",
       "Python        17\n",
       "C_based       14\n",
       "Name: language, dtype: int64"
      ]
     },
     "execution_count": 20,
     "metadata": {},
     "output_type": "execute_result"
    }
   ],
   "source": [
    "train.language.value_counts()"
   ]
  },
  {
   "cell_type": "markdown",
   "id": "cf078b89-f777-4392-a102-da9d459864bc",
   "metadata": {},
   "source": [
    "### Explore Stems"
   ]
  },
  {
   "cell_type": "code",
   "execution_count": 21,
   "id": "50a6b297-8714-4340-b468-853ae15e06d6",
   "metadata": {},
   "outputs": [],
   "source": [
    "big_rams_stem = []\n",
    "for row in train['readme_stem_no_swords'].apply(ngrams_creator):\n",
    "    big_rams_stem.extend(row)"
   ]
  },
  {
   "cell_type": "code",
   "execution_count": 22,
   "id": "6cc080ed-89ac-4bb0-8474-88abfb6d86b7",
   "metadata": {},
   "outputs": [],
   "source": [
    "bi_stem_series = pd.Series(big_rams_stem)"
   ]
  },
  {
   "cell_type": "code",
   "execution_count": 23,
   "id": "9d2585aa-85bf-4f4a-81c1-b2dc8ed27ab9",
   "metadata": {},
   "outputs": [],
   "source": [
    "trig_rams_stem = []\n",
    "for row in train['readme_stem_no_swords'].apply(ngrams_creator, n_grams=3):\n",
    "    trig_rams_stem.extend(row)"
   ]
  },
  {
   "cell_type": "code",
   "execution_count": 24,
   "id": "c05eb0a7-981a-4f8e-9068-5ec1adbd55f2",
   "metadata": {},
   "outputs": [],
   "source": [
    "tri_stem_series = pd.Series(trig_rams_stem)"
   ]
  },
  {
   "cell_type": "code",
   "execution_count": 25,
   "id": "bfc5a04d-d3a2-4ffa-bc4a-67bcf4c20a86",
   "metadata": {},
   "outputs": [
    {
     "data": {
      "text/plain": [
       "(command, line)     1437\n",
       "(card, total)       1024\n",
       "(user, input)        856\n",
       "(method, method)     838\n",
       "(runner, method)     837\n",
       "dtype: int64"
      ]
     },
     "execution_count": 25,
     "metadata": {},
     "output_type": "execute_result"
    }
   ],
   "source": [
    "bi_stem_series.value_counts().head()"
   ]
  },
  {
   "cell_type": "code",
   "execution_count": 26,
   "id": "a3eb2549-00fe-46ac-9efc-4f16b30f6c93",
   "metadata": {},
   "outputs": [
    {
     "data": {
      "text/plain": [
       "(command, line, app)        594\n",
       "(method, take, argument)    372\n",
       "(deal, new, card)           280\n",
       "(method, use, put)          279\n",
       "(runner, method, runner)    279\n",
       "dtype: int64"
      ]
     },
     "execution_count": 26,
     "metadata": {},
     "output_type": "execute_result"
    }
   ],
   "source": [
    "tri_stem_series.value_counts().head()"
   ]
  },
  {
   "cell_type": "markdown",
   "id": "28ded7e3-c3dc-456b-8277-1e9475a883bc",
   "metadata": {},
   "source": [
    "### Explore Lemms"
   ]
  },
  {
   "cell_type": "code",
   "execution_count": 27,
   "id": "19c967fa-6684-4362-8c45-ee2cf81babd2",
   "metadata": {},
   "outputs": [],
   "source": [
    "top_25_readme_bigrams = bi_stem_series.value_counts().head(25)"
   ]
  },
  {
   "cell_type": "code",
   "execution_count": 28,
   "id": "17927998-154b-4f25-b5d3-b0885fd5e544",
   "metadata": {},
   "outputs": [
    {
     "data": {
      "image/png": "[encoded data removed]",
      "text/plain": [
       "<Figure size 1000x600 with 1 Axes>"
      ]
     },
     "metadata": {},
     "output_type": "display_data"
    }
   ],
   "source": [
    "top_25_readme_bigrams.sort_values(ascending=True).plot.barh(color='royalblue', width=.9, figsize=(10, 6))\n",
    "\n",
    "plt.title('25 Most frequently occuring readme bigrams')\n",
    "plt.ylabel('Bigram')\n",
    "plt.xlabel('# Occurances')\n",
    "\n",
    "# make the labels pretty\n",
    "ticks, _ = plt.yticks()\n",
    "labels = top_25_readme_bigrams.reset_index()['index'].apply(lambda t: t[0] + ' ' + t[1])\n",
    "_ = plt.yticks(ticks, labels)"
   ]
  },
  {
   "cell_type": "code",
   "execution_count": 29,
   "id": "55ee5fb3-989b-4e2c-a4fa-aa11d90108b4",
   "metadata": {},
   "outputs": [],
   "source": [
    "big_rams_lemm = []\n",
    "for row in train['readme_lemm_no_swords'].apply(ngrams_creator):\n",
    "    big_rams_lemm.extend(row)"
   ]
  },
  {
   "cell_type": "code",
   "execution_count": 30,
   "id": "75d574db-c4a0-46b0-aaab-49c00fd9ab1d",
   "metadata": {},
   "outputs": [],
   "source": [
    "bi_lemm_series = pd.Series(big_rams_lemm)"
   ]
  },
  {
   "cell_type": "code",
   "execution_count": 31,
   "id": "aeca008c-c4f0-4a56-96af-71fae391624c",
   "metadata": {},
   "outputs": [],
   "source": [
    "trig_rams_lemm = []\n",
    "for row in train['readme_lemm_no_swords'].apply(ngrams_creator, n_grams=3):\n",
    "    trig_rams_lemm.extend(row)"
   ]
  },
  {
   "cell_type": "code",
   "execution_count": 32,
   "id": "5a549429-ff82-4ed3-98ba-5d237d8ef955",
   "metadata": {},
   "outputs": [],
   "source": [
    "tri_lemm_series = pd.Series(trig_rams_lemm)"
   ]
  },
  {
   "cell_type": "code",
   "execution_count": 33,
   "id": "325d0eff-b0bb-45c8-8403-f65e6d70059f",
   "metadata": {},
   "outputs": [
    {
     "data": {
      "text/plain": [
       "(command, line)     1437\n",
       "(card, total)       1024\n",
       "(user, input)        856\n",
       "(method, method)     838\n",
       "(runner, method)     837\n",
       "dtype: int64"
      ]
     },
     "execution_count": 33,
     "metadata": {},
     "output_type": "execute_result"
    }
   ],
   "source": [
    "bi_lemm_series.value_counts().head()"
   ]
  },
  {
   "cell_type": "code",
   "execution_count": 34,
   "id": "f8867400-64d8-44d8-b18e-73cec8363c41",
   "metadata": {},
   "outputs": [
    {
     "data": {
      "text/plain": [
       "(command, line, app)          501\n",
       "(method, take, argument)      372\n",
       "(deal, new, card)             280\n",
       "(command, line, interface)    279\n",
       "(runner, method, runner)      279\n",
       "dtype: int64"
      ]
     },
     "execution_count": 34,
     "metadata": {},
     "output_type": "execute_result"
    }
   ],
   "source": [
    "tri_lemm_series.value_counts().head()"
   ]
  },
  {
   "cell_type": "code",
   "execution_count": 35,
   "id": "46dafd3f-237c-4923-be50-4d5cba86927d",
   "metadata": {},
   "outputs": [],
   "source": [
    "top_25_readme_trigrams= tri_lemm_series.value_counts().head(25)"
   ]
  },
  {
   "cell_type": "code",
   "execution_count": 36,
   "id": "a2bde09e-3113-4a50-b05a-07b61afd476a",
   "metadata": {},
   "outputs": [
    {
     "data": {
      "image/png": "[encoded data removed]",
      "text/plain": [
       "<Figure size 1000x600 with 1 Axes>"
      ]
     },
     "metadata": {},
     "output_type": "display_data"
    }
   ],
   "source": [
    "top_25_readme_trigrams.sort_values(ascending=True).plot.barh(color='seagreen', width=.9, figsize=(10, 6))\n",
    "\n",
    "plt.title('25 Most frequently occuring readme trigrams')\n",
    "plt.ylabel('Trigram')\n",
    "plt.xlabel('# Occurances')\n",
    "\n",
    "# make the labels pretty\n",
    "ticks, _ = plt.yticks()\n",
    "labels = top_25_readme_trigrams.reset_index()['index'].apply(lambda t: t[0] + ' ' + t[1])\n",
    "_ = plt.yticks(ticks, labels)"
   ]
  },
  {
   "cell_type": "code",
   "execution_count": 45,
   "id": "f340d2d8-7467-48bd-a0c9-6520bb6a5e70",
   "metadata": {},
   "outputs": [
    {
     "data": {
      "text/html": [
       "<div>\n",
       "<style scoped>\n",
       "    .dataframe tbody tr th:only-of-type {\n",
       "        vertical-align: middle;\n",
       "    }\n",
       "\n",
       "    .dataframe tbody tr th {\n",
       "        vertical-align: top;\n",
       "    }\n",
       "\n",
       "    .dataframe thead th {\n",
       "        text-align: right;\n",
       "    }\n",
       "</style>\n",
       "<table border=\"1\" class=\"dataframe\">\n",
       "  <thead>\n",
       "    <tr style=\"text-align: right;\">\n",
       "      <th></th>\n",
       "      <th>language</th>\n",
       "      <th>readme_contents</th>\n",
       "      <th>readme_clean</th>\n",
       "      <th>readme_lemm</th>\n",
       "      <th>readme_stem</th>\n",
       "      <th>readme_stem_no_swords</th>\n",
       "      <th>readme_lemm_no_swords</th>\n",
       "      <th>readme_length</th>\n",
       "    </tr>\n",
       "    <tr>\n",
       "      <th>repo</th>\n",
       "      <th></th>\n",
       "      <th></th>\n",
       "      <th></th>\n",
       "      <th></th>\n",
       "      <th></th>\n",
       "      <th></th>\n",
       "      <th></th>\n",
       "      <th></th>\n",
       "    </tr>\n",
       "  </thead>\n",
       "  <tbody>\n",
       "    <tr>\n",
       "      <th>learn-co-students/simple-blackjack-cli-prework</th>\n",
       "      <td>Ruby</td>\n",
       "      <td># Simplified Blackjack - Procedural\\n\\n## Lear...</td>\n",
       "      <td>simplified blackjack procedural learning goals...</td>\n",
       "      <td>simplified blackjack procedural learning goal ...</td>\n",
       "      <td>simplifi blackjack procedur learn goal util co...</td>\n",
       "      <td>simplifi blackjack procedur learn goal util co...</td>\n",
       "      <td>simplified blackjack procedural learning goal ...</td>\n",
       "      <td>12080</td>\n",
       "    </tr>\n",
       "    <tr>\n",
       "      <th>datamllab/rlcard</th>\n",
       "      <td>Python</td>\n",
       "      <td># RLCard: A Toolkit for Reinforcement Learning...</td>\n",
       "      <td>rlcard a toolkit for reinforcement learning in...</td>\n",
       "      <td>rlcard a toolkit for reinforcement learning in...</td>\n",
       "      <td>rlcard a toolkit for reinforc learn in card ga...</td>\n",
       "      <td>rlcard toolkit reinforc learn card game img wi...</td>\n",
       "      <td>rlcard toolkit reinforcement learning card gam...</td>\n",
       "      <td>18918</td>\n",
       "    </tr>\n",
       "    <tr>\n",
       "      <th>learn-co-students/simple-blackjack-cli-001-prework-web</th>\n",
       "      <td>Ruby</td>\n",
       "      <td># Simplified Blackjack - Procedural\\n\\n## Lear...</td>\n",
       "      <td>simplified blackjack procedural learning goals...</td>\n",
       "      <td>simplified blackjack procedural learning goal ...</td>\n",
       "      <td>simplifi blackjack procedur learn goal util co...</td>\n",
       "      <td>simplifi blackjack procedur learn goal util co...</td>\n",
       "      <td>simplified blackjack procedural learning goal ...</td>\n",
       "      <td>12080</td>\n",
       "    </tr>\n",
       "    <tr>\n",
       "      <th>cocos-creator/tutorial-blackjack-deprecated</th>\n",
       "      <td>JavaScript</td>\n",
       "      <td># 21点游戏 - Cocos Creator 制造\\n\\n「21点游戏」是 Cocos C...</td>\n",
       "      <td>21 cocos creator 21 cocos creator demo cocos c...</td>\n",
       "      <td>21 coco creator 21 coco creator demo coco crea...</td>\n",
       "      <td>21 coco creator 21 coco creator demo coco crea...</td>\n",
       "      <td>21 coco creator 21 coco creator demo coco crea...</td>\n",
       "      <td>21 coco creator 21 coco creator demo coco crea...</td>\n",
       "      <td>271</td>\n",
       "    </tr>\n",
       "    <tr>\n",
       "      <th>learn-co-students/simple-blackjack-cli-online-web-prework</th>\n",
       "      <td>Ruby</td>\n",
       "      <td># Simplified Blackjack - Procedural\\n\\n## Lear...</td>\n",
       "      <td>simplified blackjack procedural learning goals...</td>\n",
       "      <td>simplified blackjack procedural learning goal ...</td>\n",
       "      <td>simplifi blackjack procedur learn goal util co...</td>\n",
       "      <td>simplifi blackjack procedur learn goal util co...</td>\n",
       "      <td>simplified blackjack procedural learning goal ...</td>\n",
       "      <td>12080</td>\n",
       "    </tr>\n",
       "    <tr>\n",
       "      <th>...</th>\n",
       "      <td>...</td>\n",
       "      <td>...</td>\n",
       "      <td>...</td>\n",
       "      <td>...</td>\n",
       "      <td>...</td>\n",
       "      <td>...</td>\n",
       "      <td>...</td>\n",
       "      <td>...</td>\n",
       "    </tr>\n",
       "    <tr>\n",
       "      <th>perezjbryanSchoolWork/Java-Blackjack-Strategy-Simulation</th>\n",
       "      <td>Java</td>\n",
       "      <td>\\nThis program simulates the game of Blackjack...</td>\n",
       "      <td>this program simulates the game of blackjack a...</td>\n",
       "      <td>this program simulates the game of blackjack a...</td>\n",
       "      <td>this program simul the game of blackjack and t...</td>\n",
       "      <td>program simul game blackjack best known way pl...</td>\n",
       "      <td>program simulates game blackjack best known wa...</td>\n",
       "      <td>348</td>\n",
       "    </tr>\n",
       "    <tr>\n",
       "      <th>TigerZen/Unity3D-BlackJack-Dapp</th>\n",
       "      <td>C_based</td>\n",
       "      <td># Unity3D-BlackJack-Dapp\\n\\n教你使用Unity3D製作Dapp ...</td>\n",
       "      <td>unity3dblackjackdapp unity3ddapp part2solidity...</td>\n",
       "      <td>unity3dblackjackdapp unity3ddapp part2solidity...</td>\n",
       "      <td>unity3dblackjackdapp unity3ddapp part2solid bl...</td>\n",
       "      <td>unity3dblackjackdapp unity3ddapp part2solid bl...</td>\n",
       "      <td>unity3dblackjackdapp unity3ddapp part2solidity...</td>\n",
       "      <td>322</td>\n",
       "    </tr>\n",
       "    <tr>\n",
       "      <th>DEEBAZZ890/Blackjack-game</th>\n",
       "      <td>Python</td>\n",
       "      <td># 21/Blackjack-game\\n\\nFrom a single deck of c...</td>\n",
       "      <td>21blackjackgame from a single deck of cards pi...</td>\n",
       "      <td>21blackjackgame from a single deck of card pic...</td>\n",
       "      <td>21blackjackgam from a singl deck of card pick ...</td>\n",
       "      <td>21blackjackgam singl deck card pick two player...</td>\n",
       "      <td>21blackjackgame single deck card pick two play...</td>\n",
       "      <td>1155</td>\n",
       "    </tr>\n",
       "    <tr>\n",
       "      <th>cs361-W16/Blackjack-14</th>\n",
       "      <td>Java</td>\n",
       "      <td>[![Build Status](https://travis-ci.org/cs361-W...</td>\n",
       "      <td>build statushttpstravisciorgcs361w16blackjack1...</td>\n",
       "      <td>build statushttpstravisciorgcs361w16blackjack1...</td>\n",
       "      <td>build statushttpstravisciorgcs361w16blackjack1...</td>\n",
       "      <td>build statushttpstravisciorgcs361w16blackjack1...</td>\n",
       "      <td>build statushttpstravisciorgcs361w16blackjack1...</td>\n",
       "      <td>127</td>\n",
       "    </tr>\n",
       "    <tr>\n",
       "      <th>cs361-W16/Blackjack-8</th>\n",
       "      <td>Java</td>\n",
       "      <td># Blackjack-8\\n\\nTravis Status: [![Build Statu...</td>\n",
       "      <td>blackjack8 travis status build statushttpstrav...</td>\n",
       "      <td>blackjack8 travis status build statushttpstrav...</td>\n",
       "      <td>blackjack8 travi status build statushttpstravi...</td>\n",
       "      <td>blackjack8 travi status build statushttpstravi...</td>\n",
       "      <td>blackjack8 travis status build statushttpstrav...</td>\n",
       "      <td>156</td>\n",
       "    </tr>\n",
       "  </tbody>\n",
       "</table>\n",
       "<p>342 rows × 8 columns</p>\n",
       "</div>"
      ],
      "text/plain": [
       "                                                      language  \\\n",
       "repo                                                             \n",
       "learn-co-students/simple-blackjack-cli-prework            Ruby   \n",
       "datamllab/rlcard                                        Python   \n",
       "learn-co-students/simple-blackjack-cli-001-prew...        Ruby   \n",
       "cocos-creator/tutorial-blackjack-deprecated         JavaScript   \n",
       "learn-co-students/simple-blackjack-cli-online-w...        Ruby   \n",
       "...                                                        ...   \n",
       "perezjbryanSchoolWork/Java-Blackjack-Strategy-S...        Java   \n",
       "TigerZen/Unity3D-BlackJack-Dapp                        C_based   \n",
       "DEEBAZZ890/Blackjack-game                               Python   \n",
       "cs361-W16/Blackjack-14                                    Java   \n",
       "cs361-W16/Blackjack-8                                     Java   \n",
       "\n",
       "                                                                                      readme_contents  \\\n",
       "repo                                                                                                    \n",
       "learn-co-students/simple-blackjack-cli-prework      # Simplified Blackjack - Procedural\\n\\n## Lear...   \n",
       "datamllab/rlcard                                    # RLCard: A Toolkit for Reinforcement Learning...   \n",
       "learn-co-students/simple-blackjack-cli-001-prew...  # Simplified Blackjack - Procedural\\n\\n## Lear...   \n",
       "cocos-creator/tutorial-blackjack-deprecated         # 21点游戏 - Cocos Creator 制造\\n\\n「21点游戏」是 Cocos C...   \n",
       "learn-co-students/simple-blackjack-cli-online-w...  # Simplified Blackjack - Procedural\\n\\n## Lear...   \n",
       "...                                                                                               ...   \n",
       "perezjbryanSchoolWork/Java-Blackjack-Strategy-S...  \\nThis program simulates the game of Blackjack...   \n",
       "TigerZen/Unity3D-BlackJack-Dapp                     # Unity3D-BlackJack-Dapp\\n\\n教你使用Unity3D製作Dapp ...   \n",
       "DEEBAZZ890/Blackjack-game                           # 21/Blackjack-game\\n\\nFrom a single deck of c...   \n",
       "cs361-W16/Blackjack-14                              [![Build Status](https://travis-ci.org/cs361-W...   \n",
       "cs361-W16/Blackjack-8                               # Blackjack-8\\n\\nTravis Status: [![Build Statu...   \n",
       "\n",
       "                                                                                         readme_clean  \\\n",
       "repo                                                                                                    \n",
       "learn-co-students/simple-blackjack-cli-prework      simplified blackjack procedural learning goals...   \n",
       "datamllab/rlcard                                    rlcard a toolkit for reinforcement learning in...   \n",
       "learn-co-students/simple-blackjack-cli-001-prew...  simplified blackjack procedural learning goals...   \n",
       "cocos-creator/tutorial-blackjack-deprecated         21 cocos creator 21 cocos creator demo cocos c...   \n",
       "learn-co-students/simple-blackjack-cli-online-w...  simplified blackjack procedural learning goals...   \n",
       "...                                                                                               ...   \n",
       "perezjbryanSchoolWork/Java-Blackjack-Strategy-S...  this program simulates the game of blackjack a...   \n",
       "TigerZen/Unity3D-BlackJack-Dapp                     unity3dblackjackdapp unity3ddapp part2solidity...   \n",
       "DEEBAZZ890/Blackjack-game                           21blackjackgame from a single deck of cards pi...   \n",
       "cs361-W16/Blackjack-14                              build statushttpstravisciorgcs361w16blackjack1...   \n",
       "cs361-W16/Blackjack-8                               blackjack8 travis status build statushttpstrav...   \n",
       "\n",
       "                                                                                          readme_lemm  \\\n",
       "repo                                                                                                    \n",
       "learn-co-students/simple-blackjack-cli-prework      simplified blackjack procedural learning goal ...   \n",
       "datamllab/rlcard                                    rlcard a toolkit for reinforcement learning in...   \n",
       "learn-co-students/simple-blackjack-cli-001-prew...  simplified blackjack procedural learning goal ...   \n",
       "cocos-creator/tutorial-blackjack-deprecated         21 coco creator 21 coco creator demo coco crea...   \n",
       "learn-co-students/simple-blackjack-cli-online-w...  simplified blackjack procedural learning goal ...   \n",
       "...                                                                                               ...   \n",
       "perezjbryanSchoolWork/Java-Blackjack-Strategy-S...  this program simulates the game of blackjack a...   \n",
       "TigerZen/Unity3D-BlackJack-Dapp                     unity3dblackjackdapp unity3ddapp part2solidity...   \n",
       "DEEBAZZ890/Blackjack-game                           21blackjackgame from a single deck of card pic...   \n",
       "cs361-W16/Blackjack-14                              build statushttpstravisciorgcs361w16blackjack1...   \n",
       "cs361-W16/Blackjack-8                               blackjack8 travis status build statushttpstrav...   \n",
       "\n",
       "                                                                                          readme_stem  \\\n",
       "repo                                                                                                    \n",
       "learn-co-students/simple-blackjack-cli-prework      simplifi blackjack procedur learn goal util co...   \n",
       "datamllab/rlcard                                    rlcard a toolkit for reinforc learn in card ga...   \n",
       "learn-co-students/simple-blackjack-cli-001-prew...  simplifi blackjack procedur learn goal util co...   \n",
       "cocos-creator/tutorial-blackjack-deprecated         21 coco creator 21 coco creator demo coco crea...   \n",
       "learn-co-students/simple-blackjack-cli-online-w...  simplifi blackjack procedur learn goal util co...   \n",
       "...                                                                                               ...   \n",
       "perezjbryanSchoolWork/Java-Blackjack-Strategy-S...  this program simul the game of blackjack and t...   \n",
       "TigerZen/Unity3D-BlackJack-Dapp                     unity3dblackjackdapp unity3ddapp part2solid bl...   \n",
       "DEEBAZZ890/Blackjack-game                           21blackjackgam from a singl deck of card pick ...   \n",
       "cs361-W16/Blackjack-14                              build statushttpstravisciorgcs361w16blackjack1...   \n",
       "cs361-W16/Blackjack-8                               blackjack8 travi status build statushttpstravi...   \n",
       "\n",
       "                                                                                readme_stem_no_swords  \\\n",
       "repo                                                                                                    \n",
       "learn-co-students/simple-blackjack-cli-prework      simplifi blackjack procedur learn goal util co...   \n",
       "datamllab/rlcard                                    rlcard toolkit reinforc learn card game img wi...   \n",
       "learn-co-students/simple-blackjack-cli-001-prew...  simplifi blackjack procedur learn goal util co...   \n",
       "cocos-creator/tutorial-blackjack-deprecated         21 coco creator 21 coco creator demo coco crea...   \n",
       "learn-co-students/simple-blackjack-cli-online-w...  simplifi blackjack procedur learn goal util co...   \n",
       "...                                                                                               ...   \n",
       "perezjbryanSchoolWork/Java-Blackjack-Strategy-S...  program simul game blackjack best known way pl...   \n",
       "TigerZen/Unity3D-BlackJack-Dapp                     unity3dblackjackdapp unity3ddapp part2solid bl...   \n",
       "DEEBAZZ890/Blackjack-game                           21blackjackgam singl deck card pick two player...   \n",
       "cs361-W16/Blackjack-14                              build statushttpstravisciorgcs361w16blackjack1...   \n",
       "cs361-W16/Blackjack-8                               blackjack8 travi status build statushttpstravi...   \n",
       "\n",
       "                                                                                readme_lemm_no_swords  \\\n",
       "repo                                                                                                    \n",
       "learn-co-students/simple-blackjack-cli-prework      simplified blackjack procedural learning goal ...   \n",
       "datamllab/rlcard                                    rlcard toolkit reinforcement learning card gam...   \n",
       "learn-co-students/simple-blackjack-cli-001-prew...  simplified blackjack procedural learning goal ...   \n",
       "cocos-creator/tutorial-blackjack-deprecated         21 coco creator 21 coco creator demo coco crea...   \n",
       "learn-co-students/simple-blackjack-cli-online-w...  simplified blackjack procedural learning goal ...   \n",
       "...                                                                                               ...   \n",
       "perezjbryanSchoolWork/Java-Blackjack-Strategy-S...  program simulates game blackjack best known wa...   \n",
       "TigerZen/Unity3D-BlackJack-Dapp                     unity3dblackjackdapp unity3ddapp part2solidity...   \n",
       "DEEBAZZ890/Blackjack-game                           21blackjackgame single deck card pick two play...   \n",
       "cs361-W16/Blackjack-14                              build statushttpstravisciorgcs361w16blackjack1...   \n",
       "cs361-W16/Blackjack-8                               blackjack8 travis status build statushttpstrav...   \n",
       "\n",
       "                                                    readme_length  \n",
       "repo                                                               \n",
       "learn-co-students/simple-blackjack-cli-prework              12080  \n",
       "datamllab/rlcard                                            18918  \n",
       "learn-co-students/simple-blackjack-cli-001-prew...          12080  \n",
       "cocos-creator/tutorial-blackjack-deprecated                   271  \n",
       "learn-co-students/simple-blackjack-cli-online-w...          12080  \n",
       "...                                                           ...  \n",
       "perezjbryanSchoolWork/Java-Blackjack-Strategy-S...            348  \n",
       "TigerZen/Unity3D-BlackJack-Dapp                               322  \n",
       "DEEBAZZ890/Blackjack-game                                    1155  \n",
       "cs361-W16/Blackjack-14                                        127  \n",
       "cs361-W16/Blackjack-8                                         156  \n",
       "\n",
       "[342 rows x 8 columns]"
      ]
     },
     "execution_count": 45,
     "metadata": {},
     "output_type": "execute_result"
    }
   ],
   "source": [
    "df['readme_length'] = df['readme_contents'].apply(len)\n",
    "\n",
    "df"
   ]
  },
  {
   "cell_type": "code",
   "execution_count": 38,
   "id": "cb030731-8141-42d2-9e1b-a7707b803bba",
   "metadata": {},
   "outputs": [
    {
     "data": {
      "text/plain": [
       "Ruby          213\n",
       "Python         36\n",
       "Java           36\n",
       "JavaScript     35\n",
       "C_based        22\n",
       "Name: language, dtype: int64"
      ]
     },
     "execution_count": 38,
     "metadata": {},
     "output_type": "execute_result"
    }
   ],
   "source": [
    "df.language.value_counts()"
   ]
  },
  {
   "cell_type": "code",
   "execution_count": 39,
   "id": "faecdd0f-df37-4f84-b789-b93c31e60791",
   "metadata": {},
   "outputs": [
    {
     "data": {
      "text/plain": [
       "2541688"
      ]
     },
     "execution_count": 39,
     "metadata": {},
     "output_type": "execute_result"
    }
   ],
   "source": [
    "df[df['language']=='Ruby']['readme_length'].sum()"
   ]
  },
  {
   "cell_type": "code",
   "execution_count": 40,
   "id": "7472aa83-2a69-450b-b418-0899de17886c",
   "metadata": {},
   "outputs": [
    {
     "data": {
      "text/plain": [
       "2898150"
      ]
     },
     "execution_count": 40,
     "metadata": {},
     "output_type": "execute_result"
    }
   ],
   "source": [
    "df['readme_length'].sum()"
   ]
  },
  {
   "cell_type": "code",
   "execution_count": 41,
   "id": "cfe278e7-23b6-4678-b5c1-7d9881084153",
   "metadata": {},
   "outputs": [],
   "source": [
    "avg_len_ruby =df[df['language']== 'Ruby']['readme_length'].mean()\n",
    "avg_len_python= df[df['language']== 'Python']['readme_length'].mean()\n",
    "avg_len_java= df[df['language']== 'Java']['readme_length'].mean()\n",
    "avg_len_js = df[df['language']== 'JavaScript']['readme_length'].mean()\n",
    "avg_len_c= df[df['language']== 'C_based']['readme_length'].mean()\n",
    "avg_len_other = df[df['language']== 'Other']['readme_length'].mean()"
   ]
  },
  {
   "cell_type": "code",
   "execution_count": 42,
   "id": "86465c3a-7697-4e59-8821-aa806c1344ea",
   "metadata": {},
   "outputs": [],
   "source": [
    "avg_df=pd.DataFrame({'Ruby': [avg_len_ruby],\n",
    "                    'Python': [avg_len_python],\n",
    "                    'Java':[avg_len_java],\n",
    "                    'JavaScript': [avg_len_js],\n",
    "                    'C_based': [avg_len_c],\n",
    "                    'Other':[avg_len_other]})"
   ]
  },
  {
   "cell_type": "code",
   "execution_count": 43,
   "id": "37160ccd-e036-44f0-a74e-fbdd771e568c",
   "metadata": {},
   "outputs": [
    {
     "data": {
      "text/plain": [
       "Text(0, 0.5, 'Average')"
      ]
     },
     "execution_count": 43,
     "metadata": {},
     "output_type": "execute_result"
    },
    {
     "data": {
      "image/png": "[encoded data removed]",
      "text/plain": [
       "<Figure size 640x480 with 1 Axes>"
      ]
     },
     "metadata": {},
     "output_type": "display_data"
    }
   ],
   "source": [
    "sns.barplot(avg_df, palette='Paired')\n",
    "plt.title('Average Word Count of each Programming Language', fontsize=15)\n",
    "plt.xticks(ticks=[0,1,2,3,4,5], labels=['Ruby','Python', 'Java', 'JavaScript', 'C Based', 'Other'])\n",
    "plt.xlabel('Programming Languages', fontsize=12)\n",
    "plt.ylabel('Average', fontsize=12)"
   ]
  },
  {
   "cell_type": "code",
   "execution_count": 46,
   "id": "505c14e2-aa9c-4044-b42f-4feb780c8fa9",
   "metadata": {},
   "outputs": [
    {
     "data": {
      "text/html": [
       "<div>\n",
       "<style scoped>\n",
       "    .dataframe tbody tr th:only-of-type {\n",
       "        vertical-align: middle;\n",
       "    }\n",
       "\n",
       "    .dataframe tbody tr th {\n",
       "        vertical-align: top;\n",
       "    }\n",
       "\n",
       "    .dataframe thead th {\n",
       "        text-align: right;\n",
       "    }\n",
       "</style>\n",
       "<table border=\"1\" class=\"dataframe\">\n",
       "  <thead>\n",
       "    <tr style=\"text-align: right;\">\n",
       "      <th></th>\n",
       "      <th>language</th>\n",
       "      <th>readme_contents</th>\n",
       "      <th>readme_clean</th>\n",
       "      <th>readme_lemm</th>\n",
       "      <th>readme_stem</th>\n",
       "      <th>readme_stem_no_swords</th>\n",
       "      <th>readme_lemm_no_swords</th>\n",
       "      <th>readme_length</th>\n",
       "    </tr>\n",
       "    <tr>\n",
       "      <th>repo</th>\n",
       "      <th></th>\n",
       "      <th></th>\n",
       "      <th></th>\n",
       "      <th></th>\n",
       "      <th></th>\n",
       "      <th></th>\n",
       "      <th></th>\n",
       "      <th></th>\n",
       "    </tr>\n",
       "  </thead>\n",
       "  <tbody>\n",
       "    <tr>\n",
       "      <th>learn-co-students/simple-blackjack-cli-prework</th>\n",
       "      <td>Ruby</td>\n",
       "      <td># Simplified Blackjack - Procedural\\n\\n## Lear...</td>\n",
       "      <td>simplified blackjack procedural learning goals...</td>\n",
       "      <td>simplified blackjack procedural learning goal ...</td>\n",
       "      <td>simplifi blackjack procedur learn goal util co...</td>\n",
       "      <td>simplifi blackjack procedur learn goal util co...</td>\n",
       "      <td>simplified blackjack procedural learning goal ...</td>\n",
       "      <td>12080</td>\n",
       "    </tr>\n",
       "    <tr>\n",
       "      <th>datamllab/rlcard</th>\n",
       "      <td>Python</td>\n",
       "      <td># RLCard: A Toolkit for Reinforcement Learning...</td>\n",
       "      <td>rlcard a toolkit for reinforcement learning in...</td>\n",
       "      <td>rlcard a toolkit for reinforcement learning in...</td>\n",
       "      <td>rlcard a toolkit for reinforc learn in card ga...</td>\n",
       "      <td>rlcard toolkit reinforc learn card game img wi...</td>\n",
       "      <td>rlcard toolkit reinforcement learning card gam...</td>\n",
       "      <td>18918</td>\n",
       "    </tr>\n",
       "    <tr>\n",
       "      <th>learn-co-students/simple-blackjack-cli-001-prework-web</th>\n",
       "      <td>Ruby</td>\n",
       "      <td># Simplified Blackjack - Procedural\\n\\n## Lear...</td>\n",
       "      <td>simplified blackjack procedural learning goals...</td>\n",
       "      <td>simplified blackjack procedural learning goal ...</td>\n",
       "      <td>simplifi blackjack procedur learn goal util co...</td>\n",
       "      <td>simplifi blackjack procedur learn goal util co...</td>\n",
       "      <td>simplified blackjack procedural learning goal ...</td>\n",
       "      <td>12080</td>\n",
       "    </tr>\n",
       "    <tr>\n",
       "      <th>cocos-creator/tutorial-blackjack-deprecated</th>\n",
       "      <td>JavaScript</td>\n",
       "      <td># 21点游戏 - Cocos Creator 制造\\n\\n「21点游戏」是 Cocos C...</td>\n",
       "      <td>21 cocos creator 21 cocos creator demo cocos c...</td>\n",
       "      <td>21 coco creator 21 coco creator demo coco crea...</td>\n",
       "      <td>21 coco creator 21 coco creator demo coco crea...</td>\n",
       "      <td>21 coco creator 21 coco creator demo coco crea...</td>\n",
       "      <td>21 coco creator 21 coco creator demo coco crea...</td>\n",
       "      <td>271</td>\n",
       "    </tr>\n",
       "    <tr>\n",
       "      <th>learn-co-students/simple-blackjack-cli-online-web-prework</th>\n",
       "      <td>Ruby</td>\n",
       "      <td># Simplified Blackjack - Procedural\\n\\n## Lear...</td>\n",
       "      <td>simplified blackjack procedural learning goals...</td>\n",
       "      <td>simplified blackjack procedural learning goal ...</td>\n",
       "      <td>simplifi blackjack procedur learn goal util co...</td>\n",
       "      <td>simplifi blackjack procedur learn goal util co...</td>\n",
       "      <td>simplified blackjack procedural learning goal ...</td>\n",
       "      <td>12080</td>\n",
       "    </tr>\n",
       "    <tr>\n",
       "      <th>...</th>\n",
       "      <td>...</td>\n",
       "      <td>...</td>\n",
       "      <td>...</td>\n",
       "      <td>...</td>\n",
       "      <td>...</td>\n",
       "      <td>...</td>\n",
       "      <td>...</td>\n",
       "      <td>...</td>\n",
       "    </tr>\n",
       "    <tr>\n",
       "      <th>perezjbryanSchoolWork/Java-Blackjack-Strategy-Simulation</th>\n",
       "      <td>Java</td>\n",
       "      <td>\\nThis program simulates the game of Blackjack...</td>\n",
       "      <td>this program simulates the game of blackjack a...</td>\n",
       "      <td>this program simulates the game of blackjack a...</td>\n",
       "      <td>this program simul the game of blackjack and t...</td>\n",
       "      <td>program simul game blackjack best known way pl...</td>\n",
       "      <td>program simulates game blackjack best known wa...</td>\n",
       "      <td>348</td>\n",
       "    </tr>\n",
       "    <tr>\n",
       "      <th>TigerZen/Unity3D-BlackJack-Dapp</th>\n",
       "      <td>C_based</td>\n",
       "      <td># Unity3D-BlackJack-Dapp\\n\\n教你使用Unity3D製作Dapp ...</td>\n",
       "      <td>unity3dblackjackdapp unity3ddapp part2solidity...</td>\n",
       "      <td>unity3dblackjackdapp unity3ddapp part2solidity...</td>\n",
       "      <td>unity3dblackjackdapp unity3ddapp part2solid bl...</td>\n",
       "      <td>unity3dblackjackdapp unity3ddapp part2solid bl...</td>\n",
       "      <td>unity3dblackjackdapp unity3ddapp part2solidity...</td>\n",
       "      <td>322</td>\n",
       "    </tr>\n",
       "    <tr>\n",
       "      <th>DEEBAZZ890/Blackjack-game</th>\n",
       "      <td>Python</td>\n",
       "      <td># 21/Blackjack-game\\n\\nFrom a single deck of c...</td>\n",
       "      <td>21blackjackgame from a single deck of cards pi...</td>\n",
       "      <td>21blackjackgame from a single deck of card pic...</td>\n",
       "      <td>21blackjackgam from a singl deck of card pick ...</td>\n",
       "      <td>21blackjackgam singl deck card pick two player...</td>\n",
       "      <td>21blackjackgame single deck card pick two play...</td>\n",
       "      <td>1155</td>\n",
       "    </tr>\n",
       "    <tr>\n",
       "      <th>cs361-W16/Blackjack-14</th>\n",
       "      <td>Java</td>\n",
       "      <td>[![Build Status](https://travis-ci.org/cs361-W...</td>\n",
       "      <td>build statushttpstravisciorgcs361w16blackjack1...</td>\n",
       "      <td>build statushttpstravisciorgcs361w16blackjack1...</td>\n",
       "      <td>build statushttpstravisciorgcs361w16blackjack1...</td>\n",
       "      <td>build statushttpstravisciorgcs361w16blackjack1...</td>\n",
       "      <td>build statushttpstravisciorgcs361w16blackjack1...</td>\n",
       "      <td>127</td>\n",
       "    </tr>\n",
       "    <tr>\n",
       "      <th>cs361-W16/Blackjack-8</th>\n",
       "      <td>Java</td>\n",
       "      <td># Blackjack-8\\n\\nTravis Status: [![Build Statu...</td>\n",
       "      <td>blackjack8 travis status build statushttpstrav...</td>\n",
       "      <td>blackjack8 travis status build statushttpstrav...</td>\n",
       "      <td>blackjack8 travi status build statushttpstravi...</td>\n",
       "      <td>blackjack8 travi status build statushttpstravi...</td>\n",
       "      <td>blackjack8 travis status build statushttpstrav...</td>\n",
       "      <td>156</td>\n",
       "    </tr>\n",
       "  </tbody>\n",
       "</table>\n",
       "<p>342 rows × 8 columns</p>\n",
       "</div>"
      ],
      "text/plain": [
       "                                                      language  \\\n",
       "repo                                                             \n",
       "learn-co-students/simple-blackjack-cli-prework            Ruby   \n",
       "datamllab/rlcard                                        Python   \n",
       "learn-co-students/simple-blackjack-cli-001-prew...        Ruby   \n",
       "cocos-creator/tutorial-blackjack-deprecated         JavaScript   \n",
       "learn-co-students/simple-blackjack-cli-online-w...        Ruby   \n",
       "...                                                        ...   \n",
       "perezjbryanSchoolWork/Java-Blackjack-Strategy-S...        Java   \n",
       "TigerZen/Unity3D-BlackJack-Dapp                        C_based   \n",
       "DEEBAZZ890/Blackjack-game                               Python   \n",
       "cs361-W16/Blackjack-14                                    Java   \n",
       "cs361-W16/Blackjack-8                                     Java   \n",
       "\n",
       "                                                                                      readme_contents  \\\n",
       "repo                                                                                                    \n",
       "learn-co-students/simple-blackjack-cli-prework      # Simplified Blackjack - Procedural\\n\\n## Lear...   \n",
       "datamllab/rlcard                                    # RLCard: A Toolkit for Reinforcement Learning...   \n",
       "learn-co-students/simple-blackjack-cli-001-prew...  # Simplified Blackjack - Procedural\\n\\n## Lear...   \n",
       "cocos-creator/tutorial-blackjack-deprecated         # 21点游戏 - Cocos Creator 制造\\n\\n「21点游戏」是 Cocos C...   \n",
       "learn-co-students/simple-blackjack-cli-online-w...  # Simplified Blackjack - Procedural\\n\\n## Lear...   \n",
       "...                                                                                               ...   \n",
       "perezjbryanSchoolWork/Java-Blackjack-Strategy-S...  \\nThis program simulates the game of Blackjack...   \n",
       "TigerZen/Unity3D-BlackJack-Dapp                     # Unity3D-BlackJack-Dapp\\n\\n教你使用Unity3D製作Dapp ...   \n",
       "DEEBAZZ890/Blackjack-game                           # 21/Blackjack-game\\n\\nFrom a single deck of c...   \n",
       "cs361-W16/Blackjack-14                              [![Build Status](https://travis-ci.org/cs361-W...   \n",
       "cs361-W16/Blackjack-8                               # Blackjack-8\\n\\nTravis Status: [![Build Statu...   \n",
       "\n",
       "                                                                                         readme_clean  \\\n",
       "repo                                                                                                    \n",
       "learn-co-students/simple-blackjack-cli-prework      simplified blackjack procedural learning goals...   \n",
       "datamllab/rlcard                                    rlcard a toolkit for reinforcement learning in...   \n",
       "learn-co-students/simple-blackjack-cli-001-prew...  simplified blackjack procedural learning goals...   \n",
       "cocos-creator/tutorial-blackjack-deprecated         21 cocos creator 21 cocos creator demo cocos c...   \n",
       "learn-co-students/simple-blackjack-cli-online-w...  simplified blackjack procedural learning goals...   \n",
       "...                                                                                               ...   \n",
       "perezjbryanSchoolWork/Java-Blackjack-Strategy-S...  this program simulates the game of blackjack a...   \n",
       "TigerZen/Unity3D-BlackJack-Dapp                     unity3dblackjackdapp unity3ddapp part2solidity...   \n",
       "DEEBAZZ890/Blackjack-game                           21blackjackgame from a single deck of cards pi...   \n",
       "cs361-W16/Blackjack-14                              build statushttpstravisciorgcs361w16blackjack1...   \n",
       "cs361-W16/Blackjack-8                               blackjack8 travis status build statushttpstrav...   \n",
       "\n",
       "                                                                                          readme_lemm  \\\n",
       "repo                                                                                                    \n",
       "learn-co-students/simple-blackjack-cli-prework      simplified blackjack procedural learning goal ...   \n",
       "datamllab/rlcard                                    rlcard a toolkit for reinforcement learning in...   \n",
       "learn-co-students/simple-blackjack-cli-001-prew...  simplified blackjack procedural learning goal ...   \n",
       "cocos-creator/tutorial-blackjack-deprecated         21 coco creator 21 coco creator demo coco crea...   \n",
       "learn-co-students/simple-blackjack-cli-online-w...  simplified blackjack procedural learning goal ...   \n",
       "...                                                                                               ...   \n",
       "perezjbryanSchoolWork/Java-Blackjack-Strategy-S...  this program simulates the game of blackjack a...   \n",
       "TigerZen/Unity3D-BlackJack-Dapp                     unity3dblackjackdapp unity3ddapp part2solidity...   \n",
       "DEEBAZZ890/Blackjack-game                           21blackjackgame from a single deck of card pic...   \n",
       "cs361-W16/Blackjack-14                              build statushttpstravisciorgcs361w16blackjack1...   \n",
       "cs361-W16/Blackjack-8                               blackjack8 travis status build statushttpstrav...   \n",
       "\n",
       "                                                                                          readme_stem  \\\n",
       "repo                                                                                                    \n",
       "learn-co-students/simple-blackjack-cli-prework      simplifi blackjack procedur learn goal util co...   \n",
       "datamllab/rlcard                                    rlcard a toolkit for reinforc learn in card ga...   \n",
       "learn-co-students/simple-blackjack-cli-001-prew...  simplifi blackjack procedur learn goal util co...   \n",
       "cocos-creator/tutorial-blackjack-deprecated         21 coco creator 21 coco creator demo coco crea...   \n",
       "learn-co-students/simple-blackjack-cli-online-w...  simplifi blackjack procedur learn goal util co...   \n",
       "...                                                                                               ...   \n",
       "perezjbryanSchoolWork/Java-Blackjack-Strategy-S...  this program simul the game of blackjack and t...   \n",
       "TigerZen/Unity3D-BlackJack-Dapp                     unity3dblackjackdapp unity3ddapp part2solid bl...   \n",
       "DEEBAZZ890/Blackjack-game                           21blackjackgam from a singl deck of card pick ...   \n",
       "cs361-W16/Blackjack-14                              build statushttpstravisciorgcs361w16blackjack1...   \n",
       "cs361-W16/Blackjack-8                               blackjack8 travi status build statushttpstravi...   \n",
       "\n",
       "                                                                                readme_stem_no_swords  \\\n",
       "repo                                                                                                    \n",
       "learn-co-students/simple-blackjack-cli-prework      simplifi blackjack procedur learn goal util co...   \n",
       "datamllab/rlcard                                    rlcard toolkit reinforc learn card game img wi...   \n",
       "learn-co-students/simple-blackjack-cli-001-prew...  simplifi blackjack procedur learn goal util co...   \n",
       "cocos-creator/tutorial-blackjack-deprecated         21 coco creator 21 coco creator demo coco crea...   \n",
       "learn-co-students/simple-blackjack-cli-online-w...  simplifi blackjack procedur learn goal util co...   \n",
       "...                                                                                               ...   \n",
       "perezjbryanSchoolWork/Java-Blackjack-Strategy-S...  program simul game blackjack best known way pl...   \n",
       "TigerZen/Unity3D-BlackJack-Dapp                     unity3dblackjackdapp unity3ddapp part2solid bl...   \n",
       "DEEBAZZ890/Blackjack-game                           21blackjackgam singl deck card pick two player...   \n",
       "cs361-W16/Blackjack-14                              build statushttpstravisciorgcs361w16blackjack1...   \n",
       "cs361-W16/Blackjack-8                               blackjack8 travi status build statushttpstravi...   \n",
       "\n",
       "                                                                                readme_lemm_no_swords  \\\n",
       "repo                                                                                                    \n",
       "learn-co-students/simple-blackjack-cli-prework      simplified blackjack procedural learning goal ...   \n",
       "datamllab/rlcard                                    rlcard toolkit reinforcement learning card gam...   \n",
       "learn-co-students/simple-blackjack-cli-001-prew...  simplified blackjack procedural learning goal ...   \n",
       "cocos-creator/tutorial-blackjack-deprecated         21 coco creator 21 coco creator demo coco crea...   \n",
       "learn-co-students/simple-blackjack-cli-online-w...  simplified blackjack procedural learning goal ...   \n",
       "...                                                                                               ...   \n",
       "perezjbryanSchoolWork/Java-Blackjack-Strategy-S...  program simulates game blackjack best known wa...   \n",
       "TigerZen/Unity3D-BlackJack-Dapp                     unity3dblackjackdapp unity3ddapp part2solidity...   \n",
       "DEEBAZZ890/Blackjack-game                           21blackjackgame single deck card pick two play...   \n",
       "cs361-W16/Blackjack-14                              build statushttpstravisciorgcs361w16blackjack1...   \n",
       "cs361-W16/Blackjack-8                               blackjack8 travis status build statushttpstrav...   \n",
       "\n",
       "                                                    readme_length  \n",
       "repo                                                               \n",
       "learn-co-students/simple-blackjack-cli-prework              12080  \n",
       "datamllab/rlcard                                            18918  \n",
       "learn-co-students/simple-blackjack-cli-001-prew...          12080  \n",
       "cocos-creator/tutorial-blackjack-deprecated                   271  \n",
       "learn-co-students/simple-blackjack-cli-online-w...          12080  \n",
       "...                                                           ...  \n",
       "perezjbryanSchoolWork/Java-Blackjack-Strategy-S...            348  \n",
       "TigerZen/Unity3D-BlackJack-Dapp                               322  \n",
       "DEEBAZZ890/Blackjack-game                                    1155  \n",
       "cs361-W16/Blackjack-14                                        127  \n",
       "cs361-W16/Blackjack-8                                         156  \n",
       "\n",
       "[342 rows x 8 columns]"
      ]
     },
     "execution_count": 46,
     "metadata": {},
     "output_type": "execute_result"
    }
   ],
   "source": [
    "df"
   ]
  },
  {
   "cell_type": "code",
   "execution_count": null,
   "id": "c1c09610-2554-49c8-9c13-0cd199ad819e",
   "metadata": {},
   "outputs": [],
   "source": []
  }
 ],
 "metadata": {
  "kernelspec": {
   "display_name": "Python 3 (ipykernel)",
   "language": "python",
   "name": "python3"
  },
  "language_info": {
   "codemirror_mode": {
    "name": "ipython",
    "version": 3
   },
   "file_extension": ".py",
   "mimetype": "text/x-python",
   "name": "python",
   "nbconvert_exporter": "python",
   "pygments_lexer": "ipython3",
   "version": "3.9.13"
  }
 },
 "nbformat": 4,
 "nbformat_minor": 5
}
