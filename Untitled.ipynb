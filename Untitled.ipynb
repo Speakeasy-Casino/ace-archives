{
 "cells": [
  {
   "cell_type": "code",
   "execution_count": 3,
   "id": "7d5ed7e6-e7fc-4464-ba6b-325665efd4cb",
   "metadata": {},
   "outputs": [],
   "source": [
    "import pandas as pd"
   ]
  },
  {
   "cell_type": "code",
   "execution_count": 8,
   "id": "39be4342-553c-43b9-8de0-3a84d5eaeef0",
   "metadata": {},
   "outputs": [
    {
     "data": {
      "text/html": [
       "<div>\n",
       "<style scoped>\n",
       "    .dataframe tbody tr th:only-of-type {\n",
       "        vertical-align: middle;\n",
       "    }\n",
       "\n",
       "    .dataframe tbody tr th {\n",
       "        vertical-align: top;\n",
       "    }\n",
       "\n",
       "    .dataframe thead th {\n",
       "        text-align: right;\n",
       "    }\n",
       "</style>\n",
       "<table border=\"1\" class=\"dataframe\">\n",
       "  <thead>\n",
       "    <tr style=\"text-align: right;\">\n",
       "      <th></th>\n",
       "      <th>repo</th>\n",
       "      <th>language</th>\n",
       "      <th>readme_contents</th>\n",
       "    </tr>\n",
       "  </thead>\n",
       "  <tbody>\n",
       "    <tr>\n",
       "      <th>0</th>\n",
       "      <td>gocodeup/codeup-setup-script</td>\n",
       "      <td>Shell</td>\n",
       "      <td># Codeup Setup Script\\n\\nSetup script for Code...</td>\n",
       "    </tr>\n",
       "    <tr>\n",
       "      <th>1</th>\n",
       "      <td>gocodeup/movies-application</td>\n",
       "      <td>JavaScript</td>\n",
       "      <td># Movies Application\\n\\nFor this project, we w...</td>\n",
       "    </tr>\n",
       "    <tr>\n",
       "      <th>2</th>\n",
       "      <td>torvalds/linux</td>\n",
       "      <td>C</td>\n",
       "      <td>Linux kernel\\n============\\n\\nThere are severa...</td>\n",
       "    </tr>\n",
       "  </tbody>\n",
       "</table>\n",
       "</div>"
      ],
      "text/plain": [
       "                           repo    language  \\\n",
       "0  gocodeup/codeup-setup-script       Shell   \n",
       "1   gocodeup/movies-application  JavaScript   \n",
       "2                torvalds/linux           C   \n",
       "\n",
       "                                     readme_contents  \n",
       "0  # Codeup Setup Script\\n\\nSetup script for Code...  \n",
       "1  # Movies Application\\n\\nFor this project, we w...  \n",
       "2  Linux kernel\\n============\\n\\nThere are severa...  "
      ]
     },
     "execution_count": 8,
     "metadata": {},
     "output_type": "execute_result"
    }
   ],
   "source": [
    "df = pd.read_json('data.json')\n",
    "df"
   ]
  },
  {
   "cell_type": "code",
   "execution_count": 10,
   "id": "181a99b4-3972-49df-bcdc-a8b9ee03761b",
   "metadata": {},
   "outputs": [
    {
     "data": {
      "text/plain": [
       "'# Codeup Setup Script\\n\\nSetup script for Codeup students\\' laptops to install all of the tools we will\\nneed for the java course. We will install the following:\\n\\n- [xcode](https://developer.apple.com/xcode/features/): command line tools for\\n  macs\\n- [brew](http://brew.sh/): package manager for macs\\n- [java](https://en.wikipedia.org/wiki/Java_(programming_language))\\n- [tomcat](http://tomcat.apache.org/): the java webserver\\n- [maven](https://maven.apache.org/): a java dependency and build management tool\\n- [mysql](https://www.mysql.com/): the database we\\'ll use for the class\\n- [node js](https://nodejs.org/en/): a JavaScript runtime outside the browser\\n- [npm](https://www.npmjs.com/): a package manager for JavaScript\\n- [intellij](https://www.jetbrains.com/idea/): a Java IDE\\n\\nIn addition, we will:\\n\\n- setup ssh keys for the student\\'s laptop and guide them through the process of\\n  linking their ssh key to their Github account.\\n- Setup a global gitignore file and set the default commit editor to `nano`\\n  (only if these are not already set)\\n\\n## For Students\\n\\nCopy and paste the following in your terminal:\\n\\n```\\nbash -c \"$(curl -sS https://raw.githubusercontent.com/gocodeup/codeup-setup-script/master/install.sh)\"\\n```\\n\\n## Note for Instructors\\n\\nIf students already have an `id_rsa` ssh key generated, the script will *not*\\ntry to generate a new ones, and you will need to walk them through the process\\nof adding their existing key to Github.\\n\\nThe following should do the trick if they already have a ssh key pair, but it\\'s\\nnot wired up to Github.\\n\\n```bash\\npbcopy < ~/.ssh/id_rsa.pub\\nopen https://github.com/settings/ssh\\n```\\n'"
      ]
     },
     "execution_count": 10,
     "metadata": {},
     "output_type": "execute_result"
    }
   ],
   "source": [
    "df.readme_contents[0]"
   ]
  },
  {
   "cell_type": "code",
   "execution_count": null,
   "id": "5c8665e3-d417-4ddc-8989-57eef895514a",
   "metadata": {},
   "outputs": [],
   "source": []
  }
 ],
 "metadata": {
  "kernelspec": {
   "display_name": "Python 3 (ipykernel)",
   "language": "python",
   "name": "python3"
  },
  "language_info": {
   "codemirror_mode": {
    "name": "ipython",
    "version": 3
   },
   "file_extension": ".py",
   "mimetype": "text/x-python",
   "name": "python",
   "nbconvert_exporter": "python",
   "pygments_lexer": "ipython3",
   "version": "3.9.13"
  }
 },
 "nbformat": 4,
 "nbformat_minor": 5
}
