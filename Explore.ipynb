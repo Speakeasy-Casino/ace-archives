{
 "cells": [
  {
   "cell_type": "code",
   "execution_count": 1,
   "id": "cbd38088-b731-45dd-9be5-5cde2de16c6f",
   "metadata": {},
   "outputs": [],
   "source": [
    "import os\n",
    "import json\n",
    "from typing import Dict, List, Optional, Union, cast\n",
    "import requests\n",
    "import acquire as a\n",
    "import re\n",
    "import numpy as np\n",
    "import pandas as pd\n",
    "from nltk.corpus import stopwords\n",
    "from nltk.tokenize.toktok import ToktokTokenizer\n",
    "import requests\n",
    "import unicodedata\n",
    "import nltk\n",
    "from textblob import TextBlob, Word\n",
    "from nltk.stem import PorterStemmer, SnowballStemmer\n",
    "from nltk.stem import WordNetLemmatizer\n",
    "import prepare as p\n",
    "import acquire as a\n",
    "import new_lib as nl\n",
    "from sklearn.feature_extraction.text import TfidfVectorizer\n",
    "from sklearn.tree import DecisionTreeClassifier, plot_tree\n",
    "from sklearn.metrics import classification_report\n",
    "from sklearn.metrics import confusion_matrix, ConfusionMatrixDisplay\n",
    "from matplotlib import pyplot as plt\n",
    "from sklearn.ensemble import RandomForestClassifier"
   ]
  },
  {
   "cell_type": "code",
   "execution_count": 2,
   "id": "8163c0eb-d6fa-426e-913a-0cbdba08764f",
   "metadata": {},
   "outputs": [],
   "source": [
    "df = p.get_links('links2.csv')"
   ]
  },
  {
   "cell_type": "code",
   "execution_count": 3,
   "id": "54ed0ab4-2927-4d2d-9c49-a15ed7ed6b5d",
   "metadata": {},
   "outputs": [],
   "source": [
    "df2 = a.get_dataframe(df.href)"
   ]
  },
  {
   "cell_type": "code",
   "execution_count": 4,
   "id": "67713b7c-b0df-46e1-8edd-cb474a0cd746",
   "metadata": {},
   "outputs": [],
   "source": [
    "df2 = p.get_languages(df2)"
   ]
  },
  {
   "cell_type": "code",
   "execution_count": 5,
   "id": "dc37465f-bbf0-4135-802a-90da372b2ece",
   "metadata": {},
   "outputs": [],
   "source": [
    "df2 = p.clean_languages(df2)"
   ]
  },
  {
   "cell_type": "code",
   "execution_count": 6,
   "id": "bfc66086-d87b-43a0-9cd9-03b5030feaaa",
   "metadata": {},
   "outputs": [],
   "source": [
    "df2 = p.drop_blanks(df2)"
   ]
  },
  {
   "cell_type": "code",
   "execution_count": 7,
   "id": "07ba8560-a742-46ff-9454-facd9e35eaa5",
   "metadata": {},
   "outputs": [],
   "source": [
    "df2['readme_contents'] = df2['readme_contents'].apply(p.basic_clean)"
   ]
  },
  {
   "cell_type": "code",
   "execution_count": 8,
   "id": "a65a7a50-ea55-4842-8193-eb48dd666595",
   "metadata": {},
   "outputs": [],
   "source": [
    "words = ['java', 'blackjack','card','ace','rich', 'poor', \n",
    "         'bust', 'split', 'variables', 'loop', 'function', 'syntax', 'library', 'conditional', 'frameworks']"
   ]
  },
  {
   "cell_type": "code",
   "execution_count": 9,
   "id": "46961655-a199-44c2-8676-a6f06af8a2f1",
   "metadata": {},
   "outputs": [],
   "source": [
    "df2['readme_contents'] = df2['readme_contents'].apply(p.remove_stopwords, extra_words = words)"
   ]
  },
  {
   "cell_type": "code",
   "execution_count": 10,
   "id": "a9e4ca1b-3a10-46fc-b915-6cd0bd707d1d",
   "metadata": {},
   "outputs": [],
   "source": [
    "df2['readme_contents'] = df2['readme_contents'].apply(p.tokenized)"
   ]
  },
  {
   "cell_type": "code",
   "execution_count": 11,
   "id": "0621182c-8126-4986-9670-e4e84d41376e",
   "metadata": {},
   "outputs": [],
   "source": [
    "df2['readme_contents'] = df2['readme_contents'].apply(p.split)"
   ]
  },
  {
   "cell_type": "code",
   "execution_count": 12,
   "id": "733456fd-432d-449b-a0e2-557a7e10a9c3",
   "metadata": {},
   "outputs": [],
   "source": [
    "df2 = df2.dropna()"
   ]
  },
  {
   "cell_type": "code",
   "execution_count": 13,
   "id": "38133a38-440a-48e8-b092-e618809b543c",
   "metadata": {},
   "outputs": [],
   "source": [
    "df2 = df2[df2['language'] != 'Other']"
   ]
  },
  {
   "cell_type": "code",
   "execution_count": 14,
   "id": "54df2e80-d61e-4830-90ca-6a561021e61c",
   "metadata": {},
   "outputs": [],
   "source": [
    "train, val, test, X_train, y_train, X_val, y_val, X_test, y_test = nl.train_vailidate_test_split(df2, 'language')"
   ]
  },
  {
   "cell_type": "code",
   "execution_count": 15,
   "id": "58775303-aa59-4e57-bb40-dc9c2da8498b",
   "metadata": {},
   "outputs": [
    {
     "data": {
      "text/plain": [
       "191"
      ]
     },
     "execution_count": 15,
     "metadata": {},
     "output_type": "execute_result"
    }
   ],
   "source": [
    "len(train)"
   ]
  },
  {
   "cell_type": "code",
   "execution_count": 16,
   "id": "da8cd5e2-924a-4779-afa3-d45cbe035cc4",
   "metadata": {},
   "outputs": [
    {
     "data": {
      "text/plain": [
       "82"
      ]
     },
     "execution_count": 16,
     "metadata": {},
     "output_type": "execute_result"
    }
   ],
   "source": [
    "len(val)"
   ]
  },
  {
   "cell_type": "code",
   "execution_count": 17,
   "id": "443b5260-1502-4f8a-9f01-4d8d6fcea6b6",
   "metadata": {},
   "outputs": [
    {
     "data": {
      "text/plain": [
       "69"
      ]
     },
     "execution_count": 17,
     "metadata": {},
     "output_type": "execute_result"
    }
   ],
   "source": [
    "len(test)"
   ]
  },
  {
   "cell_type": "code",
   "execution_count": 18,
   "id": "60167bba-f0ff-499f-b2d0-56756b6a77d3",
   "metadata": {},
   "outputs": [
    {
     "data": {
      "text/plain": [
       "repo               0\n",
       "language           0\n",
       "readme_contents    0\n",
       "dtype: int64"
      ]
     },
     "execution_count": 18,
     "metadata": {},
     "output_type": "execute_result"
    }
   ],
   "source": [
    "train.isna().sum()"
   ]
  },
  {
   "cell_type": "code",
   "execution_count": 19,
   "id": "ad34b614-fa9e-40ca-8a58-a5fec0a09e49",
   "metadata": {},
   "outputs": [
    {
     "data": {
      "text/html": [
       "<div>\n",
       "<style scoped>\n",
       "    .dataframe tbody tr th:only-of-type {\n",
       "        vertical-align: middle;\n",
       "    }\n",
       "\n",
       "    .dataframe tbody tr th {\n",
       "        vertical-align: top;\n",
       "    }\n",
       "\n",
       "    .dataframe thead th {\n",
       "        text-align: right;\n",
       "    }\n",
       "</style>\n",
       "<table border=\"1\" class=\"dataframe\">\n",
       "  <thead>\n",
       "    <tr style=\"text-align: right;\">\n",
       "      <th></th>\n",
       "      <th>repo</th>\n",
       "      <th>language</th>\n",
       "      <th>readme_contents</th>\n",
       "    </tr>\n",
       "  </thead>\n",
       "  <tbody>\n",
       "    <tr>\n",
       "      <th>311</th>\n",
       "      <td>learn-co-students/cli-applications-simple-blac...</td>\n",
       "      <td>Ruby</td>\n",
       "      <td>simplifi procedur learn goal util logic loop g...</td>\n",
       "    </tr>\n",
       "    <tr>\n",
       "      <th>406</th>\n",
       "      <td>grapeJUICE1/python-mini-projects</td>\n",
       "      <td>Python</td>\n",
       "      <td>python mini project repositori contain mini py...</td>\n",
       "    </tr>\n",
       "    <tr>\n",
       "      <th>225</th>\n",
       "      <td>learn-co-students/simple-blackjack-cli-chicago...</td>\n",
       "      <td>Ruby</td>\n",
       "      <td>simplifi procedur learn goal util logic loop g...</td>\n",
       "    </tr>\n",
       "    <tr>\n",
       "      <th>361</th>\n",
       "      <td>guilhermedelemos/blackjack</td>\n",
       "      <td>Java</td>\n",
       "      <td>vinteeum build statushttpstravisciorgguilherme...</td>\n",
       "    </tr>\n",
       "    <tr>\n",
       "      <th>53</th>\n",
       "      <td>tedyoung/blackjack-r2ha-2022</td>\n",
       "      <td>Java</td>\n",
       "      <td>refactor hexagon architectur starter code base...</td>\n",
       "    </tr>\n",
       "    <tr>\n",
       "      <th>...</th>\n",
       "      <td>...</td>\n",
       "      <td>...</td>\n",
       "      <td>...</td>\n",
       "    </tr>\n",
       "    <tr>\n",
       "      <th>437</th>\n",
       "      <td>DEEBAZZ890/Blackjack-game</td>\n",
       "      <td>Python</td>\n",
       "      <td>21blackjackgam singl deck card pick two player...</td>\n",
       "    </tr>\n",
       "    <tr>\n",
       "      <th>286</th>\n",
       "      <td>nehctuk/teampun-ther</td>\n",
       "      <td>Java</td>\n",
       "      <td>teampunth</td>\n",
       "    </tr>\n",
       "    <tr>\n",
       "      <th>215</th>\n",
       "      <td>learn-co-students/simple-blackjack-cli-chicago...</td>\n",
       "      <td>Ruby</td>\n",
       "      <td>simplifi procedur learn goal util logic loop g...</td>\n",
       "    </tr>\n",
       "    <tr>\n",
       "      <th>61</th>\n",
       "      <td>learn-co-students/simple-blackjack-cli-dumbo-w...</td>\n",
       "      <td>Ruby</td>\n",
       "      <td>simplifi procedur learn goal util logic loop g...</td>\n",
       "    </tr>\n",
       "    <tr>\n",
       "      <th>240</th>\n",
       "      <td>cklone/blackjack-ruby</td>\n",
       "      <td>Ruby</td>\n",
       "      <td>directori contain rubi program class kept ever...</td>\n",
       "    </tr>\n",
       "  </tbody>\n",
       "</table>\n",
       "<p>191 rows × 3 columns</p>\n",
       "</div>"
      ],
      "text/plain": [
       "                                                  repo language  \\\n",
       "311  learn-co-students/cli-applications-simple-blac...     Ruby   \n",
       "406                   grapeJUICE1/python-mini-projects   Python   \n",
       "225  learn-co-students/simple-blackjack-cli-chicago...     Ruby   \n",
       "361                         guilhermedelemos/blackjack     Java   \n",
       "53                        tedyoung/blackjack-r2ha-2022     Java   \n",
       "..                                                 ...      ...   \n",
       "437                          DEEBAZZ890/Blackjack-game   Python   \n",
       "286                               nehctuk/teampun-ther     Java   \n",
       "215  learn-co-students/simple-blackjack-cli-chicago...     Ruby   \n",
       "61   learn-co-students/simple-blackjack-cli-dumbo-w...     Ruby   \n",
       "240                              cklone/blackjack-ruby     Ruby   \n",
       "\n",
       "                                       readme_contents  \n",
       "311  simplifi procedur learn goal util logic loop g...  \n",
       "406  python mini project repositori contain mini py...  \n",
       "225  simplifi procedur learn goal util logic loop g...  \n",
       "361  vinteeum build statushttpstravisciorgguilherme...  \n",
       "53   refactor hexagon architectur starter code base...  \n",
       "..                                                 ...  \n",
       "437  21blackjackgam singl deck card pick two player...  \n",
       "286                                          teampunth  \n",
       "215  simplifi procedur learn goal util logic loop g...  \n",
       "61   simplifi procedur learn goal util logic loop g...  \n",
       "240  directori contain rubi program class kept ever...  \n",
       "\n",
       "[191 rows x 3 columns]"
      ]
     },
     "execution_count": 19,
     "metadata": {},
     "output_type": "execute_result"
    }
   ],
   "source": [
    "train"
   ]
  },
  {
   "cell_type": "code",
   "execution_count": 20,
   "id": "3d5858cc-c870-4b66-b980-e95e37c13ee0",
   "metadata": {},
   "outputs": [],
   "source": [
    "word_list = []\n",
    "for n in train['readme_contents']:\n",
    "    word_list.extend(n.split(' '))"
   ]
  },
  {
   "cell_type": "code",
   "execution_count": 21,
   "id": "00e0850e-b2fa-4d3d-8f27-e28b8317810f",
   "metadata": {},
   "outputs": [],
   "source": [
    "series = pd.Series(word_list)"
   ]
  },
  {
   "cell_type": "code",
   "execution_count": 22,
   "id": "882a6a1e-bb5f-47fe-9d2c-09091a382c3d",
   "metadata": {},
   "outputs": [
    {
     "data": {
      "text/plain": [
       "method     9585\n",
       "test       2444\n",
       "use        2234\n",
       "line       2054\n",
       "put        2031\n",
       "command    1957\n",
       "user       1954\n",
       "input      1917\n",
       "call       1847\n",
       "player     1817\n",
       "file       1762\n",
       "program    1620\n",
       "output     1581\n",
       "runner     1558\n",
       "hit        1422\n",
       "game       1392\n",
       "total      1338\n",
       "rubi       1336\n",
       "card       1269\n",
       "run        1260\n",
       "dtype: int64"
      ]
     },
     "execution_count": 22,
     "metadata": {},
     "output_type": "execute_result"
    }
   ],
   "source": [
    "series.value_counts().head(20)"
   ]
  },
  {
   "cell_type": "code",
   "execution_count": 23,
   "id": "666cb1e4-610d-46f8-89cb-43a8b0c21ec4",
   "metadata": {},
   "outputs": [],
   "source": [
    "tfidf = TfidfVectorizer()"
   ]
  },
  {
   "cell_type": "code",
   "execution_count": 24,
   "id": "868dd400-102c-4647-8e14-7296540033ae",
   "metadata": {},
   "outputs": [],
   "source": [
    "X_train = tfidf.fit_transform(X_train['readme_contents'])"
   ]
  },
  {
   "cell_type": "code",
   "execution_count": 25,
   "id": "1c8b5e6d-0221-47da-afda-cca7f64ef4fe",
   "metadata": {},
   "outputs": [],
   "source": [
    "X_val = tfidf.transform(X_val['readme_contents'])"
   ]
  },
  {
   "cell_type": "code",
   "execution_count": 26,
   "id": "879824b1-4ac5-49b2-93b9-b812f6e1a574",
   "metadata": {},
   "outputs": [],
   "source": [
    "X_val = pd.DataFrame(X_val.todense())"
   ]
  },
  {
   "cell_type": "code",
   "execution_count": 27,
   "id": "6a47de20-7623-46d6-ba4f-8ca654cc1b13",
   "metadata": {},
   "outputs": [],
   "source": [
    "clf = DecisionTreeClassifier(max_depth=6, random_state=77)"
   ]
  },
  {
   "cell_type": "code",
   "execution_count": 28,
   "id": "c101287c-d595-4dd5-9e35-6798f9170879",
   "metadata": {},
   "outputs": [],
   "source": [
    "X_train = pd.DataFrame(X_train.todense())"
   ]
  },
  {
   "cell_type": "code",
   "execution_count": 29,
   "id": "b63a84c6-dc17-4fbb-a1a7-83493d1e1f94",
   "metadata": {},
   "outputs": [
    {
     "data": {
      "text/html": [
       "<style>#sk-container-id-1 {color: black;background-color: white;}#sk-container-id-1 pre{padding: 0;}#sk-container-id-1 div.sk-toggleable {background-color: white;}#sk-container-id-1 label.sk-toggleable__label {cursor: pointer;display: block;width: 100%;margin-bottom: 0;padding: 0.3em;box-sizing: border-box;text-align: center;}#sk-container-id-1 label.sk-toggleable__label-arrow:before {content: \"▸\";float: left;margin-right: 0.25em;color: #696969;}#sk-container-id-1 label.sk-toggleable__label-arrow:hover:before {color: black;}#sk-container-id-1 div.sk-estimator:hover label.sk-toggleable__label-arrow:before {color: black;}#sk-container-id-1 div.sk-toggleable__content {max-height: 0;max-width: 0;overflow: hidden;text-align: left;background-color: #f0f8ff;}#sk-container-id-1 div.sk-toggleable__content pre {margin: 0.2em;color: black;border-radius: 0.25em;background-color: #f0f8ff;}#sk-container-id-1 input.sk-toggleable__control:checked~div.sk-toggleable__content {max-height: 200px;max-width: 100%;overflow: auto;}#sk-container-id-1 input.sk-toggleable__control:checked~label.sk-toggleable__label-arrow:before {content: \"▾\";}#sk-container-id-1 div.sk-estimator input.sk-toggleable__control:checked~label.sk-toggleable__label {background-color: #d4ebff;}#sk-container-id-1 div.sk-label input.sk-toggleable__control:checked~label.sk-toggleable__label {background-color: #d4ebff;}#sk-container-id-1 input.sk-hidden--visually {border: 0;clip: rect(1px 1px 1px 1px);clip: rect(1px, 1px, 1px, 1px);height: 1px;margin: -1px;overflow: hidden;padding: 0;position: absolute;width: 1px;}#sk-container-id-1 div.sk-estimator {font-family: monospace;background-color: #f0f8ff;border: 1px dotted black;border-radius: 0.25em;box-sizing: border-box;margin-bottom: 0.5em;}#sk-container-id-1 div.sk-estimator:hover {background-color: #d4ebff;}#sk-container-id-1 div.sk-parallel-item::after {content: \"\";width: 100%;border-bottom: 1px solid gray;flex-grow: 1;}#sk-container-id-1 div.sk-label:hover label.sk-toggleable__label {background-color: #d4ebff;}#sk-container-id-1 div.sk-serial::before {content: \"\";position: absolute;border-left: 1px solid gray;box-sizing: border-box;top: 0;bottom: 0;left: 50%;z-index: 0;}#sk-container-id-1 div.sk-serial {display: flex;flex-direction: column;align-items: center;background-color: white;padding-right: 0.2em;padding-left: 0.2em;position: relative;}#sk-container-id-1 div.sk-item {position: relative;z-index: 1;}#sk-container-id-1 div.sk-parallel {display: flex;align-items: stretch;justify-content: center;background-color: white;position: relative;}#sk-container-id-1 div.sk-item::before, #sk-container-id-1 div.sk-parallel-item::before {content: \"\";position: absolute;border-left: 1px solid gray;box-sizing: border-box;top: 0;bottom: 0;left: 50%;z-index: -1;}#sk-container-id-1 div.sk-parallel-item {display: flex;flex-direction: column;z-index: 1;position: relative;background-color: white;}#sk-container-id-1 div.sk-parallel-item:first-child::after {align-self: flex-end;width: 50%;}#sk-container-id-1 div.sk-parallel-item:last-child::after {align-self: flex-start;width: 50%;}#sk-container-id-1 div.sk-parallel-item:only-child::after {width: 0;}#sk-container-id-1 div.sk-dashed-wrapped {border: 1px dashed gray;margin: 0 0.4em 0.5em 0.4em;box-sizing: border-box;padding-bottom: 0.4em;background-color: white;}#sk-container-id-1 div.sk-label label {font-family: monospace;font-weight: bold;display: inline-block;line-height: 1.2em;}#sk-container-id-1 div.sk-label-container {text-align: center;}#sk-container-id-1 div.sk-container {/* jupyter's `normalize.less` sets `[hidden] { display: none; }` but bootstrap.min.css set `[hidden] { display: none !important; }` so we also need the `!important` here to be able to override the default hidden behavior on the sphinx rendered scikit-learn.org. See: https://github.com/scikit-learn/scikit-learn/issues/21755 */display: inline-block !important;position: relative;}#sk-container-id-1 div.sk-text-repr-fallback {display: none;}</style><div id=\"sk-container-id-1\" class=\"sk-top-container\"><div class=\"sk-text-repr-fallback\"><pre>DecisionTreeClassifier(max_depth=6, random_state=77)</pre><b>In a Jupyter environment, please rerun this cell to show the HTML representation or trust the notebook. <br />On GitHub, the HTML representation is unable to render, please try loading this page with nbviewer.org.</b></div><div class=\"sk-container\" hidden><div class=\"sk-item\"><div class=\"sk-estimator sk-toggleable\"><input class=\"sk-toggleable__control sk-hidden--visually\" id=\"sk-estimator-id-1\" type=\"checkbox\" checked><label for=\"sk-estimator-id-1\" class=\"sk-toggleable__label sk-toggleable__label-arrow\">DecisionTreeClassifier</label><div class=\"sk-toggleable__content\"><pre>DecisionTreeClassifier(max_depth=6, random_state=77)</pre></div></div></div></div></div>"
      ],
      "text/plain": [
       "DecisionTreeClassifier(max_depth=6, random_state=77)"
      ]
     },
     "execution_count": 29,
     "metadata": {},
     "output_type": "execute_result"
    }
   ],
   "source": [
    "clf.fit(X_train, y_train)"
   ]
  },
  {
   "cell_type": "code",
   "execution_count": 30,
   "id": "a165d78f-d2c0-4d21-ad6d-a4c46b50d300",
   "metadata": {},
   "outputs": [],
   "source": [
    "y_pred = clf.predict(X_train)"
   ]
  },
  {
   "cell_type": "code",
   "execution_count": 31,
   "id": "b9254886-6c0a-4b3d-83bb-1b00b78db30d",
   "metadata": {},
   "outputs": [],
   "source": [
    "y_pred_proba = clf.predict_proba(X_train)"
   ]
  },
  {
   "cell_type": "code",
   "execution_count": 32,
   "id": "88ad1149-c491-4702-ad5e-85a94e8479fb",
   "metadata": {},
   "outputs": [
    {
     "name": "stdout",
     "output_type": "stream",
     "text": [
      "Accuracy of Decision Tree classifier on training set: 0.92\n"
     ]
    }
   ],
   "source": [
    "print('Accuracy of Decision Tree classifier on training set: {:.2f}'\n",
    "      .format(clf.score(X_train, y_train)))"
   ]
  },
  {
   "cell_type": "code",
   "execution_count": 33,
   "id": "d8ef0859-0131-44ae-9601-e214e03ce710",
   "metadata": {},
   "outputs": [
    {
     "data": {
      "text/plain": [
       "array([[  8,   5,   0,   0,   0],\n",
       "       [  0,  22,   0,   0,   0],\n",
       "       [  0,   6,  13,   0,   0],\n",
       "       [  0,   3,   0,  18,   0],\n",
       "       [  0,   2,   0,   0, 114]])"
      ]
     },
     "execution_count": 33,
     "metadata": {},
     "output_type": "execute_result"
    }
   ],
   "source": [
    "confusion_matrix(y_train, y_pred)"
   ]
  },
  {
   "cell_type": "code",
   "execution_count": 34,
   "id": "539709cf-3d74-4d40-a45a-bb8b42112ba1",
   "metadata": {},
   "outputs": [
    {
     "data": {
      "text/plain": [
       "<sklearn.metrics._plot.confusion_matrix.ConfusionMatrixDisplay at 0x16963f4f0>"
      ]
     },
     "execution_count": 34,
     "metadata": {},
     "output_type": "execute_result"
    }
   ],
   "source": [
    "ConfusionMatrixDisplay(confusion_matrix(y_train, y_pred))"
   ]
  },
  {
   "cell_type": "code",
   "execution_count": 35,
   "id": "e68d17f3-b875-4de3-b15e-dde7b6235d7d",
   "metadata": {},
   "outputs": [
    {
     "data": {
      "text/html": [
       "<div>\n",
       "<style scoped>\n",
       "    .dataframe tbody tr th:only-of-type {\n",
       "        vertical-align: middle;\n",
       "    }\n",
       "\n",
       "    .dataframe tbody tr th {\n",
       "        vertical-align: top;\n",
       "    }\n",
       "\n",
       "    .dataframe thead th {\n",
       "        text-align: right;\n",
       "    }\n",
       "</style>\n",
       "<table border=\"1\" class=\"dataframe\">\n",
       "  <thead>\n",
       "    <tr style=\"text-align: right;\">\n",
       "      <th>col_0</th>\n",
       "      <th>C_based</th>\n",
       "      <th>Java</th>\n",
       "      <th>JavaScript</th>\n",
       "      <th>Python</th>\n",
       "      <th>Ruby</th>\n",
       "    </tr>\n",
       "    <tr>\n",
       "      <th>language</th>\n",
       "      <th></th>\n",
       "      <th></th>\n",
       "      <th></th>\n",
       "      <th></th>\n",
       "      <th></th>\n",
       "    </tr>\n",
       "  </thead>\n",
       "  <tbody>\n",
       "    <tr>\n",
       "      <th>C_based</th>\n",
       "      <td>8</td>\n",
       "      <td>5</td>\n",
       "      <td>0</td>\n",
       "      <td>0</td>\n",
       "      <td>0</td>\n",
       "    </tr>\n",
       "    <tr>\n",
       "      <th>Java</th>\n",
       "      <td>0</td>\n",
       "      <td>22</td>\n",
       "      <td>0</td>\n",
       "      <td>0</td>\n",
       "      <td>0</td>\n",
       "    </tr>\n",
       "    <tr>\n",
       "      <th>JavaScript</th>\n",
       "      <td>0</td>\n",
       "      <td>6</td>\n",
       "      <td>13</td>\n",
       "      <td>0</td>\n",
       "      <td>0</td>\n",
       "    </tr>\n",
       "    <tr>\n",
       "      <th>Python</th>\n",
       "      <td>0</td>\n",
       "      <td>3</td>\n",
       "      <td>0</td>\n",
       "      <td>18</td>\n",
       "      <td>0</td>\n",
       "    </tr>\n",
       "    <tr>\n",
       "      <th>Ruby</th>\n",
       "      <td>0</td>\n",
       "      <td>2</td>\n",
       "      <td>0</td>\n",
       "      <td>0</td>\n",
       "      <td>114</td>\n",
       "    </tr>\n",
       "  </tbody>\n",
       "</table>\n",
       "</div>"
      ],
      "text/plain": [
       "col_0       C_based  Java  JavaScript  Python  Ruby\n",
       "language                                           \n",
       "C_based           8     5           0       0     0\n",
       "Java              0    22           0       0     0\n",
       "JavaScript        0     6          13       0     0\n",
       "Python            0     3           0      18     0\n",
       "Ruby              0     2           0       0   114"
      ]
     },
     "execution_count": 35,
     "metadata": {},
     "output_type": "execute_result"
    }
   ],
   "source": [
    "pd.crosstab(y_train, y_pred)"
   ]
  },
  {
   "cell_type": "code",
   "execution_count": 36,
   "id": "25899524-8d1d-4f8a-9ddd-7c19abf6415f",
   "metadata": {},
   "outputs": [],
   "source": [
    "val_pred = clf.predict(X_val)"
   ]
  },
  {
   "cell_type": "code",
   "execution_count": 37,
   "id": "45aca295-3e95-486a-a05c-3bfd3b56ab99",
   "metadata": {},
   "outputs": [
    {
     "name": "stdout",
     "output_type": "stream",
     "text": [
      "Accuracy of Decision Tree classifier on training set: 0.87\n"
     ]
    }
   ],
   "source": [
    "print('Accuracy of Decision Tree classifier on training set: {:.2f}'\n",
    "      .format(clf.score(X_val, y_val)))"
   ]
  },
  {
   "cell_type": "code",
   "execution_count": 38,
   "id": "668d2420-9c91-4c50-a5fe-67db9e523de6",
   "metadata": {},
   "outputs": [],
   "source": [
    "rf = RandomForestClassifier(bootstrap=True, \n",
    "                            class_weight=None, \n",
    "                            criterion='gini',\n",
    "                            min_samples_leaf=5,\n",
    "                            n_estimators=250,\n",
    "                            max_depth=6, \n",
    "                            random_state=77)"
   ]
  },
  {
   "cell_type": "code",
   "execution_count": 39,
   "id": "7dc6d4fa-38df-4e5f-8587-775cac223cbb",
   "metadata": {},
   "outputs": [
    {
     "data": {
      "text/html": [
       "<style>#sk-container-id-2 {color: black;background-color: white;}#sk-container-id-2 pre{padding: 0;}#sk-container-id-2 div.sk-toggleable {background-color: white;}#sk-container-id-2 label.sk-toggleable__label {cursor: pointer;display: block;width: 100%;margin-bottom: 0;padding: 0.3em;box-sizing: border-box;text-align: center;}#sk-container-id-2 label.sk-toggleable__label-arrow:before {content: \"▸\";float: left;margin-right: 0.25em;color: #696969;}#sk-container-id-2 label.sk-toggleable__label-arrow:hover:before {color: black;}#sk-container-id-2 div.sk-estimator:hover label.sk-toggleable__label-arrow:before {color: black;}#sk-container-id-2 div.sk-toggleable__content {max-height: 0;max-width: 0;overflow: hidden;text-align: left;background-color: #f0f8ff;}#sk-container-id-2 div.sk-toggleable__content pre {margin: 0.2em;color: black;border-radius: 0.25em;background-color: #f0f8ff;}#sk-container-id-2 input.sk-toggleable__control:checked~div.sk-toggleable__content {max-height: 200px;max-width: 100%;overflow: auto;}#sk-container-id-2 input.sk-toggleable__control:checked~label.sk-toggleable__label-arrow:before {content: \"▾\";}#sk-container-id-2 div.sk-estimator input.sk-toggleable__control:checked~label.sk-toggleable__label {background-color: #d4ebff;}#sk-container-id-2 div.sk-label input.sk-toggleable__control:checked~label.sk-toggleable__label {background-color: #d4ebff;}#sk-container-id-2 input.sk-hidden--visually {border: 0;clip: rect(1px 1px 1px 1px);clip: rect(1px, 1px, 1px, 1px);height: 1px;margin: -1px;overflow: hidden;padding: 0;position: absolute;width: 1px;}#sk-container-id-2 div.sk-estimator {font-family: monospace;background-color: #f0f8ff;border: 1px dotted black;border-radius: 0.25em;box-sizing: border-box;margin-bottom: 0.5em;}#sk-container-id-2 div.sk-estimator:hover {background-color: #d4ebff;}#sk-container-id-2 div.sk-parallel-item::after {content: \"\";width: 100%;border-bottom: 1px solid gray;flex-grow: 1;}#sk-container-id-2 div.sk-label:hover label.sk-toggleable__label {background-color: #d4ebff;}#sk-container-id-2 div.sk-serial::before {content: \"\";position: absolute;border-left: 1px solid gray;box-sizing: border-box;top: 0;bottom: 0;left: 50%;z-index: 0;}#sk-container-id-2 div.sk-serial {display: flex;flex-direction: column;align-items: center;background-color: white;padding-right: 0.2em;padding-left: 0.2em;position: relative;}#sk-container-id-2 div.sk-item {position: relative;z-index: 1;}#sk-container-id-2 div.sk-parallel {display: flex;align-items: stretch;justify-content: center;background-color: white;position: relative;}#sk-container-id-2 div.sk-item::before, #sk-container-id-2 div.sk-parallel-item::before {content: \"\";position: absolute;border-left: 1px solid gray;box-sizing: border-box;top: 0;bottom: 0;left: 50%;z-index: -1;}#sk-container-id-2 div.sk-parallel-item {display: flex;flex-direction: column;z-index: 1;position: relative;background-color: white;}#sk-container-id-2 div.sk-parallel-item:first-child::after {align-self: flex-end;width: 50%;}#sk-container-id-2 div.sk-parallel-item:last-child::after {align-self: flex-start;width: 50%;}#sk-container-id-2 div.sk-parallel-item:only-child::after {width: 0;}#sk-container-id-2 div.sk-dashed-wrapped {border: 1px dashed gray;margin: 0 0.4em 0.5em 0.4em;box-sizing: border-box;padding-bottom: 0.4em;background-color: white;}#sk-container-id-2 div.sk-label label {font-family: monospace;font-weight: bold;display: inline-block;line-height: 1.2em;}#sk-container-id-2 div.sk-label-container {text-align: center;}#sk-container-id-2 div.sk-container {/* jupyter's `normalize.less` sets `[hidden] { display: none; }` but bootstrap.min.css set `[hidden] { display: none !important; }` so we also need the `!important` here to be able to override the default hidden behavior on the sphinx rendered scikit-learn.org. See: https://github.com/scikit-learn/scikit-learn/issues/21755 */display: inline-block !important;position: relative;}#sk-container-id-2 div.sk-text-repr-fallback {display: none;}</style><div id=\"sk-container-id-2\" class=\"sk-top-container\"><div class=\"sk-text-repr-fallback\"><pre>RandomForestClassifier(max_depth=6, min_samples_leaf=5, n_estimators=250,\n",
       "                       random_state=77)</pre><b>In a Jupyter environment, please rerun this cell to show the HTML representation or trust the notebook. <br />On GitHub, the HTML representation is unable to render, please try loading this page with nbviewer.org.</b></div><div class=\"sk-container\" hidden><div class=\"sk-item\"><div class=\"sk-estimator sk-toggleable\"><input class=\"sk-toggleable__control sk-hidden--visually\" id=\"sk-estimator-id-2\" type=\"checkbox\" checked><label for=\"sk-estimator-id-2\" class=\"sk-toggleable__label sk-toggleable__label-arrow\">RandomForestClassifier</label><div class=\"sk-toggleable__content\"><pre>RandomForestClassifier(max_depth=6, min_samples_leaf=5, n_estimators=250,\n",
       "                       random_state=77)</pre></div></div></div></div></div>"
      ],
      "text/plain": [
       "RandomForestClassifier(max_depth=6, min_samples_leaf=5, n_estimators=250,\n",
       "                       random_state=77)"
      ]
     },
     "execution_count": 39,
     "metadata": {},
     "output_type": "execute_result"
    }
   ],
   "source": [
    "rf.fit(X_train, y_train)"
   ]
  },
  {
   "cell_type": "code",
   "execution_count": 40,
   "id": "36ef3b62-5728-434a-b222-49709e5721b0",
   "metadata": {},
   "outputs": [],
   "source": [
    "rf_pred = rf.predict(X_train)"
   ]
  },
  {
   "cell_type": "code",
   "execution_count": 41,
   "id": "e74b741b-09d6-48ee-b10a-0b34e278ea24",
   "metadata": {},
   "outputs": [
    {
     "name": "stdout",
     "output_type": "stream",
     "text": [
      "Accuracy of random forest classifier on training set: 0.87\n"
     ]
    }
   ],
   "source": [
    "print('Accuracy of random forest classifier on training set: {:.2f}'\n",
    "     .format(rf.score(X_train, y_train)))"
   ]
  },
  {
   "cell_type": "code",
   "execution_count": 42,
   "id": "cc990ca1-7ba4-44d0-93b0-fc4e9368c583",
   "metadata": {},
   "outputs": [],
   "source": [
    "rf2_pred = rf.predict(X_val)"
   ]
  },
  {
   "cell_type": "code",
   "execution_count": 43,
   "id": "42f60045-904d-4633-a8c8-1ed12856714b",
   "metadata": {},
   "outputs": [
    {
     "name": "stdout",
     "output_type": "stream",
     "text": [
      "Accuracy of random forest classifier on training set: 0.84\n"
     ]
    }
   ],
   "source": [
    "print('Accuracy of random forest classifier on training set: {:.2f}'\n",
    "     .format(rf.score(X_val, y_val)))"
   ]
  },
  {
   "cell_type": "code",
   "execution_count": 44,
   "id": "2e6066e0-9bbd-44c1-a5f7-2befb871088b",
   "metadata": {},
   "outputs": [
    {
     "data": {
      "text/plain": [
       "Ruby          213\n",
       "Python         36\n",
       "Java           36\n",
       "JavaScript     35\n",
       "C_based        22\n",
       "Name: language, dtype: int64"
      ]
     },
     "execution_count": 44,
     "metadata": {},
     "output_type": "execute_result"
    }
   ],
   "source": [
    "df2.language.value_counts()"
   ]
  },
  {
   "cell_type": "code",
   "execution_count": null,
   "id": "5903ab74-1472-4e44-a633-699cd8543c64",
   "metadata": {},
   "outputs": [],
   "source": []
  },
  {
   "cell_type": "code",
   "execution_count": 45,
   "id": "c8277a64-e1ce-402d-a8c0-7e9930834afc",
   "metadata": {},
   "outputs": [
    {
     "data": {
      "text/plain": [
       "0.6228070175438597"
      ]
     },
     "execution_count": 45,
     "metadata": {},
     "output_type": "execute_result"
    }
   ],
   "source": [
    "len(df2[df2['language'] == 'Ruby'])/len(df2)"
   ]
  },
  {
   "cell_type": "code",
   "execution_count": 53,
   "id": "ec66c506-f8cd-43fb-bbca-c3478be74759",
   "metadata": {},
   "outputs": [],
   "source": [
    "X_test = tfidf.transform(X_test['readme_contents'])"
   ]
  },
  {
   "cell_type": "code",
   "execution_count": 54,
   "id": "026622b6-e219-4ba1-9ec9-7c10fb00b050",
   "metadata": {},
   "outputs": [],
   "source": [
    "X_test = pd.DataFrame(X_test.todense())"
   ]
  },
  {
   "cell_type": "code",
   "execution_count": 55,
   "id": "c2d4e0a0-9f7e-4c37-95ce-1ed10f241edf",
   "metadata": {},
   "outputs": [],
   "source": [
    "test_pred = clf.predict(X_test)"
   ]
  },
  {
   "cell_type": "code",
   "execution_count": 56,
   "id": "d71766ff-5420-4f4d-87ed-cec2680e725d",
   "metadata": {},
   "outputs": [
    {
     "name": "stdout",
     "output_type": "stream",
     "text": [
      "Accuracy of Decision Tree classifier on training set: 0.77\n"
     ]
    }
   ],
   "source": [
    "print('Accuracy of Decision Tree classifier on training set: {:.2f}'\n",
    "      .format(clf.score(X_test, y_test)))"
   ]
  },
  {
   "cell_type": "code",
   "execution_count": 57,
   "id": "6363e1b3-b8ae-4d4d-9155-a95b1f7574e2",
   "metadata": {},
   "outputs": [
    {
     "data": {
      "text/html": [
       "<div>\n",
       "<style scoped>\n",
       "    .dataframe tbody tr th:only-of-type {\n",
       "        vertical-align: middle;\n",
       "    }\n",
       "\n",
       "    .dataframe tbody tr th {\n",
       "        vertical-align: top;\n",
       "    }\n",
       "\n",
       "    .dataframe thead th {\n",
       "        text-align: right;\n",
       "    }\n",
       "</style>\n",
       "<table border=\"1\" class=\"dataframe\">\n",
       "  <thead>\n",
       "    <tr style=\"text-align: right;\">\n",
       "      <th>col_0</th>\n",
       "      <th>C_based</th>\n",
       "      <th>Java</th>\n",
       "      <th>JavaScript</th>\n",
       "      <th>Python</th>\n",
       "      <th>Ruby</th>\n",
       "    </tr>\n",
       "    <tr>\n",
       "      <th>language</th>\n",
       "      <th></th>\n",
       "      <th></th>\n",
       "      <th></th>\n",
       "      <th></th>\n",
       "      <th></th>\n",
       "    </tr>\n",
       "  </thead>\n",
       "  <tbody>\n",
       "    <tr>\n",
       "      <th>C_based</th>\n",
       "      <td>0</td>\n",
       "      <td>5</td>\n",
       "      <td>0</td>\n",
       "      <td>0</td>\n",
       "      <td>0</td>\n",
       "    </tr>\n",
       "    <tr>\n",
       "      <th>Java</th>\n",
       "      <td>1</td>\n",
       "      <td>8</td>\n",
       "      <td>0</td>\n",
       "      <td>0</td>\n",
       "      <td>0</td>\n",
       "    </tr>\n",
       "    <tr>\n",
       "      <th>JavaScript</th>\n",
       "      <td>0</td>\n",
       "      <td>8</td>\n",
       "      <td>3</td>\n",
       "      <td>0</td>\n",
       "      <td>0</td>\n",
       "    </tr>\n",
       "    <tr>\n",
       "      <th>Python</th>\n",
       "      <td>0</td>\n",
       "      <td>2</td>\n",
       "      <td>0</td>\n",
       "      <td>2</td>\n",
       "      <td>0</td>\n",
       "    </tr>\n",
       "    <tr>\n",
       "      <th>Ruby</th>\n",
       "      <td>0</td>\n",
       "      <td>0</td>\n",
       "      <td>0</td>\n",
       "      <td>0</td>\n",
       "      <td>40</td>\n",
       "    </tr>\n",
       "  </tbody>\n",
       "</table>\n",
       "</div>"
      ],
      "text/plain": [
       "col_0       C_based  Java  JavaScript  Python  Ruby\n",
       "language                                           \n",
       "C_based           0     5           0       0     0\n",
       "Java              1     8           0       0     0\n",
       "JavaScript        0     8           3       0     0\n",
       "Python            0     2           0       2     0\n",
       "Ruby              0     0           0       0    40"
      ]
     },
     "execution_count": 57,
     "metadata": {},
     "output_type": "execute_result"
    }
   ],
   "source": [
    "pd.crosstab(y_test, test_pred)"
   ]
  },
  {
   "cell_type": "code",
   "execution_count": 58,
   "id": "919035f1-d68c-4ff4-aba2-1d4e36f8f368",
   "metadata": {},
   "outputs": [],
   "source": [
    "test_preds = rf.predict(X_test)"
   ]
  },
  {
   "cell_type": "code",
   "execution_count": 59,
   "id": "e7d04811-54a7-4a51-b20d-1795f5f9aff8",
   "metadata": {},
   "outputs": [
    {
     "name": "stdout",
     "output_type": "stream",
     "text": [
      "Accuracy of random forest classifier on training set: 0.74\n"
     ]
    }
   ],
   "source": [
    "print('Accuracy of random forest classifier on training set: {:.2f}'\n",
    "     .format(rf.score(X_test, y_test)))"
   ]
  },
  {
   "cell_type": "code",
   "execution_count": null,
   "id": "e6cecab2-2feb-464b-b179-f603357c3da2",
   "metadata": {},
   "outputs": [],
   "source": []
  }
 ],
 "metadata": {
  "kernelspec": {
   "display_name": "Python 3 (ipykernel)",
   "language": "python",
   "name": "python3"
  },
  "language_info": {
   "codemirror_mode": {
    "name": "ipython",
    "version": 3
   },
   "file_extension": ".py",
   "mimetype": "text/x-python",
   "name": "python",
   "nbconvert_exporter": "python",
   "pygments_lexer": "ipython3",
   "version": "3.9.13"
  }
 },
 "nbformat": 4,
 "nbformat_minor": 5
}
