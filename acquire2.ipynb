{
 "cells": [
  {
   "cell_type": "code",
   "execution_count": 46,
   "id": "b637b659-c7f3-4f8d-9804-bda9c4db0389",
   "metadata": {},
   "outputs": [],
   "source": [
    "import os\n",
    "import json\n",
    "from typing import Dict, List, Optional, Union, cast\n",
    "import requests\n",
    "from env import github_token, github_username\n",
    "import re\n",
    "import numpy as np\n",
    "import json\n",
    "from typing import Dict, List, Optional, Union, cast\n",
    "import requests\n",
    "import pandas as pd"
   ]
  },
  {
   "cell_type": "code",
   "execution_count": 47,
   "id": "db66c1e6-1148-4ed7-a5a9-c53977031563",
   "metadata": {},
   "outputs": [],
   "source": [
    "\"\"\"\n",
    "A module for obtaining repo readme and language data from the github API.\n",
    "\n",
    "Before using this module, read through it, and follow the instructions marked\n",
    "TODO.\n",
    "\n",
    "After doing so, run it like this:\n",
    "\n",
    "    python acquire.py\n",
    "\n",
    "To create the `data.json` file that contains the data.\n",
    "\"\"\"\n",
    "\n",
    "# TODO: Make a github personal access token.\n",
    "#     1. Go here and generate a personal access token: https://github.com/settings/tokens\n",
    "#        You do _not_ need select any scopes, i.e. leave all the checkboxes unchecked\n",
    "#     2. Save it in your env.py file under the variable `github_token`\n",
    "# TODO: Add your github username to your env.py file under the variable `github_username`\n",
    "# TODO: Add more repositories to the `REPOS` list below.\n",
    "\n",
    "\n",
    "headers = {\"Authorization\": f\"token {github_token}\", \"User-Agent\": github_username}\n",
    "\n",
    "if headers[\"Authorization\"] == \"token \" or headers[\"User-Agent\"] == \"\":\n",
    "    raise Exception(\n",
    "        \"You need to follow the instructions marked TODO in this script before trying to use it\"\n",
    "    )\n",
    "\n",
    "\n",
    "def github_api_request(url: str) -> Union[List, Dict]:\n",
    "    response = requests.get(url, headers=headers)\n",
    "    response_data = response.json()\n",
    "    if response.status_code != 200:\n",
    "        raise Exception(\n",
    "            f\"Error response from github api! status code: {response.status_code}, \"\n",
    "            f\"response: {json.dumps(response_data)}\"\n",
    "        )\n",
    "    return response_data\n",
    "\n",
    "\n",
    "def get_repo_language(repo: str) -> str:\n",
    "    url = f\"https://api.github.com/repos/{repo}\"\n",
    "    repo_info = github_api_request(url)\n",
    "    if type(repo_info) is dict:\n",
    "        repo_info = cast(Dict, repo_info)\n",
    "        if \"language\" not in repo_info:\n",
    "            raise Exception(\n",
    "                \"'language' key not round in response\\n{}\".format(json.dumps(repo_info))\n",
    "            )\n",
    "        return repo_info[\"language\"]\n",
    "    raise Exception(\n",
    "        f\"Expecting a dictionary response from {url}, instead got {json.dumps(repo_info)}\"\n",
    "    )\n",
    "\n",
    "\n",
    "def get_repo_contents(repo: str) -> List[Dict[str, str]]:\n",
    "    url = f\"https://api.github.com/repos/{repo}/contents/\"\n",
    "    contents = github_api_request(url)\n",
    "    if type(contents) is list:\n",
    "        contents = cast(List, contents)\n",
    "        return contents\n",
    "    raise Exception(\n",
    "        f\"Expecting a list response from {url}, instead got {json.dumps(contents)}\"\n",
    "    )\n",
    "\n",
    "\n",
    "def get_readme_download_url(files: List[Dict[str, str]]) -> str:\n",
    "    \"\"\"\n",
    "    Takes in a response from the github api that lists the files in a repo and\n",
    "    returns the url that can be used to download the repo's README file.\n",
    "    \"\"\"\n",
    "    for file in files:\n",
    "        if file[\"name\"].lower().startswith(\"readme\"):\n",
    "            return file[\"download_url\"]\n",
    "    return \"\"\n",
    "\n",
    "\n",
    "def process_repo(repo: str) -> Dict[str, str]:\n",
    "    \"\"\"\n",
    "    Takes a repo name like \"gocodeup/codeup-setup-script\" and returns a\n",
    "    dictionary with the language of the repo and the readme contents.\n",
    "    \"\"\"\n",
    "    contents = get_repo_contents(repo)\n",
    "    readme_download_url = get_readme_download_url(contents)\n",
    "    if readme_download_url == \"\":\n",
    "        readme_contents = \"\"\n",
    "    else:\n",
    "        readme_contents = requests.get(readme_download_url).text\n",
    "    return {\n",
    "        \"repo\": repo,\n",
    "        \"language\": get_repo_language(repo),\n",
    "        \"readme_contents\": readme_contents,\n",
    "    }\n",
    "\n",
    "\n",
    "def scrape_github_data(REPOS) -> List[Dict[str, str]]:\n",
    "    \"\"\"\n",
    "    Loop through all of the repos and process them. Returns the processed data.\n",
    "    \"\"\"\n",
    "    return [process_repo(repo) for repo in REPOS]\n",
    "\n",
    "\n",
    "#if __name__ == \"__main__\":\n",
    "#    data = scrape_github_data()\n",
    "#    json.dump(data, open(\"data.json\", \"w\"), indent=1)\n",
    "\n",
    "def get_dataframe(REPOS):\n",
    "    \"\"\"\n",
    "    This function takes a list of github repos, cache the data and returns the url, programming language and readme.\n",
    "    \"\"\"\n",
    "    file = 'data.json'\n",
    "    \n",
    "    if os.path.exists(file):\n",
    "        \n",
    "        return pd.read_json('data.json')\n",
    "    else:\n",
    "        data = scrape_github_data(REPOS)\n",
    "        json.dump(data, open(\"data.json\", \"w\"), indent=1)\n",
    "        return pd.read_json('data.json')"
   ]
  },
  {
   "cell_type": "code",
   "execution_count": 3,
   "id": "49d2cef9-6d48-4ac1-a80d-f4965ab4d785",
   "metadata": {},
   "outputs": [
    {
     "data": {
      "text/html": [
       "<div>\n",
       "<style scoped>\n",
       "    .dataframe tbody tr th:only-of-type {\n",
       "        vertical-align: middle;\n",
       "    }\n",
       "\n",
       "    .dataframe tbody tr th {\n",
       "        vertical-align: top;\n",
       "    }\n",
       "\n",
       "    .dataframe thead th {\n",
       "        text-align: right;\n",
       "    }\n",
       "</style>\n",
       "<table border=\"1\" class=\"dataframe\">\n",
       "  <thead>\n",
       "    <tr style=\"text-align: right;\">\n",
       "      <th></th>\n",
       "      <th>href</th>\n",
       "    </tr>\n",
       "  </thead>\n",
       "  <tbody>\n",
       "    <tr>\n",
       "      <th>0</th>\n",
       "      <td>learn-co-students/simple-blackjack-cli-prework</td>\n",
       "    </tr>\n",
       "    <tr>\n",
       "      <th>1</th>\n",
       "      <td>rocketacademy/basics-blackjack</td>\n",
       "    </tr>\n",
       "    <tr>\n",
       "      <th>2</th>\n",
       "      <td>datamllab/rlcard</td>\n",
       "    </tr>\n",
       "    <tr>\n",
       "      <th>3</th>\n",
       "      <td>learn-co-students/simple-blackjack-cli-001-pre...</td>\n",
       "    </tr>\n",
       "    <tr>\n",
       "      <th>4</th>\n",
       "      <td>cocos-creator/tutorial-blackjack-deprecated</td>\n",
       "    </tr>\n",
       "    <tr>\n",
       "      <th>...</th>\n",
       "      <td>...</td>\n",
       "    </tr>\n",
       "    <tr>\n",
       "      <th>435</th>\n",
       "      <td>TigerZen/Unity3D-BlackJack-Dapp</td>\n",
       "    </tr>\n",
       "    <tr>\n",
       "      <th>436</th>\n",
       "      <td>merdoyovski/Modified-Blackjack_Reach-Bounty-Hack</td>\n",
       "    </tr>\n",
       "    <tr>\n",
       "      <th>437</th>\n",
       "      <td>DEEBAZZ890/Blackjack-game</td>\n",
       "    </tr>\n",
       "    <tr>\n",
       "      <th>438</th>\n",
       "      <td>cs361-W16/Blackjack-14</td>\n",
       "    </tr>\n",
       "    <tr>\n",
       "      <th>439</th>\n",
       "      <td>cs361-W16/Blackjack-8</td>\n",
       "    </tr>\n",
       "  </tbody>\n",
       "</table>\n",
       "<p>440 rows × 1 columns</p>\n",
       "</div>"
      ],
      "text/plain": [
       "                                                  href\n",
       "0       learn-co-students/simple-blackjack-cli-prework\n",
       "1                       rocketacademy/basics-blackjack\n",
       "2                                     datamllab/rlcard\n",
       "3    learn-co-students/simple-blackjack-cli-001-pre...\n",
       "4          cocos-creator/tutorial-blackjack-deprecated\n",
       "..                                                 ...\n",
       "435                    TigerZen/Unity3D-BlackJack-Dapp\n",
       "436   merdoyovski/Modified-Blackjack_Reach-Bounty-Hack\n",
       "437                          DEEBAZZ890/Blackjack-game\n",
       "438                             cs361-W16/Blackjack-14\n",
       "439                              cs361-W16/Blackjack-8\n",
       "\n",
       "[440 rows x 1 columns]"
      ]
     },
     "execution_count": 3,
     "metadata": {},
     "output_type": "execute_result"
    }
   ],
   "source": [
    "df = pd.read_csv('links.csv').drop(columns = 'Unnamed: 0')\n",
    "df['href'] = df['href'].str[1:]\n",
    "df"
   ]
  },
  {
   "cell_type": "code",
   "execution_count": 6,
   "id": "243253b4-8676-4b9e-b1d3-9d8839f240b8",
   "metadata": {},
   "outputs": [
    {
     "data": {
      "text/html": [
       "<div>\n",
       "<style scoped>\n",
       "    .dataframe tbody tr th:only-of-type {\n",
       "        vertical-align: middle;\n",
       "    }\n",
       "\n",
       "    .dataframe tbody tr th {\n",
       "        vertical-align: top;\n",
       "    }\n",
       "\n",
       "    .dataframe thead th {\n",
       "        text-align: right;\n",
       "    }\n",
       "</style>\n",
       "<table border=\"1\" class=\"dataframe\">\n",
       "  <thead>\n",
       "    <tr style=\"text-align: right;\">\n",
       "      <th></th>\n",
       "      <th>repo</th>\n",
       "      <th>language</th>\n",
       "      <th>readme_contents</th>\n",
       "    </tr>\n",
       "  </thead>\n",
       "  <tbody>\n",
       "    <tr>\n",
       "      <th>0</th>\n",
       "      <td>learn-co-students/simple-blackjack-cli-prework</td>\n",
       "      <td>Ruby</td>\n",
       "      <td># Simplified Blackjack - Procedural\\n\\n## Lear...</td>\n",
       "    </tr>\n",
       "    <tr>\n",
       "      <th>1</th>\n",
       "      <td>rocketacademy/basics-blackjack</td>\n",
       "      <td>HTML</td>\n",
       "      <td># Rocket Academy Coding Basics: Blackjack\\n</td>\n",
       "    </tr>\n",
       "    <tr>\n",
       "      <th>2</th>\n",
       "      <td>datamllab/rlcard</td>\n",
       "      <td>Python</td>\n",
       "      <td># RLCard: A Toolkit for Reinforcement Learning...</td>\n",
       "    </tr>\n",
       "    <tr>\n",
       "      <th>3</th>\n",
       "      <td>learn-co-students/simple-blackjack-cli-001-pre...</td>\n",
       "      <td>Ruby</td>\n",
       "      <td># Simplified Blackjack - Procedural\\n\\n## Lear...</td>\n",
       "    </tr>\n",
       "    <tr>\n",
       "      <th>4</th>\n",
       "      <td>cocos-creator/tutorial-blackjack-deprecated</td>\n",
       "      <td>JavaScript</td>\n",
       "      <td># 21点游戏 - Cocos Creator 制造\\n\\n「21点游戏」是 Cocos C...</td>\n",
       "    </tr>\n",
       "    <tr>\n",
       "      <th>...</th>\n",
       "      <td>...</td>\n",
       "      <td>...</td>\n",
       "      <td>...</td>\n",
       "    </tr>\n",
       "    <tr>\n",
       "      <th>435</th>\n",
       "      <td>TigerZen/Unity3D-BlackJack-Dapp</td>\n",
       "      <td>C#</td>\n",
       "      <td># Unity3D-BlackJack-Dapp\\n\\n教你使用Unity3D製作Dapp ...</td>\n",
       "    </tr>\n",
       "    <tr>\n",
       "      <th>436</th>\n",
       "      <td>merdoyovski/Modified-Blackjack_Reach-Bounty-Hack</td>\n",
       "      <td>Shell</td>\n",
       "      <td># Reach Modified Blackjack DApp\\n\\nThis is a m...</td>\n",
       "    </tr>\n",
       "    <tr>\n",
       "      <th>437</th>\n",
       "      <td>DEEBAZZ890/Blackjack-game</td>\n",
       "      <td>Python</td>\n",
       "      <td># 21/Blackjack-game\\n\\nFrom a single deck of c...</td>\n",
       "    </tr>\n",
       "    <tr>\n",
       "      <th>438</th>\n",
       "      <td>cs361-W16/Blackjack-14</td>\n",
       "      <td>Java</td>\n",
       "      <td>[![Build Status](https://travis-ci.org/cs361-W...</td>\n",
       "    </tr>\n",
       "    <tr>\n",
       "      <th>439</th>\n",
       "      <td>cs361-W16/Blackjack-8</td>\n",
       "      <td>Java</td>\n",
       "      <td># Blackjack-8\\n\\nTravis Status: [![Build Statu...</td>\n",
       "    </tr>\n",
       "  </tbody>\n",
       "</table>\n",
       "<p>440 rows × 3 columns</p>\n",
       "</div>"
      ],
      "text/plain": [
       "                                                  repo    language  \\\n",
       "0       learn-co-students/simple-blackjack-cli-prework        Ruby   \n",
       "1                       rocketacademy/basics-blackjack        HTML   \n",
       "2                                     datamllab/rlcard      Python   \n",
       "3    learn-co-students/simple-blackjack-cli-001-pre...        Ruby   \n",
       "4          cocos-creator/tutorial-blackjack-deprecated  JavaScript   \n",
       "..                                                 ...         ...   \n",
       "435                    TigerZen/Unity3D-BlackJack-Dapp          C#   \n",
       "436   merdoyovski/Modified-Blackjack_Reach-Bounty-Hack       Shell   \n",
       "437                          DEEBAZZ890/Blackjack-game      Python   \n",
       "438                             cs361-W16/Blackjack-14        Java   \n",
       "439                              cs361-W16/Blackjack-8        Java   \n",
       "\n",
       "                                       readme_contents  \n",
       "0    # Simplified Blackjack - Procedural\\n\\n## Lear...  \n",
       "1          # Rocket Academy Coding Basics: Blackjack\\n  \n",
       "2    # RLCard: A Toolkit for Reinforcement Learning...  \n",
       "3    # Simplified Blackjack - Procedural\\n\\n## Lear...  \n",
       "4    # 21点游戏 - Cocos Creator 制造\\n\\n「21点游戏」是 Cocos C...  \n",
       "..                                                 ...  \n",
       "435  # Unity3D-BlackJack-Dapp\\n\\n教你使用Unity3D製作Dapp ...  \n",
       "436  # Reach Modified Blackjack DApp\\n\\nThis is a m...  \n",
       "437  # 21/Blackjack-game\\n\\nFrom a single deck of c...  \n",
       "438  [![Build Status](https://travis-ci.org/cs361-W...  \n",
       "439  # Blackjack-8\\n\\nTravis Status: [![Build Statu...  \n",
       "\n",
       "[440 rows x 3 columns]"
      ]
     },
     "execution_count": 6,
     "metadata": {},
     "output_type": "execute_result"
    }
   ],
   "source": [
    "df2 = get_dataframe(df.href)\n",
    "df2"
   ]
  },
  {
   "cell_type": "code",
   "execution_count": 7,
   "id": "cee69546-45b7-44d1-b5b0-f5da88343d41",
   "metadata": {},
   "outputs": [],
   "source": [
    "df2.to_csv('original_data.csv', index = False)"
   ]
  },
  {
   "cell_type": "code",
   "execution_count": 9,
   "id": "b6037602-8634-4401-b83a-889115b3f5f6",
   "metadata": {},
   "outputs": [
    {
     "data": {
      "text/plain": [
       "array(['Ruby', 'HTML', 'Python', 'JavaScript', None, 'Kotlin', 'Java',\n",
       "       'Lua', 'CSS', 'Vue', 'Rust', 'Swift', 'C#', 'Objective-C', 'C++',\n",
       "       'Jupyter Notebook', 'TypeScript', 'Elixir', 'Solidity', 'PHP',\n",
       "       'Go', 'Clojure', 'Dart', 'Roff', 'C', 'Visual Basic', 'Haskell',\n",
       "       'Shell'], dtype=object)"
      ]
     },
     "execution_count": 9,
     "metadata": {},
     "output_type": "execute_result"
    }
   ],
   "source": [
    "df2.language.unique()"
   ]
  },
  {
   "cell_type": "code",
   "execution_count": 15,
   "id": "6809a619-dedc-4583-b892-0736cca149a9",
   "metadata": {},
   "outputs": [],
   "source": [
    "df2.language[df2.language == 'Jupyter Notebook'] = 'Python'"
   ]
  },
  {
   "cell_type": "code",
   "execution_count": 17,
   "id": "8bdd4559-7e08-49c9-8167-be56be67e121",
   "metadata": {},
   "outputs": [
    {
     "data": {
      "text/plain": [
       "array(['Ruby', 'HTML', 'Python', 'JavaScript', None, 'Kotlin', 'Java',\n",
       "       'Lua', 'CSS', 'Vue', 'Rust', 'Swift', 'C#', 'Objective-C', 'C++',\n",
       "       'TypeScript', 'Elixir', 'Solidity', 'PHP', 'Go', 'Clojure', 'Dart',\n",
       "       'Roff', 'C', 'Visual Basic', 'Haskell', 'Shell'], dtype=object)"
      ]
     },
     "execution_count": 17,
     "metadata": {},
     "output_type": "execute_result"
    }
   ],
   "source": [
    "df2.language.unique()"
   ]
  },
  {
   "cell_type": "code",
   "execution_count": 18,
   "id": "13bac1cb-5c80-49bb-9e23-7a8db9d988a8",
   "metadata": {},
   "outputs": [
    {
     "data": {
      "text/plain": [
       "Ruby            216\n",
       "Java             52\n",
       "JavaScript       40\n",
       "Python           39\n",
       "C#               15\n",
       "C++               9\n",
       "Swift             7\n",
       "HTML              5\n",
       "CSS               5\n",
       "TypeScript        4\n",
       "Lua               3\n",
       "Objective-C       3\n",
       "Vue               2\n",
       "Rust              2\n",
       "Kotlin            2\n",
       "PHP               2\n",
       "Go                2\n",
       "Dart              2\n",
       "C                 1\n",
       "Haskell           1\n",
       "Visual Basic      1\n",
       "Solidity          1\n",
       "Roff              1\n",
       "Clojure           1\n",
       "Elixir            1\n",
       "Shell             1\n",
       "Name: language, dtype: int64"
      ]
     },
     "execution_count": 18,
     "metadata": {},
     "output_type": "execute_result"
    }
   ],
   "source": [
    "df2.language.value_counts()"
   ]
  },
  {
   "cell_type": "code",
   "execution_count": 19,
   "id": "2420cd9a-4336-4445-ab2a-1a4f167552a8",
   "metadata": {},
   "outputs": [],
   "source": [
    "df2.language[df2.language == 'Objective-C'] = 'C_based'"
   ]
  },
  {
   "cell_type": "code",
   "execution_count": 20,
   "id": "0c9652c4-4c22-43b9-a458-6a72d38718c1",
   "metadata": {},
   "outputs": [],
   "source": [
    "df2.language[df2.language == 'C#'] = 'C_based'"
   ]
  },
  {
   "cell_type": "code",
   "execution_count": 21,
   "id": "73ee20c9-9543-4d5b-ad30-a709f45bfdf4",
   "metadata": {},
   "outputs": [],
   "source": [
    "df2.language[df2.language == 'C++'] = 'C_based'"
   ]
  },
  {
   "cell_type": "code",
   "execution_count": 22,
   "id": "47f326a1-73b7-4fd2-9308-ef169602b848",
   "metadata": {},
   "outputs": [],
   "source": [
    "df2.language[df2.language == 'C'] = 'C_based'"
   ]
  },
  {
   "cell_type": "code",
   "execution_count": 23,
   "id": "1f8e30d7-b966-4025-9711-2a84208955ce",
   "metadata": {},
   "outputs": [
    {
     "data": {
      "text/plain": [
       "Ruby            216\n",
       "Java             52\n",
       "JavaScript       40\n",
       "Python           39\n",
       "C_based          28\n",
       "Swift             7\n",
       "CSS               5\n",
       "HTML              5\n",
       "TypeScript        4\n",
       "Lua               3\n",
       "Kotlin            2\n",
       "Vue               2\n",
       "Rust              2\n",
       "PHP               2\n",
       "Go                2\n",
       "Dart              2\n",
       "Roff              1\n",
       "Haskell           1\n",
       "Visual Basic      1\n",
       "Solidity          1\n",
       "Clojure           1\n",
       "Elixir            1\n",
       "Shell             1\n",
       "Name: language, dtype: int64"
      ]
     },
     "execution_count": 23,
     "metadata": {},
     "output_type": "execute_result"
    }
   ],
   "source": [
    "df2.language.value_counts()"
   ]
  },
  {
   "cell_type": "code",
   "execution_count": 29,
   "id": "dd07adfd-7c70-460d-b937-bf612cf6651b",
   "metadata": {},
   "outputs": [],
   "source": [
    "df2.language[(df2.language == 'Swift') \n",
    "            | (df2.language == 'CSS') \n",
    "            | (df2.language == 'HTML')\n",
    "            | (df2.language == 'TypeScript')\n",
    "            | (df2.language == 'Lua')\n",
    "            | (df2.language == 'Kotlin')\n",
    "            | (df2.language == 'Vue')\n",
    "            | (df2.language == 'Rust')\n",
    "            | (df2.language == 'PHP')\n",
    "            | (df2.language == 'Go')\n",
    "            | (df2.language == 'Dart')\n",
    "            | (df2.language == 'Roff')\n",
    "            | (df2.language == 'Haskell')\n",
    "            | (df2.language == 'Visual Basic')\n",
    "            | (df2.language == 'Solidity')\n",
    "            | (df2.language == 'Clojure')\n",
    "            | (df2.language == 'Elixir')\n",
    "            | (df2.language == 'Shell')] = 'Other'"
   ]
  },
  {
   "cell_type": "code",
   "execution_count": 30,
   "id": "c9375728-85f0-4c7d-b486-84000400e3df",
   "metadata": {},
   "outputs": [
    {
     "data": {
      "text/plain": [
       "Ruby          216\n",
       "Java           52\n",
       "Other          43\n",
       "JavaScript     40\n",
       "Python         39\n",
       "C_based        28\n",
       "Name: language, dtype: int64"
      ]
     },
     "execution_count": 30,
     "metadata": {},
     "output_type": "execute_result"
    }
   ],
   "source": [
    "df2.language.value_counts()"
   ]
  },
  {
   "cell_type": "code",
   "execution_count": 42,
   "id": "40be10c1-6cf4-4b27-b702-85100ab43b2e",
   "metadata": {},
   "outputs": [],
   "source": [
    "df2 = df2[df2.readme_contents != '']"
   ]
  },
  {
   "cell_type": "code",
   "execution_count": 43,
   "id": "8c2eb173-45fd-4f9e-b564-6ced8190b4e6",
   "metadata": {},
   "outputs": [
    {
     "data": {
      "text/plain": [
       "Ruby          213\n",
       "Other          38\n",
       "Python         36\n",
       "Java           36\n",
       "JavaScript     35\n",
       "C_based        22\n",
       "Name: language, dtype: int64"
      ]
     },
     "execution_count": 43,
     "metadata": {},
     "output_type": "execute_result"
    }
   ],
   "source": [
    "df2.language.value_counts()"
   ]
  },
  {
   "cell_type": "code",
   "execution_count": 45,
   "id": "05c90e9f-b541-4291-a289-165d47d7c64a",
   "metadata": {},
   "outputs": [],
   "source": [
    "df2.to_csv('exploration_data.csv', index = False)"
   ]
  },
  {
   "cell_type": "code",
   "execution_count": null,
   "id": "bee3e651-e8cb-4052-9caa-798bbf495779",
   "metadata": {},
   "outputs": [],
   "source": []
  }
 ],
 "metadata": {
  "kernelspec": {
   "display_name": "Python 3 (ipykernel)",
   "language": "python",
   "name": "python3"
  },
  "language_info": {
   "codemirror_mode": {
    "name": "ipython",
    "version": 3
   },
   "file_extension": ".py",
   "mimetype": "text/x-python",
   "name": "python",
   "nbconvert_exporter": "python",
   "pygments_lexer": "ipython3",
   "version": "3.9.13"
  }
 },
 "nbformat": 4,
 "nbformat_minor": 5
}
