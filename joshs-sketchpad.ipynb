{
 "cells": [
  {
   "cell_type": "code",
   "execution_count": 1,
   "id": "2723bcf4-0473-4f6b-9121-5288f362166b",
   "metadata": {
    "tags": []
   },
   "outputs": [
    {
     "name": "stdout",
     "output_type": "stream",
     "text": [
      "*** Introductory Examples for the NLTK Book ***\n",
      "Loading text1, ..., text9 and sent1, ..., sent9\n",
      "Type the name of the text or sentence to view it.\n",
      "Type: 'texts()' or 'sents()' to list the materials.\n",
      "text1: Moby Dick by Herman Melville 1851\n",
      "text2: Sense and Sensibility by Jane Austen 1811\n",
      "text3: The Book of Genesis\n",
      "text4: Inaugural Address Corpus\n",
      "text5: Chat Corpus\n",
      "text6: Monty Python and the Holy Grail\n",
      "text7: Wall Street Journal\n",
      "text8: Personals Corpus\n",
      "text9: The Man Who Was Thursday by G . K . Chesterton 1908\n"
     ]
    }
   ],
   "source": [
    "import pandas as pd\n",
    "import numpy as np\n",
    "import seaborn as sns\n",
    "import matplotlib.pyplot as plt\n",
    "from acquire import *\n",
    "from prepare_nlp_josh import *\n",
    "import env\n",
    "import json\n",
    "from requests import get\n",
    "from json.decoder import JSONDecodeError\n",
    "from bs4 import BeautifulSoup\n",
    "import time\n",
    "from tqdm import tqdm\n",
    "\n",
    "import nltk\n",
    "from nltk.corpus import stopwords\n",
    "from nltk.tokenize.toktok import ToktokTokenizer\n",
    "from nltk.tokenize import sent_tokenize, word_tokenize\n",
    "from nltk.stem import PorterStemmer, SnowballStemmer\n",
    "#You can also call the Porter by nltk.porter.PorterStemmer\n",
    "from nltk.stem.snowball import EnglishStemmer\n",
    "\n",
    "\n",
    "from nltk.stem import WordNetLemmatizer\n",
    "from nltk.book import *\n",
    "from nltk.text import Text\n",
    "\n",
    "\n",
    "import env\n",
    "\n",
    "#These download may need to be run for the NLTK library:\n",
    "\n",
    "#nltk.download('omw-1.4')\n",
    "#nltk.download(\"punkt\")\n",
    "#nltk.download(\"stopwords\")\n",
    "#nltk.download('averaged_perceptron_tagger')\n",
    "#nltk.download('tagsets')\n",
    "#nltk.download(\"maxent_ne_chunker\")\n",
    "#nltk.download(\"words\")\n",
    "#nltk.download(\"book\") #big download"
   ]
  },
  {
   "cell_type": "code",
   "execution_count": 2,
   "id": "fc3e78dd-56f9-49d7-aa17-ebc3941868b9",
   "metadata": {},
   "outputs": [],
   "source": [
    "links = get_links()"
   ]
  },
  {
   "cell_type": "code",
   "execution_count": 3,
   "id": "4e857118-730e-4bff-bc34-6b812a6c4e17",
   "metadata": {},
   "outputs": [],
   "source": [
    "#When you get new links, delete this line.\n",
    "#links.href = links.href.str[1:]"
   ]
  },
  {
   "cell_type": "code",
   "execution_count": 4,
   "id": "e1d630ce-eb03-47c0-99b5-23ed465d040b",
   "metadata": {},
   "outputs": [
    {
     "data": {
      "text/html": [
       "<div>\n",
       "<style scoped>\n",
       "    .dataframe tbody tr th:only-of-type {\n",
       "        vertical-align: middle;\n",
       "    }\n",
       "\n",
       "    .dataframe tbody tr th {\n",
       "        vertical-align: top;\n",
       "    }\n",
       "\n",
       "    .dataframe thead th {\n",
       "        text-align: right;\n",
       "    }\n",
       "</style>\n",
       "<table border=\"1\" class=\"dataframe\">\n",
       "  <thead>\n",
       "    <tr style=\"text-align: right;\">\n",
       "      <th></th>\n",
       "      <th>href</th>\n",
       "    </tr>\n",
       "  </thead>\n",
       "  <tbody>\n",
       "    <tr>\n",
       "      <th>0</th>\n",
       "      <td>/learn-co-students/simple-blackjack-cli-prework</td>\n",
       "    </tr>\n",
       "    <tr>\n",
       "      <th>1</th>\n",
       "      <td>/rocketacademy/basics-blackjack</td>\n",
       "    </tr>\n",
       "    <tr>\n",
       "      <th>2</th>\n",
       "      <td>/datamllab/rlcard</td>\n",
       "    </tr>\n",
       "    <tr>\n",
       "      <th>3</th>\n",
       "      <td>/learn-co-students/simple-blackjack-cli-001-pr...</td>\n",
       "    </tr>\n",
       "    <tr>\n",
       "      <th>4</th>\n",
       "      <td>/cocos-creator/tutorial-blackjack-deprecated</td>\n",
       "    </tr>\n",
       "  </tbody>\n",
       "</table>\n",
       "</div>"
      ],
      "text/plain": [
       "                                                href\n",
       "0    /learn-co-students/simple-blackjack-cli-prework\n",
       "1                    /rocketacademy/basics-blackjack\n",
       "2                                  /datamllab/rlcard\n",
       "3  /learn-co-students/simple-blackjack-cli-001-pr...\n",
       "4       /cocos-creator/tutorial-blackjack-deprecated"
      ]
     },
     "execution_count": 4,
     "metadata": {},
     "output_type": "execute_result"
    }
   ],
   "source": [
    "links.head()"
   ]
  },
  {
   "cell_type": "code",
   "execution_count": 5,
   "id": "0f6d5cf0-fa4d-4360-a8ab-76a1149bc864",
   "metadata": {},
   "outputs": [],
   "source": [
    "#Run this to get new data\n",
    "df = get_repos(links.href)"
   ]
  },
  {
   "cell_type": "code",
   "execution_count": 6,
   "id": "295bdc3f-6258-482e-9424-3c4a58bdb017",
   "metadata": {},
   "outputs": [],
   "source": [
    "#Run to save the data\n",
    "#df.to_csv(\"origional_data.csv\", index=False)"
   ]
  },
  {
   "cell_type": "code",
   "execution_count": 7,
   "id": "d3a586eb-3894-4d82-9427-214b126f1144",
   "metadata": {},
   "outputs": [],
   "source": [
    "df.dropna(inplace=True)"
   ]
  },
  {
   "cell_type": "code",
   "execution_count": 8,
   "id": "940d1523-3d6a-45f1-993d-9a7d12b40ae6",
   "metadata": {},
   "outputs": [
    {
     "data": {
      "text/html": [
       "<div>\n",
       "<style scoped>\n",
       "    .dataframe tbody tr th:only-of-type {\n",
       "        vertical-align: middle;\n",
       "    }\n",
       "\n",
       "    .dataframe tbody tr th {\n",
       "        vertical-align: top;\n",
       "    }\n",
       "\n",
       "    .dataframe thead th {\n",
       "        text-align: right;\n",
       "    }\n",
       "</style>\n",
       "<table border=\"1\" class=\"dataframe\">\n",
       "  <thead>\n",
       "    <tr style=\"text-align: right;\">\n",
       "      <th></th>\n",
       "      <th>repo</th>\n",
       "      <th>language</th>\n",
       "      <th>readme_contents</th>\n",
       "    </tr>\n",
       "  </thead>\n",
       "  <tbody>\n",
       "    <tr>\n",
       "      <th>0</th>\n",
       "      <td>/learn-co-students/simple-blackjack-cli-prework</td>\n",
       "      <td>Ruby</td>\n",
       "      <td># Simplified Blackjack - Procedural\\n\\n## Lear...</td>\n",
       "    </tr>\n",
       "    <tr>\n",
       "      <th>1</th>\n",
       "      <td>/rocketacademy/basics-blackjack</td>\n",
       "      <td>HTML</td>\n",
       "      <td># Rocket Academy Coding Basics: Blackjack\\n</td>\n",
       "    </tr>\n",
       "    <tr>\n",
       "      <th>2</th>\n",
       "      <td>/datamllab/rlcard</td>\n",
       "      <td>Python</td>\n",
       "      <td># RLCard: A Toolkit for Reinforcement Learning...</td>\n",
       "    </tr>\n",
       "    <tr>\n",
       "      <th>3</th>\n",
       "      <td>/learn-co-students/simple-blackjack-cli-001-pr...</td>\n",
       "      <td>Ruby</td>\n",
       "      <td># Simplified Blackjack - Procedural\\n\\n## Lear...</td>\n",
       "    </tr>\n",
       "    <tr>\n",
       "      <th>4</th>\n",
       "      <td>/cocos-creator/tutorial-blackjack-deprecated</td>\n",
       "      <td>JavaScript</td>\n",
       "      <td># 21点游戏 - Cocos Creator 制造\\n\\n「21点游戏」是 Cocos C...</td>\n",
       "    </tr>\n",
       "  </tbody>\n",
       "</table>\n",
       "</div>"
      ],
      "text/plain": [
       "                                                repo    language  \\\n",
       "0    /learn-co-students/simple-blackjack-cli-prework        Ruby   \n",
       "1                    /rocketacademy/basics-blackjack        HTML   \n",
       "2                                  /datamllab/rlcard      Python   \n",
       "3  /learn-co-students/simple-blackjack-cli-001-pr...        Ruby   \n",
       "4       /cocos-creator/tutorial-blackjack-deprecated  JavaScript   \n",
       "\n",
       "                                     readme_contents  \n",
       "0  # Simplified Blackjack - Procedural\\n\\n## Lear...  \n",
       "1        # Rocket Academy Coding Basics: Blackjack\\n  \n",
       "2  # RLCard: A Toolkit for Reinforcement Learning...  \n",
       "3  # Simplified Blackjack - Procedural\\n\\n## Lear...  \n",
       "4  # 21点游戏 - Cocos Creator 制造\\n\\n「21点游戏」是 Cocos C...  "
      ]
     },
     "execution_count": 8,
     "metadata": {},
     "output_type": "execute_result"
    }
   ],
   "source": [
    "df.head()"
   ]
  },
  {
   "cell_type": "code",
   "execution_count": 9,
   "id": "0ad66d4a-a48a-4936-bcf2-8a2a2a60915f",
   "metadata": {},
   "outputs": [],
   "source": [
    "df['readme_clean'] = df['readme_contents'].apply(basic_clean)"
   ]
  },
  {
   "cell_type": "code",
   "execution_count": 10,
   "id": "00fe5b88-1c93-4d81-b45b-6c8db208fffe",
   "metadata": {},
   "outputs": [
    {
     "data": {
      "text/plain": [
       "0     simplified blackjack  procedural\\n\\n learning...\n",
       "1             rocket academy coding basics blackjack\\n\n",
       "2     rlcard a toolkit for reinforcement learning i...\n",
       "3     simplified blackjack  procedural\\n\\n learning...\n",
       "4     21  cocos creator \\n\\n21 cocos creator  demo ...\n",
       "Name: readme_clean, dtype: object"
      ]
     },
     "execution_count": 10,
     "metadata": {},
     "output_type": "execute_result"
    }
   ],
   "source": [
    "df['readme_clean'].head()"
   ]
  },
  {
   "cell_type": "markdown",
   "id": "5ce9a817-a5e9-4034-8fbf-4c6bead560f6",
   "metadata": {},
   "source": [
    "### Tokenize words"
   ]
  },
  {
   "cell_type": "code",
   "execution_count": 11,
   "id": "677ac010-3ab6-44e2-8280-03ac5fffdd9d",
   "metadata": {},
   "outputs": [],
   "source": [
    "df['readme_clean'] = df['readme_clean'].apply(tokenized, tokenize_tool=2)"
   ]
  },
  {
   "cell_type": "code",
   "execution_count": 12,
   "id": "3e584e1b-eb3e-4ff3-b919-618f302ea066",
   "metadata": {},
   "outputs": [
    {
     "data": {
      "text/plain": [
       "0    simplified blackjack procedural learning goals...\n",
       "1               rocket academy coding basics blackjack\n",
       "2    rlcard a toolkit for reinforcement learning in...\n",
       "3    simplified blackjack procedural learning goals...\n",
       "4    21 cocos creator 21 cocos creator demo cocos c...\n",
       "Name: readme_clean, dtype: object"
      ]
     },
     "execution_count": 12,
     "metadata": {},
     "output_type": "execute_result"
    }
   ],
   "source": [
    "df['readme_clean'].head()"
   ]
  },
  {
   "cell_type": "markdown",
   "id": "f7028092-fa10-472f-aa63-b8313fa54319",
   "metadata": {},
   "source": [
    "### Lemm words"
   ]
  },
  {
   "cell_type": "code",
   "execution_count": 13,
   "id": "c3351d13-62f2-4192-82ca-ba9d4d0e060f",
   "metadata": {},
   "outputs": [],
   "source": [
    "df['readme_lemm'] = df['readme_clean'].apply(lemmatized)"
   ]
  },
  {
   "cell_type": "markdown",
   "id": "8db9bde9-8cc3-482d-ae5b-2232d93dcf0a",
   "metadata": {},
   "source": [
    "### Stem words"
   ]
  },
  {
   "cell_type": "markdown",
   "id": "5476f373-2dbb-4c8d-ae13-55835eec8ac9",
   "metadata": {},
   "source": [
    "- Understemming: Two related words should be reduced to the same stem but aren't. (False negative)\n",
    "\n",
    "\n",
    "- Overstemming: Two unrelated words are reduced to the same stem even though they shouldn't be. (False positive)\n",
    "\n",
    "- Consider Snowball stemmer aka Porter2"
   ]
  },
  {
   "cell_type": "code",
   "execution_count": 14,
   "id": "330db219-bbf8-4d6e-9568-e0052e98db3b",
   "metadata": {},
   "outputs": [],
   "source": [
    "df['readme_stem'] = df['readme_clean'].apply(stemmerize_tool, stemmer_type=3)"
   ]
  },
  {
   "cell_type": "code",
   "execution_count": 15,
   "id": "9947eacc-1e91-4df7-961e-173479c6f656",
   "metadata": {},
   "outputs": [
    {
     "data": {
      "text/plain": [
       "0    simplifi blackjack procedur learn goal util co...\n",
       "1                  rocket academi code basic blackjack\n",
       "2    rlcard a toolkit for reinforc learn in card ga...\n",
       "3    simplifi blackjack procedur learn goal util co...\n",
       "4    21 coco creator 21 coco creator demo coco crea...\n",
       "Name: readme_stem, dtype: object"
      ]
     },
     "execution_count": 15,
     "metadata": {},
     "output_type": "execute_result"
    }
   ],
   "source": [
    "df['readme_stem'].head()"
   ]
  },
  {
   "cell_type": "markdown",
   "id": "8d884ea8-e7ab-4b89-a316-b834ff032b75",
   "metadata": {},
   "source": [
    "### Remove stopwords"
   ]
  },
  {
   "cell_type": "code",
   "execution_count": 16,
   "id": "12c7ffca-cca0-47c8-8e97-1c2c02b6ce00",
   "metadata": {},
   "outputs": [],
   "source": [
    "df['readme_stem_no_swords'] = df['readme_stem'].apply(remove_stopwords)"
   ]
  },
  {
   "cell_type": "code",
   "execution_count": 17,
   "id": "a5de0138-83dc-4e2c-a80b-ef0559157fed",
   "metadata": {},
   "outputs": [],
   "source": [
    "df['readme_lemm_no_swords'] = df['readme_lemm'].apply(remove_stopwords)"
   ]
  },
  {
   "cell_type": "markdown",
   "id": "782ce888-8be2-4108-9142-455a872edb8e",
   "metadata": {},
   "source": [
    "### Split data"
   ]
  },
  {
   "cell_type": "code",
   "execution_count": 18,
   "id": "72862795-cb82-4c9c-97f1-46653ec5ca88",
   "metadata": {},
   "outputs": [],
   "source": [
    "train, val, test = train_validate(df)"
   ]
  },
  {
   "cell_type": "code",
   "execution_count": 19,
   "id": "cd21cbf5-f9f8-408d-97d2-b0456c01696f",
   "metadata": {},
   "outputs": [
    {
     "data": {
      "text/plain": [
       "Ruby                129\n",
       "Java                 27\n",
       "JavaScript           19\n",
       "Python               18\n",
       "C++                   5\n",
       "C#                    3\n",
       "Swift                 3\n",
       "Objective-C           3\n",
       "Lua                   2\n",
       "CSS                   2\n",
       "Kotlin                2\n",
       "TypeScript            2\n",
       "HTML                  1\n",
       "Jupyter Notebook      1\n",
       "PHP                   1\n",
       "Go                    1\n",
       "C                     1\n",
       "Dart                  1\n",
       "Vue                   1\n",
       "Name: language, dtype: int64"
      ]
     },
     "execution_count": 19,
     "metadata": {},
     "output_type": "execute_result"
    }
   ],
   "source": [
    "train.language.value_counts()"
   ]
  },
  {
   "cell_type": "markdown",
   "id": "cf078b89-f777-4392-a102-da9d459864bc",
   "metadata": {},
   "source": [
    "### Explore Stems"
   ]
  },
  {
   "cell_type": "code",
   "execution_count": 20,
   "id": "50a6b297-8714-4340-b468-853ae15e06d6",
   "metadata": {},
   "outputs": [],
   "source": [
    "big_rams_stem = []\n",
    "for row in train['readme_stem_no_swords'].apply(ngrams_creator):\n",
    "    big_rams_stem.extend(row)"
   ]
  },
  {
   "cell_type": "code",
   "execution_count": 21,
   "id": "6cc080ed-89ac-4bb0-8474-88abfb6d86b7",
   "metadata": {},
   "outputs": [],
   "source": [
    "bi_stem_series = pd.Series(big_rams_stem)"
   ]
  },
  {
   "cell_type": "code",
   "execution_count": 22,
   "id": "9d2585aa-85bf-4f4a-81c1-b2dc8ed27ab9",
   "metadata": {},
   "outputs": [],
   "source": [
    "trig_rams_stem = []\n",
    "for row in train['readme_stem_no_swords'].apply(ngrams_creator, n_grams=3):\n",
    "    trig_rams_stem.extend(row)"
   ]
  },
  {
   "cell_type": "code",
   "execution_count": 23,
   "id": "c05eb0a7-981a-4f8e-9068-5ec1adbd55f2",
   "metadata": {},
   "outputs": [],
   "source": [
    "tri_stem_series = pd.Series(trig_rams_stem)"
   ]
  },
  {
   "cell_type": "code",
   "execution_count": 24,
   "id": "bfc5a04d-d3a2-4ffa-bc4a-67bcf4c20a86",
   "metadata": {},
   "outputs": [
    {
     "data": {
      "text/plain": [
       "(command, line)     1927\n",
       "(card, total)       1375\n",
       "(user, input)       1149\n",
       "(method, method)    1126\n",
       "(runner, method)    1125\n",
       "dtype: int64"
      ]
     },
     "execution_count": 24,
     "metadata": {},
     "output_type": "execute_result"
    }
   ],
   "source": [
    "bi_stem_series.value_counts().head()"
   ]
  },
  {
   "cell_type": "code",
   "execution_count": 25,
   "id": "a3eb2549-00fe-46ac-9efc-4f16b30f6c93",
   "metadata": {},
   "outputs": [
    {
     "data": {
      "text/plain": [
       "(command, line, app)         798\n",
       "(method, take, argument)     500\n",
       "(deal, new, card)            376\n",
       "(command, line, interfac)    376\n",
       "(h, hit, stay)               375\n",
       "dtype: int64"
      ]
     },
     "execution_count": 25,
     "metadata": {},
     "output_type": "execute_result"
    }
   ],
   "source": [
    "tri_stem_series.value_counts().head()"
   ]
  },
  {
   "cell_type": "markdown",
   "id": "28ded7e3-c3dc-456b-8277-1e9475a883bc",
   "metadata": {},
   "source": [
    "### Explore Lemms"
   ]
  },
  {
   "cell_type": "code",
   "execution_count": 26,
   "id": "55ee5fb3-989b-4e2c-a4fa-aa11d90108b4",
   "metadata": {},
   "outputs": [],
   "source": [
    "big_rams_lemm = []\n",
    "for row in train['readme_lemm_no_swords'].apply(ngrams_creator):\n",
    "    big_rams_lemm.extend(row)"
   ]
  },
  {
   "cell_type": "code",
   "execution_count": 27,
   "id": "75d574db-c4a0-46b0-aaab-49c00fd9ab1d",
   "metadata": {},
   "outputs": [],
   "source": [
    "bi_lemm_series = pd.Series(big_rams_lemm)"
   ]
  },
  {
   "cell_type": "code",
   "execution_count": 28,
   "id": "aeca008c-c4f0-4a56-96af-71fae391624c",
   "metadata": {},
   "outputs": [],
   "source": [
    "trig_rams_lemm = []\n",
    "for row in train['readme_lemm_no_swords'].apply(ngrams_creator, n_grams=3):\n",
    "    trig_rams_lemm.extend(row)"
   ]
  },
  {
   "cell_type": "code",
   "execution_count": 29,
   "id": "5a549429-ff82-4ed3-98ba-5d237d8ef955",
   "metadata": {},
   "outputs": [],
   "source": [
    "tri_lemm_series = pd.Series(trig_rams_lemm)"
   ]
  },
  {
   "cell_type": "code",
   "execution_count": 30,
   "id": "325d0eff-b0bb-45c8-8403-f65e6d70059f",
   "metadata": {},
   "outputs": [
    {
     "data": {
      "text/plain": [
       "(command, line)     1927\n",
       "(card, total)       1375\n",
       "(user, input)       1149\n",
       "(method, method)    1126\n",
       "(runner, method)    1125\n",
       "dtype: int64"
      ]
     },
     "execution_count": 30,
     "metadata": {},
     "output_type": "execute_result"
    }
   ],
   "source": [
    "bi_lemm_series.value_counts().head()"
   ]
  },
  {
   "cell_type": "code",
   "execution_count": 31,
   "id": "f8867400-64d8-44d8-b18e-73cec8363c41",
   "metadata": {},
   "outputs": [
    {
     "data": {
      "text/plain": [
       "(command, line, app)          673\n",
       "(method, take, argument)      500\n",
       "(deal, new, card)             376\n",
       "(command, line, interface)    376\n",
       "(runner, method, runner)      375\n",
       "dtype: int64"
      ]
     },
     "execution_count": 31,
     "metadata": {},
     "output_type": "execute_result"
    }
   ],
   "source": [
    "tri_lemm_series.value_counts().head()"
   ]
  }
 ],
 "metadata": {
  "kernelspec": {
   "display_name": "Python 3 (ipykernel)",
   "language": "python",
   "name": "python3"
  },
  "language_info": {
   "codemirror_mode": {
    "name": "ipython",
    "version": 3
   },
   "file_extension": ".py",
   "mimetype": "text/x-python",
   "name": "python",
   "nbconvert_exporter": "python",
   "pygments_lexer": "ipython3",
   "version": "3.9.15"
  }
 },
 "nbformat": 4,
 "nbformat_minor": 5
}
