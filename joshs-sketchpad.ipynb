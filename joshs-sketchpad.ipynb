{
 "cells": [
  {
   "cell_type": "code",
   "execution_count": 1,
   "id": "2723bcf4-0473-4f6b-9121-5288f362166b",
   "metadata": {
    "tags": []
   },
   "outputs": [
    {
     "name": "stdout",
     "output_type": "stream",
     "text": [
      "*** Introductory Examples for the NLTK Book ***\n",
      "Loading text1, ..., text9 and sent1, ..., sent9\n",
      "Type the name of the text or sentence to view it.\n",
      "Type: 'texts()' or 'sents()' to list the materials.\n",
      "text1: Moby Dick by Herman Melville 1851\n",
      "text2: Sense and Sensibility by Jane Austen 1811\n",
      "text3: The Book of Genesis\n",
      "text4: Inaugural Address Corpus\n",
      "text5: Chat Corpus\n",
      "text6: Monty Python and the Holy Grail\n",
      "text7: Wall Street Journal\n",
      "text8: Personals Corpus\n",
      "text9: The Man Who Was Thursday by G . K . Chesterton 1908\n"
     ]
    }
   ],
   "source": [
    "import pandas as pd\n",
    "import numpy as np\n",
    "import seaborn as sns\n",
    "import matplotlib.pyplot as plt\n",
    "\n",
    "import json\n",
    "from requests import get\n",
    "from json.decoder import JSONDecodeError\n",
    "from bs4 import BeautifulSoup\n",
    "import time\n",
    "from tqdm import tqdm\n",
    "\n",
    "import nltk\n",
    "from nltk.corpus import stopwords\n",
    "from nltk.tokenize.toktok import ToktokTokenizer\n",
    "from nltk.tokenize import sent_tokenize, word_tokenize\n",
    "from nltk.stem import PorterStemmer, SnowballStemmer\n",
    "#You can also call the Porter by nltk.porter.PorterStemmer\n",
    "from nltk.stem.snowball import EnglishStemmer\n",
    "\n",
    "from sklearn.feature_extraction.text import TfidfVectorizer\n",
    "from sklearn.linear_model import LogisticRegression\n",
    "from sklearn.metrics import classification_report, accuracy_score, ConfusionMatrixDisplay\n",
    "from sklearn.tree import DecisionTreeClassifier, plot_tree\n",
    "from sklearn.ensemble import RandomForestClassifier\n",
    "\n",
    "from nltk.stem import WordNetLemmatizer\n",
    "from nltk.book import *\n",
    "from nltk.text import Text\n",
    "\n",
    "from pprint import pprint\n",
    "\n",
    "from acquire import *\n",
    "from prepare_nlp_josh import *\n",
    "from modeling import *\n",
    "import env\n",
    "\n",
    "#These download may need to be run for the NLTK library:\n",
    "\n",
    "#nltk.download('omw-1.4')\n",
    "#nltk.download(\"punkt\")\n",
    "#nltk.download(\"stopwords\")\n",
    "#nltk.download('averaged_perceptron_tagger')\n",
    "#nltk.download('tagsets')\n",
    "#nltk.download(\"maxent_ne_chunker\")\n",
    "#nltk.download(\"words\")\n",
    "#nltk.download(\"book\") #big download"
   ]
  },
  {
   "cell_type": "code",
   "execution_count": 2,
   "id": "fc3e78dd-56f9-49d7-aa17-ebc3941868b9",
   "metadata": {},
   "outputs": [],
   "source": [
    "links = get_links()"
   ]
  },
  {
   "cell_type": "code",
   "execution_count": 3,
   "id": "4e857118-730e-4bff-bc34-6b812a6c4e17",
   "metadata": {},
   "outputs": [],
   "source": [
    "#When you get new links, delete this line.\n",
    "#links.href = links.href.str[1:]"
   ]
  },
  {
   "cell_type": "code",
   "execution_count": 4,
   "id": "e1d630ce-eb03-47c0-99b5-23ed465d040b",
   "metadata": {},
   "outputs": [
    {
     "data": {
      "text/html": [
       "<div>\n",
       "<style scoped>\n",
       "    .dataframe tbody tr th:only-of-type {\n",
       "        vertical-align: middle;\n",
       "    }\n",
       "\n",
       "    .dataframe tbody tr th {\n",
       "        vertical-align: top;\n",
       "    }\n",
       "\n",
       "    .dataframe thead th {\n",
       "        text-align: right;\n",
       "    }\n",
       "</style>\n",
       "<table border=\"1\" class=\"dataframe\">\n",
       "  <thead>\n",
       "    <tr style=\"text-align: right;\">\n",
       "      <th></th>\n",
       "      <th>Unnamed: 0</th>\n",
       "      <th>href</th>\n",
       "    </tr>\n",
       "  </thead>\n",
       "  <tbody>\n",
       "    <tr>\n",
       "      <th>0</th>\n",
       "      <td>0</td>\n",
       "      <td>/learn-co-students/simple-blackjack-cli-prework</td>\n",
       "    </tr>\n",
       "    <tr>\n",
       "      <th>1</th>\n",
       "      <td>1</td>\n",
       "      <td>/rocketacademy/basics-blackjack</td>\n",
       "    </tr>\n",
       "    <tr>\n",
       "      <th>2</th>\n",
       "      <td>2</td>\n",
       "      <td>/datamllab/rlcard</td>\n",
       "    </tr>\n",
       "    <tr>\n",
       "      <th>3</th>\n",
       "      <td>3</td>\n",
       "      <td>/learn-co-students/simple-blackjack-cli-001-pr...</td>\n",
       "    </tr>\n",
       "    <tr>\n",
       "      <th>4</th>\n",
       "      <td>4</td>\n",
       "      <td>/cocos-creator/tutorial-blackjack-deprecated</td>\n",
       "    </tr>\n",
       "  </tbody>\n",
       "</table>\n",
       "</div>"
      ],
      "text/plain": [
       "   Unnamed: 0                                               href\n",
       "0           0    /learn-co-students/simple-blackjack-cli-prework\n",
       "1           1                    /rocketacademy/basics-blackjack\n",
       "2           2                                  /datamllab/rlcard\n",
       "3           3  /learn-co-students/simple-blackjack-cli-001-pr...\n",
       "4           4       /cocos-creator/tutorial-blackjack-deprecated"
      ]
     },
     "execution_count": 4,
     "metadata": {},
     "output_type": "execute_result"
    }
   ],
   "source": [
    "links.head()"
   ]
  },
  {
   "cell_type": "code",
   "execution_count": 5,
   "id": "0f6d5cf0-fa4d-4360-a8ab-76a1149bc864",
   "metadata": {},
   "outputs": [],
   "source": [
    "#Run this to get new data\n",
    "df = get_repos(links.href)"
   ]
  },
  {
   "cell_type": "code",
   "execution_count": 6,
   "id": "295bdc3f-6258-482e-9424-3c4a58bdb017",
   "metadata": {},
   "outputs": [],
   "source": [
    "#Run to save the data\n",
    "#df.to_csv(\"origional_data.csv\", index=False)"
   ]
  },
  {
   "cell_type": "code",
   "execution_count": 7,
   "id": "06ed250d-aaca-429d-820c-ee267cc29295",
   "metadata": {},
   "outputs": [
    {
     "data": {
      "text/plain": [
       "(440, 3)"
      ]
     },
     "execution_count": 7,
     "metadata": {},
     "output_type": "execute_result"
    }
   ],
   "source": [
    "df.shape"
   ]
  },
  {
   "cell_type": "code",
   "execution_count": 8,
   "id": "d3a586eb-3894-4d82-9427-214b126f1144",
   "metadata": {},
   "outputs": [],
   "source": [
    "df.dropna(inplace=True)"
   ]
  },
  {
   "cell_type": "code",
   "execution_count": 9,
   "id": "117fd530-3c50-4b59-bc73-9c0bcd0cd365",
   "metadata": {},
   "outputs": [
    {
     "data": {
      "text/plain": [
       "(418, 3)"
      ]
     },
     "execution_count": 9,
     "metadata": {},
     "output_type": "execute_result"
    }
   ],
   "source": [
    "df.shape"
   ]
  },
  {
   "cell_type": "code",
   "execution_count": 10,
   "id": "940d1523-3d6a-45f1-993d-9a7d12b40ae6",
   "metadata": {},
   "outputs": [
    {
     "data": {
      "text/html": [
       "<div>\n",
       "<style scoped>\n",
       "    .dataframe tbody tr th:only-of-type {\n",
       "        vertical-align: middle;\n",
       "    }\n",
       "\n",
       "    .dataframe tbody tr th {\n",
       "        vertical-align: top;\n",
       "    }\n",
       "\n",
       "    .dataframe thead th {\n",
       "        text-align: right;\n",
       "    }\n",
       "</style>\n",
       "<table border=\"1\" class=\"dataframe\">\n",
       "  <thead>\n",
       "    <tr style=\"text-align: right;\">\n",
       "      <th></th>\n",
       "      <th>repo</th>\n",
       "      <th>language</th>\n",
       "      <th>readme_contents</th>\n",
       "    </tr>\n",
       "  </thead>\n",
       "  <tbody>\n",
       "    <tr>\n",
       "      <th>0</th>\n",
       "      <td>/learn-co-students/simple-blackjack-cli-prework</td>\n",
       "      <td>Ruby</td>\n",
       "      <td># Simplified Blackjack - Procedural\\n\\n## Lear...</td>\n",
       "    </tr>\n",
       "    <tr>\n",
       "      <th>1</th>\n",
       "      <td>/rocketacademy/basics-blackjack</td>\n",
       "      <td>HTML</td>\n",
       "      <td># Rocket Academy Coding Basics: Blackjack\\n</td>\n",
       "    </tr>\n",
       "    <tr>\n",
       "      <th>2</th>\n",
       "      <td>/datamllab/rlcard</td>\n",
       "      <td>Python</td>\n",
       "      <td># RLCard: A Toolkit for Reinforcement Learning...</td>\n",
       "    </tr>\n",
       "    <tr>\n",
       "      <th>3</th>\n",
       "      <td>/learn-co-students/simple-blackjack-cli-001-pr...</td>\n",
       "      <td>Ruby</td>\n",
       "      <td># Simplified Blackjack - Procedural\\n\\n## Lear...</td>\n",
       "    </tr>\n",
       "    <tr>\n",
       "      <th>4</th>\n",
       "      <td>/cocos-creator/tutorial-blackjack-deprecated</td>\n",
       "      <td>JavaScript</td>\n",
       "      <td># 21点游戏 - Cocos Creator 制造\\n\\n「21点游戏」是 Cocos C...</td>\n",
       "    </tr>\n",
       "  </tbody>\n",
       "</table>\n",
       "</div>"
      ],
      "text/plain": [
       "                                                repo    language  \\\n",
       "0    /learn-co-students/simple-blackjack-cli-prework        Ruby   \n",
       "1                    /rocketacademy/basics-blackjack        HTML   \n",
       "2                                  /datamllab/rlcard      Python   \n",
       "3  /learn-co-students/simple-blackjack-cli-001-pr...        Ruby   \n",
       "4       /cocos-creator/tutorial-blackjack-deprecated  JavaScript   \n",
       "\n",
       "                                     readme_contents  \n",
       "0  # Simplified Blackjack - Procedural\\n\\n## Lear...  \n",
       "1        # Rocket Academy Coding Basics: Blackjack\\n  \n",
       "2  # RLCard: A Toolkit for Reinforcement Learning...  \n",
       "3  # Simplified Blackjack - Procedural\\n\\n## Lear...  \n",
       "4  # 21点游戏 - Cocos Creator 制造\\n\\n「21点游戏」是 Cocos C...  "
      ]
     },
     "execution_count": 10,
     "metadata": {},
     "output_type": "execute_result"
    }
   ],
   "source": [
    "df.head()"
   ]
  },
  {
   "cell_type": "code",
   "execution_count": 11,
   "id": "b0499468-d2c5-4274-ad15-e45effa04d42",
   "metadata": {},
   "outputs": [],
   "source": [
    "df = clean_languages(df)"
   ]
  },
  {
   "cell_type": "code",
   "execution_count": 12,
   "id": "0ad66d4a-a48a-4936-bcf2-8a2a2a60915f",
   "metadata": {},
   "outputs": [],
   "source": [
    "df['readme_clean'] = df['readme_contents'].apply(basic_clean)"
   ]
  },
  {
   "cell_type": "code",
   "execution_count": 13,
   "id": "00fe5b88-1c93-4d81-b45b-6c8db208fffe",
   "metadata": {},
   "outputs": [
    {
     "data": {
      "text/plain": [
       "0     simplified blackjack  procedural\\n\\n learning...\n",
       "1             rocket academy coding basics blackjack\\n\n",
       "2     rlcard a toolkit for reinforcement learning i...\n",
       "3     simplified blackjack  procedural\\n\\n learning...\n",
       "4     21  cocos creator \\n\\n21 cocos creator  demo ...\n",
       "Name: readme_clean, dtype: object"
      ]
     },
     "execution_count": 13,
     "metadata": {},
     "output_type": "execute_result"
    }
   ],
   "source": [
    "df['readme_clean'].head()"
   ]
  },
  {
   "cell_type": "markdown",
   "id": "5ce9a817-a5e9-4034-8fbf-4c6bead560f6",
   "metadata": {},
   "source": [
    "### Tokenize words"
   ]
  },
  {
   "cell_type": "code",
   "execution_count": 14,
   "id": "677ac010-3ab6-44e2-8280-03ac5fffdd9d",
   "metadata": {},
   "outputs": [],
   "source": [
    "df['readme_clean'] = df['readme_clean'].apply(tokenized, tokenize_tool=2)"
   ]
  },
  {
   "cell_type": "code",
   "execution_count": 15,
   "id": "3e584e1b-eb3e-4ff3-b919-618f302ea066",
   "metadata": {},
   "outputs": [
    {
     "data": {
      "text/plain": [
       "0    simplified blackjack procedural learning goals...\n",
       "1               rocket academy coding basics blackjack\n",
       "2    rlcard a toolkit for reinforcement learning in...\n",
       "3    simplified blackjack procedural learning goals...\n",
       "4    21 cocos creator 21 cocos creator demo cocos c...\n",
       "Name: readme_clean, dtype: object"
      ]
     },
     "execution_count": 15,
     "metadata": {},
     "output_type": "execute_result"
    }
   ],
   "source": [
    "df['readme_clean'].head()"
   ]
  },
  {
   "cell_type": "markdown",
   "id": "f7028092-fa10-472f-aa63-b8313fa54319",
   "metadata": {},
   "source": [
    "### Lemm words"
   ]
  },
  {
   "cell_type": "code",
   "execution_count": 16,
   "id": "c3351d13-62f2-4192-82ca-ba9d4d0e060f",
   "metadata": {},
   "outputs": [],
   "source": [
    "df['readme_lemm'] = df['readme_clean'].apply(lemmatized)"
   ]
  },
  {
   "cell_type": "markdown",
   "id": "8db9bde9-8cc3-482d-ae5b-2232d93dcf0a",
   "metadata": {},
   "source": [
    "### Stem words"
   ]
  },
  {
   "cell_type": "markdown",
   "id": "5476f373-2dbb-4c8d-ae13-55835eec8ac9",
   "metadata": {},
   "source": [
    "- Understemming: Two related words should be reduced to the same stem but aren't. (False negative)\n",
    "\n",
    "\n",
    "- Overstemming: Two unrelated words are reduced to the same stem even though they shouldn't be. (False positive)\n",
    "\n",
    "- Consider Snowball stemmer aka Porter2"
   ]
  },
  {
   "cell_type": "code",
   "execution_count": 17,
   "id": "330db219-bbf8-4d6e-9568-e0052e98db3b",
   "metadata": {},
   "outputs": [],
   "source": [
    "df['readme_stem'] = df['readme_clean'].apply(stemmerize_tool, stemmer_type=3)"
   ]
  },
  {
   "cell_type": "code",
   "execution_count": 18,
   "id": "9947eacc-1e91-4df7-961e-173479c6f656",
   "metadata": {},
   "outputs": [
    {
     "data": {
      "text/plain": [
       "0    simplifi blackjack procedur learn goal util co...\n",
       "1                  rocket academi code basic blackjack\n",
       "2    rlcard a toolkit for reinforc learn in card ga...\n",
       "3    simplifi blackjack procedur learn goal util co...\n",
       "4    21 coco creator 21 coco creator demo coco crea...\n",
       "Name: readme_stem, dtype: object"
      ]
     },
     "execution_count": 18,
     "metadata": {},
     "output_type": "execute_result"
    }
   ],
   "source": [
    "df['readme_stem'].head()"
   ]
  },
  {
   "cell_type": "markdown",
   "id": "8d884ea8-e7ab-4b89-a316-b834ff032b75",
   "metadata": {},
   "source": [
    "### Remove stopwords"
   ]
  },
  {
   "cell_type": "code",
   "execution_count": 19,
   "id": "355e085c-1deb-4eed-bf1e-73d89f0f1465",
   "metadata": {},
   "outputs": [],
   "source": [
    "more_stopwords = ['stopswords', 'blackjack', 'java', 'cards', 'split', 'ace', 'variables', 'conditional', 'statements', 'loops', 'functions', 'object-oriented programming', 'syntax', 'comments', 'libraries', 'frameworks']"
   ]
  },
  {
   "cell_type": "code",
   "execution_count": 20,
   "id": "12c7ffca-cca0-47c8-8e97-1c2c02b6ce00",
   "metadata": {},
   "outputs": [],
   "source": [
    "df['readme_stem_no_swords'] = df['readme_stem'].apply(remove_stopwords, extra_words=more_stopwords)"
   ]
  },
  {
   "cell_type": "code",
   "execution_count": 21,
   "id": "617c61aa-dc2e-4566-93a0-4178af9c2445",
   "metadata": {},
   "outputs": [],
   "source": [
    "df['readme_lemm_no_swords'] = df['readme_lemm'].apply(remove_stopwords, extra_words=more_stopwords)"
   ]
  },
  {
   "cell_type": "markdown",
   "id": "782ce888-8be2-4108-9142-455a872edb8e",
   "metadata": {},
   "source": [
    "### Split data"
   ]
  },
  {
   "cell_type": "code",
   "execution_count": 22,
   "id": "72862795-cb82-4c9c-97f1-46653ec5ca88",
   "metadata": {},
   "outputs": [],
   "source": [
    "train, val, test = train_validate(df)"
   ]
  },
  {
   "cell_type": "code",
   "execution_count": 23,
   "id": "1f0332aa-481a-400c-a8d9-98606085e21f",
   "metadata": {},
   "outputs": [
    {
     "data": {
      "text/plain": [
       "200"
      ]
     },
     "execution_count": 23,
     "metadata": {},
     "output_type": "execute_result"
    }
   ],
   "source": [
    "len(train)"
   ]
  },
  {
   "cell_type": "code",
   "execution_count": 24,
   "id": "cd21cbf5-f9f8-408d-97d2-b0456c01696f",
   "metadata": {},
   "outputs": [
    {
     "data": {
      "text/plain": [
       "Ruby          103\n",
       "Java           25\n",
       "JavaScript     22\n",
       "Other          19\n",
       "Python         16\n",
       "C_based        15\n",
       "Name: language, dtype: int64"
      ]
     },
     "execution_count": 24,
     "metadata": {},
     "output_type": "execute_result"
    }
   ],
   "source": [
    "train.language.value_counts()"
   ]
  },
  {
   "cell_type": "markdown",
   "id": "cf078b89-f777-4392-a102-da9d459864bc",
   "metadata": {},
   "source": [
    "### Explore Stems"
   ]
  },
  {
   "cell_type": "code",
   "execution_count": 25,
   "id": "50a6b297-8714-4340-b468-853ae15e06d6",
   "metadata": {},
   "outputs": [],
   "source": [
    "big_rams_stem = []\n",
    "for row in train['readme_stem_no_swords'].apply(ngrams_creator):\n",
    "    big_rams_stem.extend(row)"
   ]
  },
  {
   "cell_type": "code",
   "execution_count": 26,
   "id": "6cc080ed-89ac-4bb0-8474-88abfb6d86b7",
   "metadata": {},
   "outputs": [],
   "source": [
    "bi_stem_series = pd.Series(big_rams_stem)"
   ]
  },
  {
   "cell_type": "code",
   "execution_count": 27,
   "id": "9d2585aa-85bf-4f4a-81c1-b2dc8ed27ab9",
   "metadata": {},
   "outputs": [],
   "source": [
    "trig_rams_stem = []\n",
    "for row in train['readme_stem_no_swords'].apply(ngrams_creator, n_grams=3):\n",
    "    trig_rams_stem.extend(row)"
   ]
  },
  {
   "cell_type": "code",
   "execution_count": 28,
   "id": "c05eb0a7-981a-4f8e-9068-5ec1adbd55f2",
   "metadata": {},
   "outputs": [],
   "source": [
    "tri_stem_series = pd.Series(trig_rams_stem)"
   ]
  },
  {
   "cell_type": "code",
   "execution_count": 29,
   "id": "bfc5a04d-d3a2-4ffa-bc4a-67bcf4c20a86",
   "metadata": {},
   "outputs": [
    {
     "data": {
      "text/plain": [
       "(command, line)     1548\n",
       "(card, total)       1103\n",
       "(user, input)        923\n",
       "(method, method)     901\n",
       "(runner, method)     900\n",
       "dtype: int64"
      ]
     },
     "execution_count": 29,
     "metadata": {},
     "output_type": "execute_result"
    }
   ],
   "source": [
    "bi_stem_series.value_counts().head()"
   ]
  },
  {
   "cell_type": "code",
   "execution_count": 30,
   "id": "a3eb2549-00fe-46ac-9efc-4f16b30f6c93",
   "metadata": {},
   "outputs": [
    {
     "data": {
      "text/plain": [
       "(command, line, app)         640\n",
       "(method, take, argument)     400\n",
       "(deal, new, card)            303\n",
       "(h, hit, stay)               301\n",
       "(command, line, interfac)    300\n",
       "dtype: int64"
      ]
     },
     "execution_count": 30,
     "metadata": {},
     "output_type": "execute_result"
    }
   ],
   "source": [
    "tri_stem_series.value_counts().head()"
   ]
  },
  {
   "cell_type": "markdown",
   "id": "28ded7e3-c3dc-456b-8277-1e9475a883bc",
   "metadata": {},
   "source": [
    "### Explore Lemms"
   ]
  },
  {
   "cell_type": "code",
   "execution_count": 31,
   "id": "55ee5fb3-989b-4e2c-a4fa-aa11d90108b4",
   "metadata": {},
   "outputs": [],
   "source": [
    "big_rams_lemm = []\n",
    "for row in train['readme_lemm_no_swords'].apply(ngrams_creator):\n",
    "    big_rams_lemm.extend(row)"
   ]
  },
  {
   "cell_type": "code",
   "execution_count": 32,
   "id": "75d574db-c4a0-46b0-aaab-49c00fd9ab1d",
   "metadata": {},
   "outputs": [],
   "source": [
    "bi_lemm_series = pd.Series(big_rams_lemm)"
   ]
  },
  {
   "cell_type": "code",
   "execution_count": 33,
   "id": "aeca008c-c4f0-4a56-96af-71fae391624c",
   "metadata": {},
   "outputs": [],
   "source": [
    "trig_rams_lemm = []\n",
    "for row in train['readme_lemm_no_swords'].apply(ngrams_creator, n_grams=3):\n",
    "    trig_rams_lemm.extend(row)"
   ]
  },
  {
   "cell_type": "code",
   "execution_count": 34,
   "id": "5a549429-ff82-4ed3-98ba-5d237d8ef955",
   "metadata": {},
   "outputs": [],
   "source": [
    "tri_lemm_series = pd.Series(trig_rams_lemm)"
   ]
  },
  {
   "cell_type": "code",
   "execution_count": 35,
   "id": "325d0eff-b0bb-45c8-8403-f65e6d70059f",
   "metadata": {},
   "outputs": [
    {
     "data": {
      "text/plain": [
       "(command, line)     1548\n",
       "(card, total)       1103\n",
       "(user, input)        923\n",
       "(method, method)     901\n",
       "(runner, method)     900\n",
       "dtype: int64"
      ]
     },
     "execution_count": 35,
     "metadata": {},
     "output_type": "execute_result"
    }
   ],
   "source": [
    "bi_lemm_series.value_counts().head()"
   ]
  },
  {
   "cell_type": "code",
   "execution_count": 36,
   "id": "c95cb699-85c0-4157-972a-b4996c1f62c3",
   "metadata": {},
   "outputs": [
    {
     "data": {
      "text/plain": [
       "(command, line, app)        540\n",
       "(method, take, argument)    400\n",
       "(deal, new, card)           303\n",
       "(h, hit, stay)              301\n",
       "(take, argument, number)    300\n",
       "dtype: int64"
      ]
     },
     "execution_count": 36,
     "metadata": {},
     "output_type": "execute_result"
    }
   ],
   "source": [
    "tri_lemm_series.value_counts().head()"
   ]
  },
  {
   "cell_type": "markdown",
   "id": "bccf5ad1-464a-408b-9425-16fb25c55c49",
   "metadata": {},
   "source": [
    "###  Logistic Regression Modeling on Stem"
   ]
  },
  {
   "cell_type": "markdown",
   "id": "6575f82a-b6ac-4fa9-9bc6-757126c583fc",
   "metadata": {},
   "source": [
    "#### Term Frequency"
   ]
  },
  {
   "cell_type": "code",
   "execution_count": 37,
   "id": "130a22c3-a5eb-4df5-b4b4-a0af6180b966",
   "metadata": {},
   "outputs": [],
   "source": [
    "#Work on train['readme_stem_no_swords']"
   ]
  },
  {
   "cell_type": "code",
   "execution_count": 38,
   "id": "f1b54726-bce1-4969-ada1-19a79b891624",
   "metadata": {},
   "outputs": [],
   "source": [
    "list_of_stem_words = []\n",
    "#words = pd.Series(document.split())\n",
    "for item in train['readme_stem_no_swords']:\n",
    "    list_of_stem_words.extend(item.split(' '))"
   ]
  },
  {
   "cell_type": "code",
   "execution_count": 39,
   "id": "d4b7cd07-de02-4d85-b44a-359d249aa737",
   "metadata": {},
   "outputs": [],
   "source": [
    "stem_series = pd.Series(list_of_stem_words)"
   ]
  },
  {
   "cell_type": "code",
   "execution_count": 40,
   "id": "23da7e59-c7a2-4965-9734-7b92f828bf94",
   "metadata": {},
   "outputs": [],
   "source": [
    "stem_words_df = (pd.DataFrame({'raw_count': stem_series.value_counts()})\n",
    " .assign(frequency=lambda df: df.raw_count / df.raw_count.sum())\n",
    " .assign(augmented_frequency=lambda df: df.frequency / df.frequency.max()))"
   ]
  },
  {
   "cell_type": "code",
   "execution_count": 41,
   "id": "51fa417d-e4d2-42a4-a4d3-a35490997ac9",
   "metadata": {},
   "outputs": [
    {
     "data": {
      "text/html": [
       "<div>\n",
       "<style scoped>\n",
       "    .dataframe tbody tr th:only-of-type {\n",
       "        vertical-align: middle;\n",
       "    }\n",
       "\n",
       "    .dataframe tbody tr th {\n",
       "        vertical-align: top;\n",
       "    }\n",
       "\n",
       "    .dataframe thead th {\n",
       "        text-align: right;\n",
       "    }\n",
       "</style>\n",
       "<table border=\"1\" class=\"dataframe\">\n",
       "  <thead>\n",
       "    <tr style=\"text-align: right;\">\n",
       "      <th></th>\n",
       "      <th>raw_count</th>\n",
       "      <th>frequency</th>\n",
       "      <th>augmented_frequency</th>\n",
       "    </tr>\n",
       "  </thead>\n",
       "  <tbody>\n",
       "    <tr>\n",
       "      <th>method</th>\n",
       "      <td>8674</td>\n",
       "      <td>0.065466</td>\n",
       "      <td>1.000000</td>\n",
       "    </tr>\n",
       "    <tr>\n",
       "      <th>card</th>\n",
       "      <td>3134</td>\n",
       "      <td>0.023654</td>\n",
       "      <td>0.361310</td>\n",
       "    </tr>\n",
       "    <tr>\n",
       "      <th>test</th>\n",
       "      <td>2250</td>\n",
       "      <td>0.016982</td>\n",
       "      <td>0.259396</td>\n",
       "    </tr>\n",
       "    <tr>\n",
       "      <th>use</th>\n",
       "      <td>2098</td>\n",
       "      <td>0.015834</td>\n",
       "      <td>0.241872</td>\n",
       "    </tr>\n",
       "    <tr>\n",
       "      <th>line</th>\n",
       "      <td>1860</td>\n",
       "      <td>0.014038</td>\n",
       "      <td>0.214434</td>\n",
       "    </tr>\n",
       "    <tr>\n",
       "      <th>...</th>\n",
       "      <td>...</td>\n",
       "      <td>...</td>\n",
       "      <td>...</td>\n",
       "    </tr>\n",
       "    <tr>\n",
       "      <th>recusada</th>\n",
       "      <td>1</td>\n",
       "      <td>0.000008</td>\n",
       "      <td>0.000115</td>\n",
       "    </tr>\n",
       "    <tr>\n",
       "      <th>analisada</th>\n",
       "      <td>1</td>\n",
       "      <td>0.000008</td>\n",
       "      <td>0.000115</td>\n",
       "    </tr>\n",
       "    <tr>\n",
       "      <th>adicionada</th>\n",
       "      <td>1</td>\n",
       "      <td>0.000008</td>\n",
       "      <td>0.000115</td>\n",
       "    </tr>\n",
       "    <tr>\n",
       "      <th>futuro</th>\n",
       "      <td>1</td>\n",
       "      <td>0.000008</td>\n",
       "      <td>0.000115</td>\n",
       "    </tr>\n",
       "    <tr>\n",
       "      <th>httpsdiscordggdnztpuh</th>\n",
       "      <td>1</td>\n",
       "      <td>0.000008</td>\n",
       "      <td>0.000115</td>\n",
       "    </tr>\n",
       "  </tbody>\n",
       "</table>\n",
       "<p>4005 rows × 3 columns</p>\n",
       "</div>"
      ],
      "text/plain": [
       "                       raw_count  frequency  augmented_frequency\n",
       "method                      8674   0.065466             1.000000\n",
       "card                        3134   0.023654             0.361310\n",
       "test                        2250   0.016982             0.259396\n",
       "use                         2098   0.015834             0.241872\n",
       "line                        1860   0.014038             0.214434\n",
       "...                          ...        ...                  ...\n",
       "recusada                       1   0.000008             0.000115\n",
       "analisada                      1   0.000008             0.000115\n",
       "adicionada                     1   0.000008             0.000115\n",
       "futuro                         1   0.000008             0.000115\n",
       "httpsdiscordggdnztpuh          1   0.000008             0.000115\n",
       "\n",
       "[4005 rows x 3 columns]"
      ]
     },
     "execution_count": 41,
     "metadata": {},
     "output_type": "execute_result"
    }
   ],
   "source": [
    "stem_words_df"
   ]
  },
  {
   "cell_type": "markdown",
   "id": "2c97a435-0dda-4dc5-91f2-4ea8515e31a8",
   "metadata": {},
   "source": [
    "#### Inverse Document Frequency (IDF)"
   ]
  },
  {
   "cell_type": "code",
   "execution_count": 42,
   "id": "7bde291f-825c-430b-9f35-8ddf0dfc22b2",
   "metadata": {},
   "outputs": [
    {
     "data": {
      "text/plain": [
       "\"\\ndef idf(word, df):\\n    n_occurences = sum([1 for doc in df if word in doc])\\n    return len(df) / n_occurences\\n\\n# Get a list of the unique words\\nunique_words = pd.Series(list_of_stem_words).unique()\\n\\n# put the unique words into a data frame\\n(pd.DataFrame(dict(word=unique_words))\\n # calculate the idf for each word\\n .assign(idf=lambda df: df.word.apply(idf))\\n # sort the data for presentation purposes\\n .set_index('word')\\n .sort_values(by='idf', ascending=False)\\n .head(5))\\n \""
      ]
     },
     "execution_count": 42,
     "metadata": {},
     "output_type": "execute_result"
    }
   ],
   "source": [
    "\"\"\"\n",
    "def idf(word, df):\n",
    "    n_occurences = sum([1 for doc in df if word in doc])\n",
    "    return len(df) / n_occurences\n",
    "\n",
    "# Get a list of the unique words\n",
    "unique_words = pd.Series(list_of_stem_words).unique()\n",
    "\n",
    "# put the unique words into a data frame\n",
    "(pd.DataFrame(dict(word=unique_words))\n",
    " # calculate the idf for each word\n",
    " .assign(idf=lambda df: df.word.apply(idf))\n",
    " # sort the data for presentation purposes\n",
    " .set_index('word')\n",
    " .sort_values(by='idf', ascending=False)\n",
    " .head(5))\n",
    " \"\"\""
   ]
  },
  {
   "cell_type": "markdown",
   "id": "724eb81a-3744-4eca-a666-b7b6f690f129",
   "metadata": {},
   "source": [
    "#### SKlearn Stem"
   ]
  },
  {
   "cell_type": "code",
   "execution_count": 43,
   "id": "8120132b-e444-420c-abe2-cfed91e17408",
   "metadata": {},
   "outputs": [
    {
     "data": {
      "text/plain": [
       "<132496x3979 sparse matrix of type '<class 'numpy.float64'>'\n",
       "\twith 130058 stored elements in Compressed Sparse Row format>"
      ]
     },
     "execution_count": 43,
     "metadata": {},
     "output_type": "execute_result"
    }
   ],
   "source": [
    "tfidf_s = TfidfVectorizer()\n",
    "tfidf_stem = tfidf_s.fit_transform(list_of_stem_words)\n",
    "tfidf_stem"
   ]
  },
  {
   "cell_type": "code",
   "execution_count": 44,
   "id": "26428d48-f504-4fb0-bdec-c49e8dbfdfca",
   "metadata": {},
   "outputs": [
    {
     "name": "stderr",
     "output_type": "stream",
     "text": [
      "/Users/joshholt/opt/anaconda3/lib/python3.9/site-packages/sklearn/utils/deprecation.py:87: FutureWarning: Function get_feature_names is deprecated; get_feature_names is deprecated in 1.0 and will be removed in 1.2. Please use get_feature_names_out instead.\n",
      "  warnings.warn(msg, category=FutureWarning)\n"
     ]
    },
    {
     "data": {
      "text/html": [
       "<div>\n",
       "<style scoped>\n",
       "    .dataframe tbody tr th:only-of-type {\n",
       "        vertical-align: middle;\n",
       "    }\n",
       "\n",
       "    .dataframe tbody tr th {\n",
       "        vertical-align: top;\n",
       "    }\n",
       "\n",
       "    .dataframe thead th {\n",
       "        text-align: right;\n",
       "    }\n",
       "</style>\n",
       "<table border=\"1\" class=\"dataframe\">\n",
       "  <thead>\n",
       "    <tr style=\"text-align: right;\">\n",
       "      <th></th>\n",
       "      <th>00</th>\n",
       "      <th>000</th>\n",
       "      <th>001</th>\n",
       "      <th>010</th>\n",
       "      <th>015</th>\n",
       "      <th>02</th>\n",
       "      <th>021101301</th>\n",
       "      <th>03</th>\n",
       "      <th>04</th>\n",
       "      <th>073</th>\n",
       "      <th>...</th>\n",
       "      <th>youaposl</th>\n",
       "      <th>youd</th>\n",
       "      <th>youll</th>\n",
       "      <th>yourtoken</th>\n",
       "      <th>youtub</th>\n",
       "      <th>youv</th>\n",
       "      <th>yum</th>\n",
       "      <th>zero</th>\n",
       "      <th>zerodepend</th>\n",
       "      <th>zuza</th>\n",
       "    </tr>\n",
       "  </thead>\n",
       "  <tbody>\n",
       "    <tr>\n",
       "      <th>0</th>\n",
       "      <td>0.0</td>\n",
       "      <td>0.0</td>\n",
       "      <td>0.0</td>\n",
       "      <td>0.0</td>\n",
       "      <td>0.0</td>\n",
       "      <td>0.0</td>\n",
       "      <td>0.0</td>\n",
       "      <td>0.0</td>\n",
       "      <td>0.0</td>\n",
       "      <td>0.0</td>\n",
       "      <td>...</td>\n",
       "      <td>0.0</td>\n",
       "      <td>0.0</td>\n",
       "      <td>0.0</td>\n",
       "      <td>0.0</td>\n",
       "      <td>0.0</td>\n",
       "      <td>0.0</td>\n",
       "      <td>0.0</td>\n",
       "      <td>0.0</td>\n",
       "      <td>0.0</td>\n",
       "      <td>0.0</td>\n",
       "    </tr>\n",
       "    <tr>\n",
       "      <th>1</th>\n",
       "      <td>0.0</td>\n",
       "      <td>0.0</td>\n",
       "      <td>0.0</td>\n",
       "      <td>0.0</td>\n",
       "      <td>0.0</td>\n",
       "      <td>0.0</td>\n",
       "      <td>0.0</td>\n",
       "      <td>0.0</td>\n",
       "      <td>0.0</td>\n",
       "      <td>0.0</td>\n",
       "      <td>...</td>\n",
       "      <td>0.0</td>\n",
       "      <td>0.0</td>\n",
       "      <td>0.0</td>\n",
       "      <td>0.0</td>\n",
       "      <td>0.0</td>\n",
       "      <td>0.0</td>\n",
       "      <td>0.0</td>\n",
       "      <td>0.0</td>\n",
       "      <td>0.0</td>\n",
       "      <td>0.0</td>\n",
       "    </tr>\n",
       "    <tr>\n",
       "      <th>2</th>\n",
       "      <td>0.0</td>\n",
       "      <td>0.0</td>\n",
       "      <td>0.0</td>\n",
       "      <td>0.0</td>\n",
       "      <td>0.0</td>\n",
       "      <td>0.0</td>\n",
       "      <td>0.0</td>\n",
       "      <td>0.0</td>\n",
       "      <td>0.0</td>\n",
       "      <td>0.0</td>\n",
       "      <td>...</td>\n",
       "      <td>0.0</td>\n",
       "      <td>0.0</td>\n",
       "      <td>0.0</td>\n",
       "      <td>0.0</td>\n",
       "      <td>0.0</td>\n",
       "      <td>0.0</td>\n",
       "      <td>0.0</td>\n",
       "      <td>0.0</td>\n",
       "      <td>0.0</td>\n",
       "      <td>0.0</td>\n",
       "    </tr>\n",
       "    <tr>\n",
       "      <th>3</th>\n",
       "      <td>0.0</td>\n",
       "      <td>0.0</td>\n",
       "      <td>0.0</td>\n",
       "      <td>0.0</td>\n",
       "      <td>0.0</td>\n",
       "      <td>0.0</td>\n",
       "      <td>0.0</td>\n",
       "      <td>0.0</td>\n",
       "      <td>0.0</td>\n",
       "      <td>0.0</td>\n",
       "      <td>...</td>\n",
       "      <td>0.0</td>\n",
       "      <td>0.0</td>\n",
       "      <td>0.0</td>\n",
       "      <td>0.0</td>\n",
       "      <td>0.0</td>\n",
       "      <td>0.0</td>\n",
       "      <td>0.0</td>\n",
       "      <td>0.0</td>\n",
       "      <td>0.0</td>\n",
       "      <td>0.0</td>\n",
       "    </tr>\n",
       "    <tr>\n",
       "      <th>4</th>\n",
       "      <td>0.0</td>\n",
       "      <td>0.0</td>\n",
       "      <td>0.0</td>\n",
       "      <td>0.0</td>\n",
       "      <td>0.0</td>\n",
       "      <td>0.0</td>\n",
       "      <td>0.0</td>\n",
       "      <td>0.0</td>\n",
       "      <td>0.0</td>\n",
       "      <td>0.0</td>\n",
       "      <td>...</td>\n",
       "      <td>0.0</td>\n",
       "      <td>0.0</td>\n",
       "      <td>0.0</td>\n",
       "      <td>0.0</td>\n",
       "      <td>0.0</td>\n",
       "      <td>0.0</td>\n",
       "      <td>0.0</td>\n",
       "      <td>0.0</td>\n",
       "      <td>0.0</td>\n",
       "      <td>0.0</td>\n",
       "    </tr>\n",
       "    <tr>\n",
       "      <th>...</th>\n",
       "      <td>...</td>\n",
       "      <td>...</td>\n",
       "      <td>...</td>\n",
       "      <td>...</td>\n",
       "      <td>...</td>\n",
       "      <td>...</td>\n",
       "      <td>...</td>\n",
       "      <td>...</td>\n",
       "      <td>...</td>\n",
       "      <td>...</td>\n",
       "      <td>...</td>\n",
       "      <td>...</td>\n",
       "      <td>...</td>\n",
       "      <td>...</td>\n",
       "      <td>...</td>\n",
       "      <td>...</td>\n",
       "      <td>...</td>\n",
       "      <td>...</td>\n",
       "      <td>...</td>\n",
       "      <td>...</td>\n",
       "      <td>...</td>\n",
       "    </tr>\n",
       "    <tr>\n",
       "      <th>132491</th>\n",
       "      <td>0.0</td>\n",
       "      <td>0.0</td>\n",
       "      <td>0.0</td>\n",
       "      <td>0.0</td>\n",
       "      <td>0.0</td>\n",
       "      <td>0.0</td>\n",
       "      <td>0.0</td>\n",
       "      <td>0.0</td>\n",
       "      <td>0.0</td>\n",
       "      <td>0.0</td>\n",
       "      <td>...</td>\n",
       "      <td>0.0</td>\n",
       "      <td>0.0</td>\n",
       "      <td>0.0</td>\n",
       "      <td>0.0</td>\n",
       "      <td>0.0</td>\n",
       "      <td>0.0</td>\n",
       "      <td>0.0</td>\n",
       "      <td>0.0</td>\n",
       "      <td>0.0</td>\n",
       "      <td>0.0</td>\n",
       "    </tr>\n",
       "    <tr>\n",
       "      <th>132492</th>\n",
       "      <td>0.0</td>\n",
       "      <td>0.0</td>\n",
       "      <td>0.0</td>\n",
       "      <td>0.0</td>\n",
       "      <td>0.0</td>\n",
       "      <td>0.0</td>\n",
       "      <td>0.0</td>\n",
       "      <td>0.0</td>\n",
       "      <td>0.0</td>\n",
       "      <td>0.0</td>\n",
       "      <td>...</td>\n",
       "      <td>0.0</td>\n",
       "      <td>0.0</td>\n",
       "      <td>0.0</td>\n",
       "      <td>0.0</td>\n",
       "      <td>0.0</td>\n",
       "      <td>0.0</td>\n",
       "      <td>0.0</td>\n",
       "      <td>0.0</td>\n",
       "      <td>0.0</td>\n",
       "      <td>0.0</td>\n",
       "    </tr>\n",
       "    <tr>\n",
       "      <th>132493</th>\n",
       "      <td>0.0</td>\n",
       "      <td>0.0</td>\n",
       "      <td>0.0</td>\n",
       "      <td>0.0</td>\n",
       "      <td>0.0</td>\n",
       "      <td>0.0</td>\n",
       "      <td>0.0</td>\n",
       "      <td>0.0</td>\n",
       "      <td>0.0</td>\n",
       "      <td>0.0</td>\n",
       "      <td>...</td>\n",
       "      <td>0.0</td>\n",
       "      <td>0.0</td>\n",
       "      <td>0.0</td>\n",
       "      <td>0.0</td>\n",
       "      <td>0.0</td>\n",
       "      <td>0.0</td>\n",
       "      <td>0.0</td>\n",
       "      <td>0.0</td>\n",
       "      <td>0.0</td>\n",
       "      <td>0.0</td>\n",
       "    </tr>\n",
       "    <tr>\n",
       "      <th>132494</th>\n",
       "      <td>0.0</td>\n",
       "      <td>0.0</td>\n",
       "      <td>0.0</td>\n",
       "      <td>0.0</td>\n",
       "      <td>0.0</td>\n",
       "      <td>0.0</td>\n",
       "      <td>0.0</td>\n",
       "      <td>0.0</td>\n",
       "      <td>0.0</td>\n",
       "      <td>0.0</td>\n",
       "      <td>...</td>\n",
       "      <td>0.0</td>\n",
       "      <td>0.0</td>\n",
       "      <td>0.0</td>\n",
       "      <td>0.0</td>\n",
       "      <td>0.0</td>\n",
       "      <td>0.0</td>\n",
       "      <td>0.0</td>\n",
       "      <td>0.0</td>\n",
       "      <td>0.0</td>\n",
       "      <td>0.0</td>\n",
       "    </tr>\n",
       "    <tr>\n",
       "      <th>132495</th>\n",
       "      <td>0.0</td>\n",
       "      <td>0.0</td>\n",
       "      <td>0.0</td>\n",
       "      <td>0.0</td>\n",
       "      <td>0.0</td>\n",
       "      <td>0.0</td>\n",
       "      <td>0.0</td>\n",
       "      <td>0.0</td>\n",
       "      <td>0.0</td>\n",
       "      <td>0.0</td>\n",
       "      <td>...</td>\n",
       "      <td>0.0</td>\n",
       "      <td>0.0</td>\n",
       "      <td>0.0</td>\n",
       "      <td>0.0</td>\n",
       "      <td>0.0</td>\n",
       "      <td>0.0</td>\n",
       "      <td>0.0</td>\n",
       "      <td>0.0</td>\n",
       "      <td>0.0</td>\n",
       "      <td>0.0</td>\n",
       "    </tr>\n",
       "  </tbody>\n",
       "</table>\n",
       "<p>132496 rows × 3979 columns</p>\n",
       "</div>"
      ],
      "text/plain": [
       "         00  000  001  010  015   02  021101301   03   04  073  ...  youaposl  \\\n",
       "0       0.0  0.0  0.0  0.0  0.0  0.0        0.0  0.0  0.0  0.0  ...       0.0   \n",
       "1       0.0  0.0  0.0  0.0  0.0  0.0        0.0  0.0  0.0  0.0  ...       0.0   \n",
       "2       0.0  0.0  0.0  0.0  0.0  0.0        0.0  0.0  0.0  0.0  ...       0.0   \n",
       "3       0.0  0.0  0.0  0.0  0.0  0.0        0.0  0.0  0.0  0.0  ...       0.0   \n",
       "4       0.0  0.0  0.0  0.0  0.0  0.0        0.0  0.0  0.0  0.0  ...       0.0   \n",
       "...     ...  ...  ...  ...  ...  ...        ...  ...  ...  ...  ...       ...   \n",
       "132491  0.0  0.0  0.0  0.0  0.0  0.0        0.0  0.0  0.0  0.0  ...       0.0   \n",
       "132492  0.0  0.0  0.0  0.0  0.0  0.0        0.0  0.0  0.0  0.0  ...       0.0   \n",
       "132493  0.0  0.0  0.0  0.0  0.0  0.0        0.0  0.0  0.0  0.0  ...       0.0   \n",
       "132494  0.0  0.0  0.0  0.0  0.0  0.0        0.0  0.0  0.0  0.0  ...       0.0   \n",
       "132495  0.0  0.0  0.0  0.0  0.0  0.0        0.0  0.0  0.0  0.0  ...       0.0   \n",
       "\n",
       "        youd  youll  yourtoken  youtub  youv  yum  zero  zerodepend  zuza  \n",
       "0        0.0    0.0        0.0     0.0   0.0  0.0   0.0         0.0   0.0  \n",
       "1        0.0    0.0        0.0     0.0   0.0  0.0   0.0         0.0   0.0  \n",
       "2        0.0    0.0        0.0     0.0   0.0  0.0   0.0         0.0   0.0  \n",
       "3        0.0    0.0        0.0     0.0   0.0  0.0   0.0         0.0   0.0  \n",
       "4        0.0    0.0        0.0     0.0   0.0  0.0   0.0         0.0   0.0  \n",
       "...      ...    ...        ...     ...   ...  ...   ...         ...   ...  \n",
       "132491   0.0    0.0        0.0     0.0   0.0  0.0   0.0         0.0   0.0  \n",
       "132492   0.0    0.0        0.0     0.0   0.0  0.0   0.0         0.0   0.0  \n",
       "132493   0.0    0.0        0.0     0.0   0.0  0.0   0.0         0.0   0.0  \n",
       "132494   0.0    0.0        0.0     0.0   0.0  0.0   0.0         0.0   0.0  \n",
       "132495   0.0    0.0        0.0     0.0   0.0  0.0   0.0         0.0   0.0  \n",
       "\n",
       "[132496 rows x 3979 columns]"
      ]
     },
     "execution_count": 44,
     "metadata": {},
     "output_type": "execute_result"
    }
   ],
   "source": [
    "pd.DataFrame(tfidf_stem.todense(), columns=tfidf_s.get_feature_names())"
   ]
  },
  {
   "cell_type": "markdown",
   "id": "c23bb519-b3ec-4a05-a0de-755701287077",
   "metadata": {},
   "source": [
    "### Modeling on Lemm"
   ]
  },
  {
   "cell_type": "markdown",
   "id": "f1b2ddf7-b503-4b31-a9cc-d10f142bcda9",
   "metadata": {},
   "source": [
    "#### Term Frequency"
   ]
  },
  {
   "cell_type": "code",
   "execution_count": 45,
   "id": "bbc66a99-19de-4d2e-ba4c-1c8cd3c4df0a",
   "metadata": {},
   "outputs": [],
   "source": [
    "#Work on train['readme_lemm_no_swords']"
   ]
  },
  {
   "cell_type": "code",
   "execution_count": 46,
   "id": "521d41bd-11d2-4af5-84cb-709e6e4b618a",
   "metadata": {},
   "outputs": [],
   "source": [
    "list_of_lemm_words = []\n",
    "#words = pd.Series(document.split())\n",
    "for item in train['readme_lemm_no_swords']:\n",
    "    list_of_lemm_words.extend(item.split(' '))"
   ]
  },
  {
   "cell_type": "code",
   "execution_count": 47,
   "id": "3bab8185-9530-4237-b71e-8c5d9ced5a2e",
   "metadata": {},
   "outputs": [],
   "source": [
    "lemm_series = pd.Series(list_of_lemm_words)"
   ]
  },
  {
   "cell_type": "code",
   "execution_count": 48,
   "id": "aeee7f05-e7d4-4c26-b0b1-164460eba3cc",
   "metadata": {},
   "outputs": [],
   "source": [
    "lemm_words_df = (pd.DataFrame({'raw_count': lemm_series.value_counts()})\n",
    " .assign(frequency=lambda df: df.raw_count / df.raw_count.sum())\n",
    " .assign(augmented_frequency=lambda df: df.frequency / df.frequency.max()))"
   ]
  },
  {
   "cell_type": "code",
   "execution_count": 49,
   "id": "11a14b62-f2d6-4374-9134-4d2e3447579d",
   "metadata": {},
   "outputs": [
    {
     "data": {
      "text/html": [
       "<div>\n",
       "<style scoped>\n",
       "    .dataframe tbody tr th:only-of-type {\n",
       "        vertical-align: middle;\n",
       "    }\n",
       "\n",
       "    .dataframe tbody tr th {\n",
       "        vertical-align: top;\n",
       "    }\n",
       "\n",
       "    .dataframe thead th {\n",
       "        text-align: right;\n",
       "    }\n",
       "</style>\n",
       "<table border=\"1\" class=\"dataframe\">\n",
       "  <thead>\n",
       "    <tr style=\"text-align: right;\">\n",
       "      <th></th>\n",
       "      <th>raw_count</th>\n",
       "      <th>frequency</th>\n",
       "      <th>augmented_frequency</th>\n",
       "    </tr>\n",
       "  </thead>\n",
       "  <tbody>\n",
       "    <tr>\n",
       "      <th>method</th>\n",
       "      <td>8674</td>\n",
       "      <td>0.065969</td>\n",
       "      <td>1.000000</td>\n",
       "    </tr>\n",
       "    <tr>\n",
       "      <th>card</th>\n",
       "      <td>3134</td>\n",
       "      <td>0.023835</td>\n",
       "      <td>0.361310</td>\n",
       "    </tr>\n",
       "    <tr>\n",
       "      <th>test</th>\n",
       "      <td>2115</td>\n",
       "      <td>0.016085</td>\n",
       "      <td>0.243832</td>\n",
       "    </tr>\n",
       "    <tr>\n",
       "      <th>line</th>\n",
       "      <td>1860</td>\n",
       "      <td>0.014146</td>\n",
       "      <td>0.214434</td>\n",
       "    </tr>\n",
       "    <tr>\n",
       "      <th>put</th>\n",
       "      <td>1830</td>\n",
       "      <td>0.013918</td>\n",
       "      <td>0.210975</td>\n",
       "    </tr>\n",
       "    <tr>\n",
       "      <th>...</th>\n",
       "      <td>...</td>\n",
       "      <td>...</td>\n",
       "      <td>...</td>\n",
       "    </tr>\n",
       "    <tr>\n",
       "      <th>cuidado</th>\n",
       "      <td>1</td>\n",
       "      <td>0.000008</td>\n",
       "      <td>0.000115</td>\n",
       "    </tr>\n",
       "    <tr>\n",
       "      <th>extremo</th>\n",
       "      <td>1</td>\n",
       "      <td>0.000008</td>\n",
       "      <td>0.000115</td>\n",
       "    </tr>\n",
       "    <tr>\n",
       "      <th>optar</th>\n",
       "      <td>1</td>\n",
       "      <td>0.000008</td>\n",
       "      <td>0.000115</td>\n",
       "    </tr>\n",
       "    <tr>\n",
       "      <th>uso</th>\n",
       "      <td>1</td>\n",
       "      <td>0.000008</td>\n",
       "      <td>0.000115</td>\n",
       "    </tr>\n",
       "    <tr>\n",
       "      <th>httpsdiscordggdnztpuh</th>\n",
       "      <td>1</td>\n",
       "      <td>0.000008</td>\n",
       "      <td>0.000115</td>\n",
       "    </tr>\n",
       "  </tbody>\n",
       "</table>\n",
       "<p>4691 rows × 3 columns</p>\n",
       "</div>"
      ],
      "text/plain": [
       "                       raw_count  frequency  augmented_frequency\n",
       "method                      8674   0.065969             1.000000\n",
       "card                        3134   0.023835             0.361310\n",
       "test                        2115   0.016085             0.243832\n",
       "line                        1860   0.014146             0.214434\n",
       "put                         1830   0.013918             0.210975\n",
       "...                          ...        ...                  ...\n",
       "cuidado                        1   0.000008             0.000115\n",
       "extremo                        1   0.000008             0.000115\n",
       "optar                          1   0.000008             0.000115\n",
       "uso                            1   0.000008             0.000115\n",
       "httpsdiscordggdnztpuh          1   0.000008             0.000115\n",
       "\n",
       "[4691 rows x 3 columns]"
      ]
     },
     "execution_count": 49,
     "metadata": {},
     "output_type": "execute_result"
    }
   ],
   "source": [
    "lemm_words_df"
   ]
  },
  {
   "cell_type": "markdown",
   "id": "3c236f2e-58f2-445a-9ced-339dd7587ffe",
   "metadata": {},
   "source": [
    "#### Inverse Document Frequency (IDF)"
   ]
  },
  {
   "cell_type": "markdown",
   "id": "777d14ea-5756-4b80-8a82-54bc30c4e59c",
   "metadata": {},
   "source": [
    "#### SKlearn Lemm"
   ]
  },
  {
   "cell_type": "code",
   "execution_count": 50,
   "id": "b9cbbd07-350e-400b-8efc-00c08d422ff8",
   "metadata": {},
   "outputs": [
    {
     "data": {
      "text/plain": [
       "<131486x4665 sparse matrix of type '<class 'numpy.float64'>'\n",
       "\twith 128827 stored elements in Compressed Sparse Row format>"
      ]
     },
     "execution_count": 50,
     "metadata": {},
     "output_type": "execute_result"
    }
   ],
   "source": [
    "tfidf_l = TfidfVectorizer()\n",
    "tfidf_lemm = tfidf_l.fit_transform(list_of_lemm_words)\n",
    "tfidf_lemm"
   ]
  },
  {
   "cell_type": "code",
   "execution_count": 51,
   "id": "d9d7ead5-0499-4d8d-889e-e64b0e07e154",
   "metadata": {},
   "outputs": [
    {
     "name": "stderr",
     "output_type": "stream",
     "text": [
      "/Users/joshholt/opt/anaconda3/lib/python3.9/site-packages/sklearn/utils/deprecation.py:87: FutureWarning: Function get_feature_names is deprecated; get_feature_names is deprecated in 1.0 and will be removed in 1.2. Please use get_feature_names_out instead.\n",
      "  warnings.warn(msg, category=FutureWarning)\n"
     ]
    },
    {
     "data": {
      "text/html": [
       "<div>\n",
       "<style scoped>\n",
       "    .dataframe tbody tr th:only-of-type {\n",
       "        vertical-align: middle;\n",
       "    }\n",
       "\n",
       "    .dataframe tbody tr th {\n",
       "        vertical-align: top;\n",
       "    }\n",
       "\n",
       "    .dataframe thead th {\n",
       "        text-align: right;\n",
       "    }\n",
       "</style>\n",
       "<table border=\"1\" class=\"dataframe\">\n",
       "  <thead>\n",
       "    <tr style=\"text-align: right;\">\n",
       "      <th></th>\n",
       "      <th>00</th>\n",
       "      <th>000</th>\n",
       "      <th>001</th>\n",
       "      <th>010</th>\n",
       "      <th>015</th>\n",
       "      <th>02</th>\n",
       "      <th>021101301</th>\n",
       "      <th>03</th>\n",
       "      <th>04</th>\n",
       "      <th>073</th>\n",
       "      <th>...</th>\n",
       "      <th>youd</th>\n",
       "      <th>youll</th>\n",
       "      <th>youre</th>\n",
       "      <th>yourtoken</th>\n",
       "      <th>youtube</th>\n",
       "      <th>youve</th>\n",
       "      <th>yum</th>\n",
       "      <th>zero</th>\n",
       "      <th>zerodependencies</th>\n",
       "      <th>zuza</th>\n",
       "    </tr>\n",
       "  </thead>\n",
       "  <tbody>\n",
       "    <tr>\n",
       "      <th>0</th>\n",
       "      <td>0.0</td>\n",
       "      <td>0.0</td>\n",
       "      <td>0.0</td>\n",
       "      <td>0.0</td>\n",
       "      <td>0.0</td>\n",
       "      <td>0.0</td>\n",
       "      <td>0.0</td>\n",
       "      <td>0.0</td>\n",
       "      <td>0.0</td>\n",
       "      <td>0.0</td>\n",
       "      <td>...</td>\n",
       "      <td>0.0</td>\n",
       "      <td>0.0</td>\n",
       "      <td>0.0</td>\n",
       "      <td>0.0</td>\n",
       "      <td>0.0</td>\n",
       "      <td>0.0</td>\n",
       "      <td>0.0</td>\n",
       "      <td>0.0</td>\n",
       "      <td>0.0</td>\n",
       "      <td>0.0</td>\n",
       "    </tr>\n",
       "    <tr>\n",
       "      <th>1</th>\n",
       "      <td>0.0</td>\n",
       "      <td>0.0</td>\n",
       "      <td>0.0</td>\n",
       "      <td>0.0</td>\n",
       "      <td>0.0</td>\n",
       "      <td>0.0</td>\n",
       "      <td>0.0</td>\n",
       "      <td>0.0</td>\n",
       "      <td>0.0</td>\n",
       "      <td>0.0</td>\n",
       "      <td>...</td>\n",
       "      <td>0.0</td>\n",
       "      <td>0.0</td>\n",
       "      <td>0.0</td>\n",
       "      <td>0.0</td>\n",
       "      <td>0.0</td>\n",
       "      <td>0.0</td>\n",
       "      <td>0.0</td>\n",
       "      <td>0.0</td>\n",
       "      <td>0.0</td>\n",
       "      <td>0.0</td>\n",
       "    </tr>\n",
       "    <tr>\n",
       "      <th>2</th>\n",
       "      <td>0.0</td>\n",
       "      <td>0.0</td>\n",
       "      <td>0.0</td>\n",
       "      <td>0.0</td>\n",
       "      <td>0.0</td>\n",
       "      <td>0.0</td>\n",
       "      <td>0.0</td>\n",
       "      <td>0.0</td>\n",
       "      <td>0.0</td>\n",
       "      <td>0.0</td>\n",
       "      <td>...</td>\n",
       "      <td>0.0</td>\n",
       "      <td>0.0</td>\n",
       "      <td>0.0</td>\n",
       "      <td>0.0</td>\n",
       "      <td>0.0</td>\n",
       "      <td>0.0</td>\n",
       "      <td>0.0</td>\n",
       "      <td>0.0</td>\n",
       "      <td>0.0</td>\n",
       "      <td>0.0</td>\n",
       "    </tr>\n",
       "    <tr>\n",
       "      <th>3</th>\n",
       "      <td>0.0</td>\n",
       "      <td>0.0</td>\n",
       "      <td>0.0</td>\n",
       "      <td>0.0</td>\n",
       "      <td>0.0</td>\n",
       "      <td>0.0</td>\n",
       "      <td>0.0</td>\n",
       "      <td>0.0</td>\n",
       "      <td>0.0</td>\n",
       "      <td>0.0</td>\n",
       "      <td>...</td>\n",
       "      <td>0.0</td>\n",
       "      <td>0.0</td>\n",
       "      <td>0.0</td>\n",
       "      <td>0.0</td>\n",
       "      <td>0.0</td>\n",
       "      <td>0.0</td>\n",
       "      <td>0.0</td>\n",
       "      <td>0.0</td>\n",
       "      <td>0.0</td>\n",
       "      <td>0.0</td>\n",
       "    </tr>\n",
       "    <tr>\n",
       "      <th>4</th>\n",
       "      <td>0.0</td>\n",
       "      <td>0.0</td>\n",
       "      <td>0.0</td>\n",
       "      <td>0.0</td>\n",
       "      <td>0.0</td>\n",
       "      <td>0.0</td>\n",
       "      <td>0.0</td>\n",
       "      <td>0.0</td>\n",
       "      <td>0.0</td>\n",
       "      <td>0.0</td>\n",
       "      <td>...</td>\n",
       "      <td>0.0</td>\n",
       "      <td>0.0</td>\n",
       "      <td>0.0</td>\n",
       "      <td>0.0</td>\n",
       "      <td>0.0</td>\n",
       "      <td>0.0</td>\n",
       "      <td>0.0</td>\n",
       "      <td>0.0</td>\n",
       "      <td>0.0</td>\n",
       "      <td>0.0</td>\n",
       "    </tr>\n",
       "    <tr>\n",
       "      <th>...</th>\n",
       "      <td>...</td>\n",
       "      <td>...</td>\n",
       "      <td>...</td>\n",
       "      <td>...</td>\n",
       "      <td>...</td>\n",
       "      <td>...</td>\n",
       "      <td>...</td>\n",
       "      <td>...</td>\n",
       "      <td>...</td>\n",
       "      <td>...</td>\n",
       "      <td>...</td>\n",
       "      <td>...</td>\n",
       "      <td>...</td>\n",
       "      <td>...</td>\n",
       "      <td>...</td>\n",
       "      <td>...</td>\n",
       "      <td>...</td>\n",
       "      <td>...</td>\n",
       "      <td>...</td>\n",
       "      <td>...</td>\n",
       "      <td>...</td>\n",
       "    </tr>\n",
       "    <tr>\n",
       "      <th>131481</th>\n",
       "      <td>0.0</td>\n",
       "      <td>0.0</td>\n",
       "      <td>0.0</td>\n",
       "      <td>0.0</td>\n",
       "      <td>0.0</td>\n",
       "      <td>0.0</td>\n",
       "      <td>0.0</td>\n",
       "      <td>0.0</td>\n",
       "      <td>0.0</td>\n",
       "      <td>0.0</td>\n",
       "      <td>...</td>\n",
       "      <td>0.0</td>\n",
       "      <td>0.0</td>\n",
       "      <td>0.0</td>\n",
       "      <td>0.0</td>\n",
       "      <td>0.0</td>\n",
       "      <td>0.0</td>\n",
       "      <td>0.0</td>\n",
       "      <td>0.0</td>\n",
       "      <td>0.0</td>\n",
       "      <td>0.0</td>\n",
       "    </tr>\n",
       "    <tr>\n",
       "      <th>131482</th>\n",
       "      <td>0.0</td>\n",
       "      <td>0.0</td>\n",
       "      <td>0.0</td>\n",
       "      <td>0.0</td>\n",
       "      <td>0.0</td>\n",
       "      <td>0.0</td>\n",
       "      <td>0.0</td>\n",
       "      <td>0.0</td>\n",
       "      <td>0.0</td>\n",
       "      <td>0.0</td>\n",
       "      <td>...</td>\n",
       "      <td>0.0</td>\n",
       "      <td>0.0</td>\n",
       "      <td>0.0</td>\n",
       "      <td>0.0</td>\n",
       "      <td>0.0</td>\n",
       "      <td>0.0</td>\n",
       "      <td>0.0</td>\n",
       "      <td>0.0</td>\n",
       "      <td>0.0</td>\n",
       "      <td>0.0</td>\n",
       "    </tr>\n",
       "    <tr>\n",
       "      <th>131483</th>\n",
       "      <td>0.0</td>\n",
       "      <td>0.0</td>\n",
       "      <td>0.0</td>\n",
       "      <td>0.0</td>\n",
       "      <td>0.0</td>\n",
       "      <td>0.0</td>\n",
       "      <td>0.0</td>\n",
       "      <td>0.0</td>\n",
       "      <td>0.0</td>\n",
       "      <td>0.0</td>\n",
       "      <td>...</td>\n",
       "      <td>0.0</td>\n",
       "      <td>0.0</td>\n",
       "      <td>0.0</td>\n",
       "      <td>0.0</td>\n",
       "      <td>0.0</td>\n",
       "      <td>0.0</td>\n",
       "      <td>0.0</td>\n",
       "      <td>0.0</td>\n",
       "      <td>0.0</td>\n",
       "      <td>0.0</td>\n",
       "    </tr>\n",
       "    <tr>\n",
       "      <th>131484</th>\n",
       "      <td>0.0</td>\n",
       "      <td>0.0</td>\n",
       "      <td>0.0</td>\n",
       "      <td>0.0</td>\n",
       "      <td>0.0</td>\n",
       "      <td>0.0</td>\n",
       "      <td>0.0</td>\n",
       "      <td>0.0</td>\n",
       "      <td>0.0</td>\n",
       "      <td>0.0</td>\n",
       "      <td>...</td>\n",
       "      <td>0.0</td>\n",
       "      <td>0.0</td>\n",
       "      <td>0.0</td>\n",
       "      <td>0.0</td>\n",
       "      <td>0.0</td>\n",
       "      <td>0.0</td>\n",
       "      <td>0.0</td>\n",
       "      <td>0.0</td>\n",
       "      <td>0.0</td>\n",
       "      <td>0.0</td>\n",
       "    </tr>\n",
       "    <tr>\n",
       "      <th>131485</th>\n",
       "      <td>0.0</td>\n",
       "      <td>0.0</td>\n",
       "      <td>0.0</td>\n",
       "      <td>0.0</td>\n",
       "      <td>0.0</td>\n",
       "      <td>0.0</td>\n",
       "      <td>0.0</td>\n",
       "      <td>0.0</td>\n",
       "      <td>0.0</td>\n",
       "      <td>0.0</td>\n",
       "      <td>...</td>\n",
       "      <td>0.0</td>\n",
       "      <td>0.0</td>\n",
       "      <td>0.0</td>\n",
       "      <td>0.0</td>\n",
       "      <td>0.0</td>\n",
       "      <td>0.0</td>\n",
       "      <td>0.0</td>\n",
       "      <td>0.0</td>\n",
       "      <td>0.0</td>\n",
       "      <td>0.0</td>\n",
       "    </tr>\n",
       "  </tbody>\n",
       "</table>\n",
       "<p>131486 rows × 4665 columns</p>\n",
       "</div>"
      ],
      "text/plain": [
       "         00  000  001  010  015   02  021101301   03   04  073  ...  youd  \\\n",
       "0       0.0  0.0  0.0  0.0  0.0  0.0        0.0  0.0  0.0  0.0  ...   0.0   \n",
       "1       0.0  0.0  0.0  0.0  0.0  0.0        0.0  0.0  0.0  0.0  ...   0.0   \n",
       "2       0.0  0.0  0.0  0.0  0.0  0.0        0.0  0.0  0.0  0.0  ...   0.0   \n",
       "3       0.0  0.0  0.0  0.0  0.0  0.0        0.0  0.0  0.0  0.0  ...   0.0   \n",
       "4       0.0  0.0  0.0  0.0  0.0  0.0        0.0  0.0  0.0  0.0  ...   0.0   \n",
       "...     ...  ...  ...  ...  ...  ...        ...  ...  ...  ...  ...   ...   \n",
       "131481  0.0  0.0  0.0  0.0  0.0  0.0        0.0  0.0  0.0  0.0  ...   0.0   \n",
       "131482  0.0  0.0  0.0  0.0  0.0  0.0        0.0  0.0  0.0  0.0  ...   0.0   \n",
       "131483  0.0  0.0  0.0  0.0  0.0  0.0        0.0  0.0  0.0  0.0  ...   0.0   \n",
       "131484  0.0  0.0  0.0  0.0  0.0  0.0        0.0  0.0  0.0  0.0  ...   0.0   \n",
       "131485  0.0  0.0  0.0  0.0  0.0  0.0        0.0  0.0  0.0  0.0  ...   0.0   \n",
       "\n",
       "        youll  youre  yourtoken  youtube  youve  yum  zero  zerodependencies  \\\n",
       "0         0.0    0.0        0.0      0.0    0.0  0.0   0.0               0.0   \n",
       "1         0.0    0.0        0.0      0.0    0.0  0.0   0.0               0.0   \n",
       "2         0.0    0.0        0.0      0.0    0.0  0.0   0.0               0.0   \n",
       "3         0.0    0.0        0.0      0.0    0.0  0.0   0.0               0.0   \n",
       "4         0.0    0.0        0.0      0.0    0.0  0.0   0.0               0.0   \n",
       "...       ...    ...        ...      ...    ...  ...   ...               ...   \n",
       "131481    0.0    0.0        0.0      0.0    0.0  0.0   0.0               0.0   \n",
       "131482    0.0    0.0        0.0      0.0    0.0  0.0   0.0               0.0   \n",
       "131483    0.0    0.0        0.0      0.0    0.0  0.0   0.0               0.0   \n",
       "131484    0.0    0.0        0.0      0.0    0.0  0.0   0.0               0.0   \n",
       "131485    0.0    0.0        0.0      0.0    0.0  0.0   0.0               0.0   \n",
       "\n",
       "        zuza  \n",
       "0        0.0  \n",
       "1        0.0  \n",
       "2        0.0  \n",
       "3        0.0  \n",
       "4        0.0  \n",
       "...      ...  \n",
       "131481   0.0  \n",
       "131482   0.0  \n",
       "131483   0.0  \n",
       "131484   0.0  \n",
       "131485   0.0  \n",
       "\n",
       "[131486 rows x 4665 columns]"
      ]
     },
     "execution_count": 51,
     "metadata": {},
     "output_type": "execute_result"
    }
   ],
   "source": [
    "pd.DataFrame(tfidf_lemm.todense(), columns=tfidf_l.get_feature_names())"
   ]
  },
  {
   "cell_type": "markdown",
   "id": "934f6d5a-a625-483e-b463-2a56f7ec97b1",
   "metadata": {},
   "source": [
    "### Modeling with Logistic Regression Classification"
   ]
  },
  {
   "cell_type": "markdown",
   "id": "7e136f10-b6af-4a01-a757-d2502817a274",
   "metadata": {},
   "source": [
    "#### Stem"
   ]
  },
  {
   "cell_type": "code",
   "execution_count": 52,
   "id": "5ee2632a-4659-43ee-a161-e9478ae57575",
   "metadata": {},
   "outputs": [],
   "source": [
    "target_col = \"language\""
   ]
  },
  {
   "cell_type": "code",
   "execution_count": 53,
   "id": "993ba96d-3259-4acf-949c-9c158026bc35",
   "metadata": {},
   "outputs": [],
   "source": [
    "train_stem = train[['readme_stem_no_swords', 'language']].copy()\n",
    "val_stem = val[['readme_stem_no_swords', 'language']].copy()\n",
    "test_stem = test[['readme_stem_no_swords', 'language']].copy()"
   ]
  },
  {
   "cell_type": "code",
   "execution_count": 54,
   "id": "8a77bcf9-2620-42fb-93a8-31b13c5cd5ba",
   "metadata": {},
   "outputs": [],
   "source": [
    "X_train0, y_train0, X_val0, y_val0, X_test0, y_test0 = train_val_test(train_stem, val_stem, test_stem, target_col)"
   ]
  },
  {
   "cell_type": "code",
   "execution_count": 55,
   "id": "4ec9669a-e17b-4402-aa0c-b34ef3e71e54",
   "metadata": {},
   "outputs": [
    {
     "data": {
      "text/plain": [
       "(200, 1)"
      ]
     },
     "execution_count": 55,
     "metadata": {},
     "output_type": "execute_result"
    }
   ],
   "source": [
    "X_train0.shape"
   ]
  },
  {
   "cell_type": "code",
   "execution_count": 56,
   "id": "f6516542-e24a-46ef-8f64-e04980d271d7",
   "metadata": {},
   "outputs": [
    {
     "data": {
      "text/html": [
       "<div>\n",
       "<style scoped>\n",
       "    .dataframe tbody tr th:only-of-type {\n",
       "        vertical-align: middle;\n",
       "    }\n",
       "\n",
       "    .dataframe tbody tr th {\n",
       "        vertical-align: top;\n",
       "    }\n",
       "\n",
       "    .dataframe thead th {\n",
       "        text-align: right;\n",
       "    }\n",
       "</style>\n",
       "<table border=\"1\" class=\"dataframe\">\n",
       "  <thead>\n",
       "    <tr style=\"text-align: right;\">\n",
       "      <th></th>\n",
       "      <th>readme_stem_no_swords</th>\n",
       "    </tr>\n",
       "  </thead>\n",
       "  <tbody>\n",
       "    <tr>\n",
       "      <th>102</th>\n",
       "      <td>simplifi procedur learn goal util condit logic...</td>\n",
       "    </tr>\n",
       "    <tr>\n",
       "      <th>275</th>\n",
       "      <td>evolutionarynet evolutionarynet artifici intel...</td>\n",
       "    </tr>\n",
       "    <tr>\n",
       "      <th>136</th>\n",
       "      <td>simplifi procedur learn goal util condit logic...</td>\n",
       "    </tr>\n",
       "    <tr>\n",
       "      <th>63</th>\n",
       "      <td>react app card game built react use typescript...</td>\n",
       "    </tr>\n",
       "    <tr>\n",
       "      <th>394</th>\n",
       "      <td>simplifi procedur learn goal util condit logic...</td>\n",
       "    </tr>\n",
       "  </tbody>\n",
       "</table>\n",
       "</div>"
      ],
      "text/plain": [
       "                                 readme_stem_no_swords\n",
       "102  simplifi procedur learn goal util condit logic...\n",
       "275  evolutionarynet evolutionarynet artifici intel...\n",
       "136  simplifi procedur learn goal util condit logic...\n",
       "63   react app card game built react use typescript...\n",
       "394  simplifi procedur learn goal util condit logic..."
      ]
     },
     "execution_count": 56,
     "metadata": {},
     "output_type": "execute_result"
    }
   ],
   "source": [
    "X_train0.head()"
   ]
  },
  {
   "cell_type": "code",
   "execution_count": 57,
   "id": "b8738646-12e7-4c10-91d2-7fae6fc129e1",
   "metadata": {},
   "outputs": [
    {
     "data": {
      "text/plain": [
       "102       Ruby\n",
       "275    C_based\n",
       "136       Ruby\n",
       "63       Other\n",
       "394       Ruby\n",
       "Name: language, dtype: object"
      ]
     },
     "execution_count": 57,
     "metadata": {},
     "output_type": "execute_result"
    }
   ],
   "source": [
    "y_train0.head()"
   ]
  },
  {
   "cell_type": "code",
   "execution_count": 58,
   "id": "6796c9b0-a4da-4042-9e6d-3ce61fb83130",
   "metadata": {},
   "outputs": [
    {
     "data": {
      "text/plain": [
       "102    simplifi procedur learn goal util condit logic...\n",
       "275    evolutionarynet evolutionarynet artifici intel...\n",
       "136    simplifi procedur learn goal util condit logic...\n",
       "63     react app card game built react use typescript...\n",
       "394    simplifi procedur learn goal util condit logic...\n",
       "                             ...                        \n",
       "114    simplifi procedur learn goal util condit logic...\n",
       "361    vinteeum build statushttpstravisciorgguilherme...\n",
       "231    simplifi procedur learn goal util condit logic...\n",
       "12     diamondblackjack hello everyon ive spent past ...\n",
       "168    simpl js html game build use jqueri librari js...\n",
       "Name: readme_stem_no_swords, Length: 200, dtype: object"
      ]
     },
     "execution_count": 58,
     "metadata": {},
     "output_type": "execute_result"
    }
   ],
   "source": [
    "X_train0.readme_stem_no_swords"
   ]
  },
  {
   "cell_type": "code",
   "execution_count": 59,
   "id": "dc646e0a-3dcf-4bb2-bcce-85fe220fdb78",
   "metadata": {},
   "outputs": [],
   "source": [
    "tfidf_s = TfidfVectorizer()\n",
    "X_train0 = tfidf_s.fit_transform(X_train0.readme_stem_no_swords)\n",
    "X_val0 = tfidf_s.transform(X_val0.readme_stem_no_swords)\n",
    "X_test0 = tfidf_s.transform(X_test0.readme_stem_no_swords)"
   ]
  },
  {
   "cell_type": "code",
   "execution_count": 60,
   "id": "bc8c4007-c6bf-4d29-9ee5-0e1717969d4d",
   "metadata": {},
   "outputs": [
    {
     "data": {
      "text/plain": [
       "<200x3979 sparse matrix of type '<class 'numpy.float64'>'\n",
       "\twith 43048 stored elements in Compressed Sparse Row format>"
      ]
     },
     "execution_count": 60,
     "metadata": {},
     "output_type": "execute_result"
    }
   ],
   "source": [
    "X_train0"
   ]
  },
  {
   "cell_type": "code",
   "execution_count": 61,
   "id": "4bc8b66c-444a-4725-bdb8-0d53180df54a",
   "metadata": {},
   "outputs": [
    {
     "data": {
      "text/plain": [
       "(200,)"
      ]
     },
     "execution_count": 61,
     "metadata": {},
     "output_type": "execute_result"
    }
   ],
   "source": [
    "y_train0.shape"
   ]
  },
  {
   "cell_type": "code",
   "execution_count": 62,
   "id": "4bd6b08f-3ef6-45a5-bc27-51ab00315d7e",
   "metadata": {},
   "outputs": [],
   "source": [
    "train_s = pd.DataFrame(dict(actual=y_train0))\n",
    "val_s = pd.DataFrame(dict(actual=y_val0))\n",
    "#test_s = pd.DataFrame(dict(actual=y_test0))"
   ]
  },
  {
   "cell_type": "code",
   "execution_count": 63,
   "id": "9b3c3efa-697c-436f-aab9-9b1049545d5d",
   "metadata": {},
   "outputs": [],
   "source": [
    "lm_s = LogisticRegression().fit(X_train0, y_train0)"
   ]
  },
  {
   "cell_type": "code",
   "execution_count": 64,
   "id": "b2742c57-75e2-48a4-8120-74c5a584b6ff",
   "metadata": {},
   "outputs": [],
   "source": [
    "train_s['predicted'] = lm_s.predict(X_train0)\n",
    "val_s['predicted'] = lm_s.predict(X_val0)\n",
    "#test_s['predicted'] = lm_s.predict(X_test)"
   ]
  },
  {
   "cell_type": "code",
   "execution_count": 65,
   "id": "800dc916-9bd2-41fa-8822-46565dcd2b1c",
   "metadata": {},
   "outputs": [
    {
     "name": "stdout",
     "output_type": "stream",
     "text": [
      "Accuracy: 94.50%\n",
      "---\n",
      "Confusion Matrix\n",
      "actual      C_based  Java  JavaScript  Other  Python  Ruby\n",
      "predicted                                                 \n",
      "C_based          13     0           0      0       0     0\n",
      "Java              2    25           3      2       1     3\n",
      "JavaScript        0     0          19      0       0     0\n",
      "Other             0     0           0     17       0     0\n",
      "Python            0     0           0      0      15     0\n",
      "Ruby              0     0           0      0       0   100\n",
      "---\n",
      "              precision    recall  f1-score   support\n",
      "\n",
      "     C_based       1.00      0.87      0.93        15\n",
      "        Java       0.69      1.00      0.82        25\n",
      "  JavaScript       1.00      0.86      0.93        22\n",
      "       Other       1.00      0.89      0.94        19\n",
      "      Python       1.00      0.94      0.97        16\n",
      "        Ruby       1.00      0.97      0.99       103\n",
      "\n",
      "    accuracy                           0.94       200\n",
      "   macro avg       0.95      0.92      0.93       200\n",
      "weighted avg       0.96      0.94      0.95       200\n",
      "\n"
     ]
    }
   ],
   "source": [
    "print('Accuracy: {:.2%}'.format(accuracy_score(train_s.actual, train_s.predicted)))\n",
    "print('---')\n",
    "print('Confusion Matrix')\n",
    "print(pd.crosstab(train_s.predicted, train_s.actual))\n",
    "print('---')\n",
    "print(classification_report(train_s.actual, train_s.predicted))"
   ]
  },
  {
   "cell_type": "code",
   "execution_count": 66,
   "id": "b80a5edc-5367-463b-969b-e3db02a65c53",
   "metadata": {},
   "outputs": [
    {
     "name": "stdout",
     "output_type": "stream",
     "text": [
      "Accuracy: 67.16%\n",
      "---\n",
      "Confusion Matrix\n",
      "actual      C_based  Java  JavaScript  Other  Python  Ruby\n",
      "predicted                                                 \n",
      "Java              9    15           5      7       7     4\n",
      "JavaScript        0     1           4      6       0     1\n",
      "Other             0     0           3      4       0     0\n",
      "Python            1     0           0      0       4     0\n",
      "Ruby              0     0           0      0       0    63\n",
      "---\n",
      "              precision    recall  f1-score   support\n",
      "\n",
      "     C_based       0.00      0.00      0.00        10\n",
      "        Java       0.32      0.94      0.48        16\n",
      "  JavaScript       0.33      0.33      0.33        12\n",
      "       Other       0.57      0.24      0.33        17\n",
      "      Python       0.80      0.36      0.50        11\n",
      "        Ruby       1.00      0.93      0.96        68\n",
      "\n",
      "    accuracy                           0.67       134\n",
      "   macro avg       0.50      0.47      0.43       134\n",
      "weighted avg       0.71      0.67      0.66       134\n",
      "\n"
     ]
    },
    {
     "name": "stderr",
     "output_type": "stream",
     "text": [
      "/Users/joshholt/opt/anaconda3/lib/python3.9/site-packages/sklearn/metrics/_classification.py:1318: UndefinedMetricWarning: Precision and F-score are ill-defined and being set to 0.0 in labels with no predicted samples. Use `zero_division` parameter to control this behavior.\n",
      "  _warn_prf(average, modifier, msg_start, len(result))\n",
      "/Users/joshholt/opt/anaconda3/lib/python3.9/site-packages/sklearn/metrics/_classification.py:1318: UndefinedMetricWarning: Precision and F-score are ill-defined and being set to 0.0 in labels with no predicted samples. Use `zero_division` parameter to control this behavior.\n",
      "  _warn_prf(average, modifier, msg_start, len(result))\n",
      "/Users/joshholt/opt/anaconda3/lib/python3.9/site-packages/sklearn/metrics/_classification.py:1318: UndefinedMetricWarning: Precision and F-score are ill-defined and being set to 0.0 in labels with no predicted samples. Use `zero_division` parameter to control this behavior.\n",
      "  _warn_prf(average, modifier, msg_start, len(result))\n"
     ]
    }
   ],
   "source": [
    "print('Accuracy: {:.2%}'.format(accuracy_score(val_s.actual, val_s.predicted)))\n",
    "print('---')\n",
    "print('Confusion Matrix')\n",
    "print(pd.crosstab(val_s.predicted, val_s.actual))\n",
    "print('---')\n",
    "print(classification_report(val_s.actual, val_s.predicted))"
   ]
  },
  {
   "cell_type": "markdown",
   "id": "c44f0e99-419f-4d69-af8f-946d2a48b487",
   "metadata": {},
   "source": [
    "#### Lemm"
   ]
  },
  {
   "cell_type": "code",
   "execution_count": 67,
   "id": "b378ad86-dcfd-4e99-b3e5-68d49354de02",
   "metadata": {},
   "outputs": [],
   "source": [
    "train_lemm = train[['readme_lemm_no_swords', 'language']].copy()\n",
    "val_lemm = val[['readme_lemm_no_swords', 'language']].copy()\n",
    "test_lemm = test[['readme_lemm_no_swords', 'language']].copy()"
   ]
  },
  {
   "cell_type": "code",
   "execution_count": 68,
   "id": "87a476c7-217d-45a6-bf82-3315ef84720f",
   "metadata": {},
   "outputs": [],
   "source": [
    "X_train1, y_train1, X_val1, y_val1, X_test1, y_test1 = train_val_test(train_lemm, val_lemm, test_lemm, target_col)"
   ]
  },
  {
   "cell_type": "code",
   "execution_count": null,
   "id": "42002416-bd47-466d-8fe8-dcabb7b050dc",
   "metadata": {},
   "outputs": [],
   "source": []
  },
  {
   "cell_type": "code",
   "execution_count": 69,
   "id": "e239a9a5-7f6e-42be-bfdb-970397dd5b1e",
   "metadata": {},
   "outputs": [],
   "source": [
    "tfidf_l = TfidfVectorizer()\n",
    "X_train1 = tfidf_l.fit_transform(X_train1.readme_lemm_no_swords)\n",
    "X_val1 = tfidf_l.transform(X_val1.readme_lemm_no_swords)\n",
    "X_test1 = tfidf_l.transform(X_test1.readme_lemm_no_swords)"
   ]
  },
  {
   "cell_type": "code",
   "execution_count": 70,
   "id": "d364d902-1aca-4599-ad33-2e7c70fcd432",
   "metadata": {},
   "outputs": [
    {
     "data": {
      "text/plain": [
       "(200, 4665)"
      ]
     },
     "execution_count": 70,
     "metadata": {},
     "output_type": "execute_result"
    }
   ],
   "source": [
    "X_train1.shape"
   ]
  },
  {
   "cell_type": "code",
   "execution_count": 71,
   "id": "269b93af-97ba-44e6-84a6-81232b0e9da4",
   "metadata": {},
   "outputs": [
    {
     "data": {
      "text/plain": [
       "(200,)"
      ]
     },
     "execution_count": 71,
     "metadata": {},
     "output_type": "execute_result"
    }
   ],
   "source": [
    "y_train1.shape"
   ]
  },
  {
   "cell_type": "code",
   "execution_count": 72,
   "id": "556a9197-62ae-49ff-9dea-6488f39d6fc6",
   "metadata": {},
   "outputs": [],
   "source": [
    "train_l = pd.DataFrame(dict(actual=y_train1))\n",
    "val_l = pd.DataFrame(dict(actual=y_val1))\n",
    "#test_l = pd.DataFrame(dict(actual=y_test1))"
   ]
  },
  {
   "cell_type": "code",
   "execution_count": 73,
   "id": "fe33b407-e46c-4da1-8092-835af168e9aa",
   "metadata": {},
   "outputs": [],
   "source": [
    "lm_l = LogisticRegression().fit(X_train1, y_train1)"
   ]
  },
  {
   "cell_type": "code",
   "execution_count": 74,
   "id": "3aac5e32-810d-4c4d-aa3d-5e4b786530dd",
   "metadata": {},
   "outputs": [],
   "source": [
    "train_l['predicted'] = lm_l.predict(X_train1)\n",
    "val_l['predicted'] = lm_l.predict(X_val1)\n",
    "#test_l['predicted'] = lm_l.predict(X_test1)"
   ]
  },
  {
   "cell_type": "code",
   "execution_count": 75,
   "id": "a57acdcc-c1d1-4b3b-ba33-b0ac31b684ed",
   "metadata": {},
   "outputs": [
    {
     "name": "stdout",
     "output_type": "stream",
     "text": [
      "Accuracy: 94.50%\n",
      "---\n",
      "Confusion Matrix\n",
      "actual      C_based  Java  JavaScript  Other  Python  Ruby\n",
      "predicted                                                 \n",
      "C_based          13     0           0      0       0     0\n",
      "Java              2    25           3      2       1     3\n",
      "JavaScript        0     0          19      0       0     0\n",
      "Other             0     0           0     17       0     0\n",
      "Python            0     0           0      0      15     0\n",
      "Ruby              0     0           0      0       0   100\n",
      "---\n",
      "              precision    recall  f1-score   support\n",
      "\n",
      "     C_based       1.00      0.87      0.93        15\n",
      "        Java       0.69      1.00      0.82        25\n",
      "  JavaScript       1.00      0.86      0.93        22\n",
      "       Other       1.00      0.89      0.94        19\n",
      "      Python       1.00      0.94      0.97        16\n",
      "        Ruby       1.00      0.97      0.99       103\n",
      "\n",
      "    accuracy                           0.94       200\n",
      "   macro avg       0.95      0.92      0.93       200\n",
      "weighted avg       0.96      0.94      0.95       200\n",
      "\n"
     ]
    }
   ],
   "source": [
    "print('Accuracy: {:.2%}'.format(accuracy_score(train_l.actual, train_l.predicted)))\n",
    "print('---')\n",
    "print('Confusion Matrix')\n",
    "print(pd.crosstab(train_l.predicted, train_l.actual))\n",
    "print('---')\n",
    "print(classification_report(train_l.actual, train_l.predicted))"
   ]
  },
  {
   "cell_type": "code",
   "execution_count": 76,
   "id": "76d65db3-5055-4ea7-af3e-e39de0c2bde4",
   "metadata": {},
   "outputs": [
    {
     "name": "stdout",
     "output_type": "stream",
     "text": [
      "Accuracy: 67.16%\n",
      "---\n",
      "Confusion Matrix\n",
      "actual      C_based  Java  JavaScript  Other  Python  Ruby\n",
      "predicted                                                 \n",
      "Java              9    15           5      7       7     5\n",
      "JavaScript        0     1           3      5       0     0\n",
      "Other             0     0           4      5       0     0\n",
      "Python            1     0           0      0       4     0\n",
      "Ruby              0     0           0      0       0    63\n",
      "---\n",
      "              precision    recall  f1-score   support\n",
      "\n",
      "     C_based       0.00      0.00      0.00        10\n",
      "        Java       0.31      0.94      0.47        16\n",
      "  JavaScript       0.33      0.25      0.29        12\n",
      "       Other       0.56      0.29      0.38        17\n",
      "      Python       0.80      0.36      0.50        11\n",
      "        Ruby       1.00      0.93      0.96        68\n",
      "\n",
      "    accuracy                           0.67       134\n",
      "   macro avg       0.50      0.46      0.43       134\n",
      "weighted avg       0.71      0.67      0.66       134\n",
      "\n"
     ]
    },
    {
     "name": "stderr",
     "output_type": "stream",
     "text": [
      "/Users/joshholt/opt/anaconda3/lib/python3.9/site-packages/sklearn/metrics/_classification.py:1318: UndefinedMetricWarning: Precision and F-score are ill-defined and being set to 0.0 in labels with no predicted samples. Use `zero_division` parameter to control this behavior.\n",
      "  _warn_prf(average, modifier, msg_start, len(result))\n",
      "/Users/joshholt/opt/anaconda3/lib/python3.9/site-packages/sklearn/metrics/_classification.py:1318: UndefinedMetricWarning: Precision and F-score are ill-defined and being set to 0.0 in labels with no predicted samples. Use `zero_division` parameter to control this behavior.\n",
      "  _warn_prf(average, modifier, msg_start, len(result))\n",
      "/Users/joshholt/opt/anaconda3/lib/python3.9/site-packages/sklearn/metrics/_classification.py:1318: UndefinedMetricWarning: Precision and F-score are ill-defined and being set to 0.0 in labels with no predicted samples. Use `zero_division` parameter to control this behavior.\n",
      "  _warn_prf(average, modifier, msg_start, len(result))\n"
     ]
    }
   ],
   "source": [
    "print('Accuracy: {:.2%}'.format(accuracy_score(val_l.actual, val_l.predicted)))\n",
    "print('---')\n",
    "print('Confusion Matrix')\n",
    "print(pd.crosstab(val_l.predicted, val_l.actual))\n",
    "print('---')\n",
    "print(classification_report(val_l.actual, val_l.predicted))"
   ]
  },
  {
   "cell_type": "markdown",
   "id": "42fef4af-937f-4bdc-ab91-ebb2d9ccb244",
   "metadata": {},
   "source": [
    "#### Decission Tree Modeling"
   ]
  },
  {
   "cell_type": "code",
   "execution_count": 77,
   "id": "bfc92f87-d7f3-4b43-b951-25b57df81554",
   "metadata": {},
   "outputs": [],
   "source": [
    "X_train, y_train, X_val, y_val, X_test, y_test = train_val_test(train_lemm, val_lemm, test_lemm, target_col)"
   ]
  },
  {
   "cell_type": "code",
   "execution_count": 78,
   "id": "7899ee2b-c213-414a-9f01-9eb68b89c1b7",
   "metadata": {},
   "outputs": [
    {
     "data": {
      "text/html": [
       "<div>\n",
       "<style scoped>\n",
       "    .dataframe tbody tr th:only-of-type {\n",
       "        vertical-align: middle;\n",
       "    }\n",
       "\n",
       "    .dataframe tbody tr th {\n",
       "        vertical-align: top;\n",
       "    }\n",
       "\n",
       "    .dataframe thead th {\n",
       "        text-align: right;\n",
       "    }\n",
       "</style>\n",
       "<table border=\"1\" class=\"dataframe\">\n",
       "  <thead>\n",
       "    <tr style=\"text-align: right;\">\n",
       "      <th></th>\n",
       "      <th>readme_lemm_no_swords</th>\n",
       "      <th>language</th>\n",
       "    </tr>\n",
       "  </thead>\n",
       "  <tbody>\n",
       "    <tr>\n",
       "      <th>102</th>\n",
       "      <td>simplified procedural learning goal utilize lo...</td>\n",
       "      <td>Ruby</td>\n",
       "    </tr>\n",
       "    <tr>\n",
       "      <th>275</th>\n",
       "      <td>evolutionarynet evolutionarynet artificial int...</td>\n",
       "      <td>C_based</td>\n",
       "    </tr>\n",
       "    <tr>\n",
       "      <th>136</th>\n",
       "      <td>simplified procedural learning goal utilize lo...</td>\n",
       "      <td>Ruby</td>\n",
       "    </tr>\n",
       "    <tr>\n",
       "      <th>63</th>\n",
       "      <td>react app card game built react using typescri...</td>\n",
       "      <td>Other</td>\n",
       "    </tr>\n",
       "    <tr>\n",
       "      <th>394</th>\n",
       "      <td>simplified procedural learning goal utilize lo...</td>\n",
       "      <td>Ruby</td>\n",
       "    </tr>\n",
       "  </tbody>\n",
       "</table>\n",
       "</div>"
      ],
      "text/plain": [
       "                                 readme_lemm_no_swords language\n",
       "102  simplified procedural learning goal utilize lo...     Ruby\n",
       "275  evolutionarynet evolutionarynet artificial int...  C_based\n",
       "136  simplified procedural learning goal utilize lo...     Ruby\n",
       "63   react app card game built react using typescri...    Other\n",
       "394  simplified procedural learning goal utilize lo...     Ruby"
      ]
     },
     "execution_count": 78,
     "metadata": {},
     "output_type": "execute_result"
    }
   ],
   "source": [
    "train_lemm.head()"
   ]
  },
  {
   "cell_type": "code",
   "execution_count": 79,
   "id": "72743f85-aa9d-42de-9d64-b2bc5f665431",
   "metadata": {},
   "outputs": [],
   "source": [
    "tfidf = TfidfVectorizer()"
   ]
  },
  {
   "cell_type": "code",
   "execution_count": 80,
   "id": "6bb2940f-770c-4e05-afad-7a8e0606fb3d",
   "metadata": {},
   "outputs": [],
   "source": [
    "X_train = tfidf.fit_transform(X_train['readme_lemm_no_swords'])"
   ]
  },
  {
   "cell_type": "code",
   "execution_count": 81,
   "id": "759ddb5a-6d68-48f2-b1c6-4efd94349132",
   "metadata": {},
   "outputs": [],
   "source": [
    "X_val = tfidf.transform(X_val['readme_lemm_no_swords'])"
   ]
  },
  {
   "cell_type": "code",
   "execution_count": 82,
   "id": "834d7300-1e2e-4482-86ca-e5811fbfa457",
   "metadata": {},
   "outputs": [],
   "source": [
    "X_val = pd.DataFrame(X_val.todense())"
   ]
  },
  {
   "cell_type": "code",
   "execution_count": 83,
   "id": "fd979c56-f74a-48b8-94dc-c1840d61a2f5",
   "metadata": {},
   "outputs": [],
   "source": [
    "X_train = pd.DataFrame(X_train.todense())"
   ]
  },
  {
   "cell_type": "code",
   "execution_count": 84,
   "id": "e8e5de07-d3e8-4f27-9193-94ebc1c50207",
   "metadata": {},
   "outputs": [],
   "source": [
    "clf = DecisionTreeClassifier(max_depth=6, random_state=77)"
   ]
  },
  {
   "cell_type": "code",
   "execution_count": 85,
   "id": "219c6886-d2a0-4079-a693-0a246f97459b",
   "metadata": {},
   "outputs": [
    {
     "data": {
      "text/plain": [
       "DecisionTreeClassifier(max_depth=6, random_state=77)"
      ]
     },
     "execution_count": 85,
     "metadata": {},
     "output_type": "execute_result"
    }
   ],
   "source": [
    "clf.fit(X_train, y_train)"
   ]
  },
  {
   "cell_type": "code",
   "execution_count": 86,
   "id": "5fa560ec-fd18-4baf-b7fc-15e351b210bd",
   "metadata": {},
   "outputs": [],
   "source": [
    "y_pred = clf.predict(X_train)"
   ]
  },
  {
   "cell_type": "code",
   "execution_count": 87,
   "id": "430684c1-53aa-40bf-aec4-96d5f4e75f00",
   "metadata": {},
   "outputs": [],
   "source": [
    "y_pred_proba = clf.predict_proba(X_train)"
   ]
  },
  {
   "cell_type": "code",
   "execution_count": 88,
   "id": "0a90d804-5f1a-41c9-b636-7810025ca78b",
   "metadata": {},
   "outputs": [
    {
     "name": "stdout",
     "output_type": "stream",
     "text": [
      "Accuracy of Decision Tree classifier on training set: 0.77\n"
     ]
    }
   ],
   "source": [
    "print('Accuracy of Decision Tree classifier on training set: {:.2f}'\n",
    "      .format(clf.score(X_train, y_train)))"
   ]
  },
  {
   "cell_type": "code",
   "execution_count": 89,
   "id": "af55fe41-9a22-48c7-b386-fe40727d08b5",
   "metadata": {},
   "outputs": [
    {
     "data": {
      "text/html": [
       "<div>\n",
       "<style scoped>\n",
       "    .dataframe tbody tr th:only-of-type {\n",
       "        vertical-align: middle;\n",
       "    }\n",
       "\n",
       "    .dataframe tbody tr th {\n",
       "        vertical-align: top;\n",
       "    }\n",
       "\n",
       "    .dataframe thead th {\n",
       "        text-align: right;\n",
       "    }\n",
       "</style>\n",
       "<table border=\"1\" class=\"dataframe\">\n",
       "  <thead>\n",
       "    <tr style=\"text-align: right;\">\n",
       "      <th>col_0</th>\n",
       "      <th>Java</th>\n",
       "      <th>JavaScript</th>\n",
       "      <th>Other</th>\n",
       "      <th>Python</th>\n",
       "      <th>Ruby</th>\n",
       "    </tr>\n",
       "    <tr>\n",
       "      <th>language</th>\n",
       "      <th></th>\n",
       "      <th></th>\n",
       "      <th></th>\n",
       "      <th></th>\n",
       "      <th></th>\n",
       "    </tr>\n",
       "  </thead>\n",
       "  <tbody>\n",
       "    <tr>\n",
       "      <th>C_based</th>\n",
       "      <td>15</td>\n",
       "      <td>0</td>\n",
       "      <td>0</td>\n",
       "      <td>0</td>\n",
       "      <td>0</td>\n",
       "    </tr>\n",
       "    <tr>\n",
       "      <th>Java</th>\n",
       "      <td>25</td>\n",
       "      <td>0</td>\n",
       "      <td>0</td>\n",
       "      <td>0</td>\n",
       "      <td>0</td>\n",
       "    </tr>\n",
       "    <tr>\n",
       "      <th>JavaScript</th>\n",
       "      <td>11</td>\n",
       "      <td>11</td>\n",
       "      <td>0</td>\n",
       "      <td>0</td>\n",
       "      <td>0</td>\n",
       "    </tr>\n",
       "    <tr>\n",
       "      <th>Other</th>\n",
       "      <td>13</td>\n",
       "      <td>0</td>\n",
       "      <td>6</td>\n",
       "      <td>0</td>\n",
       "      <td>0</td>\n",
       "    </tr>\n",
       "    <tr>\n",
       "      <th>Python</th>\n",
       "      <td>5</td>\n",
       "      <td>0</td>\n",
       "      <td>0</td>\n",
       "      <td>11</td>\n",
       "      <td>0</td>\n",
       "    </tr>\n",
       "    <tr>\n",
       "      <th>Ruby</th>\n",
       "      <td>2</td>\n",
       "      <td>0</td>\n",
       "      <td>0</td>\n",
       "      <td>0</td>\n",
       "      <td>101</td>\n",
       "    </tr>\n",
       "  </tbody>\n",
       "</table>\n",
       "</div>"
      ],
      "text/plain": [
       "col_0       Java  JavaScript  Other  Python  Ruby\n",
       "language                                         \n",
       "C_based       15           0      0       0     0\n",
       "Java          25           0      0       0     0\n",
       "JavaScript    11          11      0       0     0\n",
       "Other         13           0      6       0     0\n",
       "Python         5           0      0      11     0\n",
       "Ruby           2           0      0       0   101"
      ]
     },
     "execution_count": 89,
     "metadata": {},
     "output_type": "execute_result"
    }
   ],
   "source": [
    "pd.crosstab(y_train, y_pred)"
   ]
  },
  {
   "cell_type": "code",
   "execution_count": 90,
   "id": "1a0ffdf3-71f6-40a5-bcce-92cc294abcc5",
   "metadata": {},
   "outputs": [],
   "source": [
    "val_pred = clf.predict(X_val)"
   ]
  },
  {
   "cell_type": "code",
   "execution_count": 91,
   "id": "a5cb1e5a-afce-4e10-bde0-5a26a243d517",
   "metadata": {},
   "outputs": [
    {
     "name": "stdout",
     "output_type": "stream",
     "text": [
      "Accuracy of Decision Tree classifier on training set: 0.63\n"
     ]
    }
   ],
   "source": [
    "print('Accuracy of Decision Tree classifier on training set: {:.2f}'\n",
    "      .format(clf.score(X_val, y_val)))"
   ]
  },
  {
   "cell_type": "markdown",
   "id": "84fb6139-c20c-4ed7-be92-e7005aee8f16",
   "metadata": {},
   "source": [
    "#### Random Forest Modeling"
   ]
  },
  {
   "cell_type": "code",
   "execution_count": 92,
   "id": "2081e268-b73c-4c59-a861-cfd8bbe8578d",
   "metadata": {},
   "outputs": [],
   "source": [
    "rf = RandomForestClassifier(bootstrap=True, \n",
    "                            class_weight=None, \n",
    "                            criterion='gini',\n",
    "                            min_samples_leaf=5,\n",
    "                            n_estimators=250,\n",
    "                            max_depth=6, \n",
    "                            random_state=77)"
   ]
  },
  {
   "cell_type": "code",
   "execution_count": 93,
   "id": "5f606887-0d1b-49e2-85d0-9540b55502a2",
   "metadata": {},
   "outputs": [
    {
     "data": {
      "text/plain": [
       "RandomForestClassifier(max_depth=6, min_samples_leaf=5, n_estimators=250,\n",
       "                       random_state=77)"
      ]
     },
     "execution_count": 93,
     "metadata": {},
     "output_type": "execute_result"
    }
   ],
   "source": [
    "rf.fit(X_train, y_train)"
   ]
  },
  {
   "cell_type": "code",
   "execution_count": 94,
   "id": "74c997e4-cd4c-4518-9743-7aa1cbcbdd58",
   "metadata": {},
   "outputs": [],
   "source": [
    "rf_pred = rf.predict(X_train)"
   ]
  },
  {
   "cell_type": "code",
   "execution_count": 95,
   "id": "49c12149-8576-4479-9bec-43f969d0c62a",
   "metadata": {},
   "outputs": [
    {
     "name": "stdout",
     "output_type": "stream",
     "text": [
      "Accuracy of random forest classifier on training set: 0.80\n"
     ]
    }
   ],
   "source": [
    "print('Accuracy of random forest classifier on training set: {:.2f}'\n",
    "     .format(rf.score(X_train, y_train)))"
   ]
  },
  {
   "cell_type": "code",
   "execution_count": 96,
   "id": "04c66abc-6014-4bdd-a6e1-1385e8e5a761",
   "metadata": {},
   "outputs": [],
   "source": [
    "rf2_pred = rf.predict(X_val)"
   ]
  },
  {
   "cell_type": "code",
   "execution_count": 97,
   "id": "a6cd92d6-1a79-4ff9-a0e3-0bee18ce972d",
   "metadata": {},
   "outputs": [
    {
     "name": "stdout",
     "output_type": "stream",
     "text": [
      "Accuracy of random forest classifier on training set: 0.66\n"
     ]
    }
   ],
   "source": [
    "print('Accuracy of random forest classifier on training set: {:.2f}'\n",
    "     .format(rf.score(X_val, y_val)))"
   ]
  },
  {
   "cell_type": "code",
   "execution_count": 98,
   "id": "1ec01e67-2223-4e67-84d8-d219f627acb1",
   "metadata": {},
   "outputs": [
    {
     "data": {
      "text/plain": [
       "0.515"
      ]
     },
     "execution_count": 98,
     "metadata": {},
     "output_type": "execute_result"
    }
   ],
   "source": [
    "len(train_lemm[train_lemm['language'] == 'Ruby'])/len(train_lemm)"
   ]
  },
  {
   "cell_type": "code",
   "execution_count": null,
   "id": "ff8b438f-7787-4163-8030-4d3b60636695",
   "metadata": {},
   "outputs": [],
   "source": []
  }
 ],
 "metadata": {
  "kernelspec": {
   "display_name": "Python 3 (ipykernel)",
   "language": "python",
   "name": "python3"
  },
  "language_info": {
   "codemirror_mode": {
    "name": "ipython",
    "version": 3
   },
   "file_extension": ".py",
   "mimetype": "text/x-python",
   "name": "python",
   "nbconvert_exporter": "python",
   "pygments_lexer": "ipython3",
   "version": "3.9.15"
  }
 },
 "nbformat": 4,
 "nbformat_minor": 5
}
